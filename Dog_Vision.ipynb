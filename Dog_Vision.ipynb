{
  "nbformat": 4,
  "nbformat_minor": 0,
  "metadata": {
    "accelerator": "GPU",
    "colab": {
      "name": "Dog-Vision.ipynb",
      "provenance": [],
      "collapsed_sections": []
    },
    "kernelspec": {
      "display_name": "Python 3",
      "name": "python3"
    },
    "language_info": {
      "name": "python"
    }
  },
  "cells": [
    {
      "cell_type": "markdown",
      "metadata": {
        "id": "wZrRI4GSNfUb"
      },
      "source": [
        "# End to end dog breed prediction"
      ]
    },
    {
      "cell_type": "markdown",
      "metadata": {
        "id": "lgeVxtyvO1_e"
      },
      "source": [
        "### Get our workspace ready"
      ]
    },
    {
      "cell_type": "code",
      "metadata": {
        "colab": {
          "base_uri": "https://localhost:8080/"
        },
        "id": "lucA-OVtO8vf",
        "outputId": "5bded5b2-4408-4460-c16b-fd2735cca66e"
      },
      "source": [
        "import tensorflow as tf\n",
        "print(\"TF version:\", tf.__version__)"
      ],
      "execution_count": 15,
      "outputs": [
        {
          "output_type": "stream",
          "text": [
            "TF version: 2.4.1\n"
          ],
          "name": "stdout"
        }
      ]
    },
    {
      "cell_type": "code",
      "metadata": {
        "colab": {
          "base_uri": "https://localhost:8080/"
        },
        "id": "Q0KlA1RrcL3W",
        "outputId": "ecefde8b-7442-4ac9-9d0a-f5a946e4f568"
      },
      "source": [
        "# import necessary tools\n",
        "import tensorflow as tf\n",
        "import tensorflow_hub as hub\n",
        "print(\"TF version:\", tf.__version__)\n",
        "print(\"TF Hub version:\", hub.__version__)\n",
        "\n",
        "# Check for availibility\n",
        "print(\"GPU\", \"available (yessss)\" if tf.config.list_physical_devices(\"GPU\") else \"not avilable :(\")"
      ],
      "execution_count": 14,
      "outputs": [
        {
          "output_type": "stream",
          "text": [
            "TF version: 2.4.1\n",
            "TF Hub version: 0.12.0\n",
            "GPU available (yessss)\n"
          ],
          "name": "stdout"
        }
      ]
    },
    {
      "cell_type": "markdown",
      "metadata": {
        "id": "Aj_6aVOSh6G-"
      },
      "source": [
        "### Getting our data ready\n",
        "\n",
        "#### we have to convert our data into numerical format "
      ]
    },
    {
      "cell_type": "code",
      "metadata": {
        "colab": {
          "base_uri": "https://localhost:8080/"
        },
        "id": "JHmY8gE7iPuk",
        "outputId": "3555c395-0621-4d62-9c0c-8a52135f2672"
      },
      "source": [
        "import pandas as pd\n",
        "labels_csv = pd.read_csv(\"drive/MyDrive/Dog Vision/labels.csv\")\n",
        "print(labels_csv.describe())\n",
        "print(labels_csv.head())"
      ],
      "execution_count": 13,
      "outputs": [
        {
          "output_type": "stream",
          "text": [
            "                                      id               breed\n",
            "count                              10222               10222\n",
            "unique                             10222                 120\n",
            "top     f811a137cac1489f074529064f79acfe  scottish_deerhound\n",
            "freq                                   1                 126\n",
            "                                 id             breed\n",
            "0  000bec180eb18c7604dcecc8fe0dba07       boston_bull\n",
            "1  001513dfcb2ffafc82cccf4d8bbaba97             dingo\n",
            "2  001cdf01b096e06d78e9e5112d419397          pekinese\n",
            "3  00214f311d5d2247d5dfe4fe24b2303d          bluetick\n",
            "4  0021f9ceb3235effd7fcde7f7538ed62  golden_retriever\n"
          ],
          "name": "stdout"
        }
      ]
    },
    {
      "cell_type": "code",
      "metadata": {
        "colab": {
          "base_uri": "https://localhost:8080/",
          "height": 195
        },
        "id": "TXojCmo-jAP2",
        "outputId": "a482117b-5a5b-4205-b901-ed5ba7281ab8"
      },
      "source": [
        "labels_csv.head()"
      ],
      "execution_count": 26,
      "outputs": [
        {
          "output_type": "execute_result",
          "data": {
            "text/html": [
              "<div>\n",
              "<style scoped>\n",
              "    .dataframe tbody tr th:only-of-type {\n",
              "        vertical-align: middle;\n",
              "    }\n",
              "\n",
              "    .dataframe tbody tr th {\n",
              "        vertical-align: top;\n",
              "    }\n",
              "\n",
              "    .dataframe thead th {\n",
              "        text-align: right;\n",
              "    }\n",
              "</style>\n",
              "<table border=\"1\" class=\"dataframe\">\n",
              "  <thead>\n",
              "    <tr style=\"text-align: right;\">\n",
              "      <th></th>\n",
              "      <th>id</th>\n",
              "      <th>breed</th>\n",
              "    </tr>\n",
              "  </thead>\n",
              "  <tbody>\n",
              "    <tr>\n",
              "      <th>0</th>\n",
              "      <td>000bec180eb18c7604dcecc8fe0dba07</td>\n",
              "      <td>boston_bull</td>\n",
              "    </tr>\n",
              "    <tr>\n",
              "      <th>1</th>\n",
              "      <td>001513dfcb2ffafc82cccf4d8bbaba97</td>\n",
              "      <td>dingo</td>\n",
              "    </tr>\n",
              "    <tr>\n",
              "      <th>2</th>\n",
              "      <td>001cdf01b096e06d78e9e5112d419397</td>\n",
              "      <td>pekinese</td>\n",
              "    </tr>\n",
              "    <tr>\n",
              "      <th>3</th>\n",
              "      <td>00214f311d5d2247d5dfe4fe24b2303d</td>\n",
              "      <td>bluetick</td>\n",
              "    </tr>\n",
              "    <tr>\n",
              "      <th>4</th>\n",
              "      <td>0021f9ceb3235effd7fcde7f7538ed62</td>\n",
              "      <td>golden_retriever</td>\n",
              "    </tr>\n",
              "  </tbody>\n",
              "</table>\n",
              "</div>"
            ],
            "text/plain": [
              "                                 id             breed\n",
              "0  000bec180eb18c7604dcecc8fe0dba07       boston_bull\n",
              "1  001513dfcb2ffafc82cccf4d8bbaba97             dingo\n",
              "2  001cdf01b096e06d78e9e5112d419397          pekinese\n",
              "3  00214f311d5d2247d5dfe4fe24b2303d          bluetick\n",
              "4  0021f9ceb3235effd7fcde7f7538ed62  golden_retriever"
            ]
          },
          "metadata": {
            "tags": []
          },
          "execution_count": 26
        }
      ]
    },
    {
      "cell_type": "code",
      "metadata": {
        "colab": {
          "base_uri": "https://localhost:8080/",
          "height": 708
        },
        "id": "r1rRd07pjHls",
        "outputId": "efd8c635-a7ac-423c-abdd-4fa6bb05a32b"
      },
      "source": [
        "# How many images are there of each breed ?\n",
        "labels_csv[\"breed\"].value_counts().plot.bar(figsize=(20, 10));"
      ],
      "execution_count": 27,
      "outputs": [
        {
          "output_type": "display_data",
          "data": {
            "image/png": "[encoded data removed]",
            "text/plain": [
              "<Figure size 1440x720 with 1 Axes>"
            ]
          },
          "metadata": {
            "tags": [],
            "needs_background": "light"
          }
        }
      ]
    },
    {
      "cell_type": "code",
      "metadata": {
        "colab": {
          "base_uri": "https://localhost:8080/"
        },
        "id": "JpfvgwNckZeu",
        "outputId": "d888d221-0322-42f8-bda5-9113bcde6360"
      },
      "source": [
        "labels_csv[\"breed\"].value_counts().median()"
      ],
      "execution_count": 28,
      "outputs": [
        {
          "output_type": "execute_result",
          "data": {
            "text/plain": [
              "82.0"
            ]
          },
          "metadata": {
            "tags": []
          },
          "execution_count": 28
        }
      ]
    },
    {
      "cell_type": "code",
      "metadata": {
        "colab": {
          "base_uri": "https://localhost:8080/",
          "height": 392
        },
        "id": "W0TNmwPulHgX",
        "outputId": "f8886ffb-fe5b-47ad-87c1-eda139f1bcb3"
      },
      "source": [
        "# let's view an image\n",
        "from IPython.display import Image\n",
        "Image(\"drive/MyDrive/Dog Vision/train/001cdf01b096e06d78e9e5112d419397.jpg\")"
      ],
      "execution_count": 29,
      "outputs": [
        {
          "output_type": "execute_result",
          "data": {
            "image/jpeg": "[encoded data removed]",
            "text/plain": [
              "<IPython.core.display.Image object>"
            ]
          },
          "metadata": {
            "tags": []
          },
          "execution_count": 29
        }
      ]
    },
    {
      "cell_type": "code",
      "metadata": {
        "colab": {
          "base_uri": "https://localhost:8080/"
        },
        "id": "mSJqvBIcm4SI",
        "outputId": "ea1df9bb-c8ba-4bf9-cfec-9d359827af31"
      },
      "source": [
        "# Create pathname from Image ID\"s\n",
        "filenames = [\"drive/MyDrive/Dog Vision/train/\" + fname + \".jpg\" for fname in labels_csv[\"id\"]]\n",
        "filenames"
      ],
      "execution_count": 30,
      "outputs": [
        {
          "output_type": "execute_result",
          "data": {
            "text/plain": [
              "['drive/MyDrive/Dog Vision/train/000bec180eb18c7604dcecc8fe0dba07.jpg',\n",
              " 'drive/MyDrive/Dog Vision/train/001513dfcb2ffafc82cccf4d8bbaba97.jpg',\n",
              " 'drive/MyDrive/Dog Vision/train/001cdf01b096e06d78e9e5112d419397.jpg',\n",
              " 'drive/MyDrive/Dog Vision/train/00214f311d5d2247d5dfe4fe24b2303d.jpg',\n",
              " 'drive/MyDrive/Dog Vision/train/0021f9ceb3235effd7fcde7f7538ed62.jpg',\n",
              " 'drive/MyDrive/Dog Vision/train/002211c81b498ef88e1b40b9abf84e1d.jpg',\n",
              " 'drive/MyDrive/Dog Vision/train/00290d3e1fdd27226ba27a8ce248ce85.jpg',\n",
              " 'drive/MyDrive/Dog Vision/train/002a283a315af96eaea0e28e7163b21b.jpg',\n",
              " 'drive/MyDrive/Dog Vision/train/003df8b8a8b05244b1d920bb6cf451f9.jpg',\n",
              " 'drive/MyDrive/Dog Vision/train/0042188c895a2f14ef64a918ed9c7b64.jpg',\n",
              " 'drive/MyDrive/Dog Vision/train/004396df1acd0f1247b740ca2b14616e.jpg',\n",
              " 'drive/MyDrive/Dog Vision/train/0067dc3eab0b3c3ef0439477624d85d6.jpg',\n",
              " 'drive/MyDrive/Dog Vision/train/00693b8bc2470375cc744a6391d397ec.jpg',\n",
              " 'drive/MyDrive/Dog Vision/train/006cc3ddb9dc1bd827479569fcdc52dc.jpg',\n",
              " 'drive/MyDrive/Dog Vision/train/0075dc49dab4024d12fafe67074d8a81.jpg',\n",
              " 'drive/MyDrive/Dog Vision/train/00792e341f3c6eb33663e415d0715370.jpg',\n",
              " 'drive/MyDrive/Dog Vision/train/007b5a16db9d9ff9d7ad39982703e429.jpg',\n",
              " 'drive/MyDrive/Dog Vision/train/007b8a07882822475a4ce6581e70b1f8.jpg',\n",
              " 'drive/MyDrive/Dog Vision/train/007ff9a78eba2aebb558afea3a51c469.jpg',\n",
              " 'drive/MyDrive/Dog Vision/train/008887054b18ba3c7601792b6a453cc3.jpg',\n",
              " 'drive/MyDrive/Dog Vision/train/008b1271ed1addaccf93783b39deab45.jpg',\n",
              " 'drive/MyDrive/Dog Vision/train/008ba178d6dfc1a583617470d19c1673.jpg',\n",
              " 'drive/MyDrive/Dog Vision/train/009509be3ca7cce0ff9e37c8b09b1125.jpg',\n",
              " 'drive/MyDrive/Dog Vision/train/0097c6242c6f3071762d9f85c3ef1b2f.jpg',\n",
              " 'drive/MyDrive/Dog Vision/train/00a338a92e4e7bf543340dc849230e75.jpg',\n",
              " 'drive/MyDrive/Dog Vision/train/00a366d4b4a9bbb6c8a63126697b7656.jpg',\n",
              " 'drive/MyDrive/Dog Vision/train/00a862390341c5be090dd72bd2bc19ef.jpg',\n",
              " 'drive/MyDrive/Dog Vision/train/00b7d114bc5166a629a3cc03d9329120.jpg',\n",
              " 'drive/MyDrive/Dog Vision/train/00ba244566e36e0af3d979320fd3017f.jpg',\n",
              " 'drive/MyDrive/Dog Vision/train/00bee065dcec471f26394855c5c2f3de.jpg',\n",
              " 'drive/MyDrive/Dog Vision/train/00ca18751837cd6a22813f8e221f7819.jpg',\n",
              " 'drive/MyDrive/Dog Vision/train/00cc68a50b2d016a6b29af628ea4e04b.jpg',\n",
              " 'drive/MyDrive/Dog Vision/train/00ddcec076073cc96f82c27bf4548fbc.jpg',\n",
              " 'drive/MyDrive/Dog Vision/train/00e9ed3fab1d2032603d1a90e557976f.jpg',\n",
              " 'drive/MyDrive/Dog Vision/train/00f34ac0a16ef43e6fd1de49a26081ce.jpg',\n",
              " 'drive/MyDrive/Dog Vision/train/00fa641312604199831755f96109fde7.jpg',\n",
              " 'drive/MyDrive/Dog Vision/train/00fda6ecca54efbac26e907be4b0b78b.jpg',\n",
              " 'drive/MyDrive/Dog Vision/train/0100f55e4f0fe28f2c0465d3fc4b9897.jpg',\n",
              " 'drive/MyDrive/Dog Vision/train/010d65bd29d246aea53d9849da142ccf.jpg',\n",
              " 'drive/MyDrive/Dog Vision/train/010e87fdf252645a827e37470e65e842.jpg',\n",
              " 'drive/MyDrive/Dog Vision/train/011761e3ae8ec5e188e8f0bcb59bb8b6.jpg',\n",
              " 'drive/MyDrive/Dog Vision/train/011bd7fd7c036dbb243d0e37329c77b7.jpg',\n",
              " 'drive/MyDrive/Dog Vision/train/011e06760794850c40f23d6426c40774.jpg',\n",
              " 'drive/MyDrive/Dog Vision/train/0120343862761d052d6a7ade81625c94.jpg',\n",
              " 'drive/MyDrive/Dog Vision/train/01268f0007876a692907bda89468184c.jpg',\n",
              " 'drive/MyDrive/Dog Vision/train/012ff2d21dad14452ea16b4cda7eef4c.jpg',\n",
              " 'drive/MyDrive/Dog Vision/train/013aed490e0e15a8989e12ae0d0ccfaa.jpg',\n",
              " 'drive/MyDrive/Dog Vision/train/013c43f40f0fb13fa25ac0c2a70fd48f.jpg',\n",
              " 'drive/MyDrive/Dog Vision/train/013f8fdf6d638c7bb042f5f17e8a9fdc.jpg',\n",
              " 'drive/MyDrive/Dog Vision/train/0140b05bfc2fd43f2819fab3d8566109.jpg',\n",
              " 'drive/MyDrive/Dog Vision/train/014c2b0cd8e3b517e649cecf8543b8fe.jpg',\n",
              " 'drive/MyDrive/Dog Vision/train/0159b6457aac89f43d1c1931cdf7500b.jpg',\n",
              " 'drive/MyDrive/Dog Vision/train/015b363b062f602e7ec04ce28e640d05.jpg',\n",
              " 'drive/MyDrive/Dog Vision/train/015b4aa50dd9b4a0d26dc0c38f41b489.jpg',\n",
              " 'drive/MyDrive/Dog Vision/train/015d86b2fcb36f0fdfbe94a66c0e3400.jpg',\n",
              " 'drive/MyDrive/Dog Vision/train/0161847d5bfae154af084993fa26a1a7.jpg',\n",
              " 'drive/MyDrive/Dog Vision/train/0162107acd8f2588c0944b791d61bb0c.jpg',\n",
              " 'drive/MyDrive/Dog Vision/train/0162b3e0144fb1d1ab82fbff3ace9938.jpg',\n",
              " 'drive/MyDrive/Dog Vision/train/01680178ca6664294efb493a46014a82.jpg',\n",
              " 'drive/MyDrive/Dog Vision/train/0169294085e94d1250587b38e4fbb532.jpg',\n",
              " 'drive/MyDrive/Dog Vision/train/016bcdb05e2d0e0878877df21b8c3cff.jpg',\n",
              " 'drive/MyDrive/Dog Vision/train/0177a92a906192bfde8adbb8a237e524.jpg',\n",
              " 'drive/MyDrive/Dog Vision/train/018aae5768833c34e3df30d63429251e.jpg',\n",
              " 'drive/MyDrive/Dog Vision/train/0192d7174233ebdb3d720000413829ac.jpg',\n",
              " 'drive/MyDrive/Dog Vision/train/019c92d1ff56deb9d75d809a92bc84d8.jpg',\n",
              " 'drive/MyDrive/Dog Vision/train/019ff93e03802e661577b5869e099dcb.jpg',\n",
              " 'drive/MyDrive/Dog Vision/train/01a3b064c56edbe3abf55051b16134d4.jpg',\n",
              " 'drive/MyDrive/Dog Vision/train/01a41985ab8209e750588fa348d635be.jpg',\n",
              " 'drive/MyDrive/Dog Vision/train/01b09bdac592b0eb9909dd105314ad3a.jpg',\n",
              " 'drive/MyDrive/Dog Vision/train/01b35a06b00e4a832b935cf8d51303c1.jpg',\n",
              " 'drive/MyDrive/Dog Vision/train/01b36cb1b80ab8c3a7d2b7128ad21bdc.jpg',\n",
              " 'drive/MyDrive/Dog Vision/train/01b6c2bd3053535a58d8de763cf06aa0.jpg',\n",
              " 'drive/MyDrive/Dog Vision/train/01b849a7e4fbc545f6b2806cb87ab371.jpg',\n",
              " 'drive/MyDrive/Dog Vision/train/01c230ec18eed427cf5b1db1a833024d.jpg',\n",
              " 'drive/MyDrive/Dog Vision/train/01d0f3692e576b3cde511285352aed4a.jpg',\n",
              " 'drive/MyDrive/Dog Vision/train/01de1f7b7b4465a6d130a56746af66a6.jpg',\n",
              " 'drive/MyDrive/Dog Vision/train/01dffcb02d6cba7d2b101fcc93daa6f1.jpg',\n",
              " 'drive/MyDrive/Dog Vision/train/01e2245b46eb747260ff80f1c892daef.jpg',\n",
              " 'drive/MyDrive/Dog Vision/train/01e4d3d1cb704ed819bce35d22e716a7.jpg',\n",
              " 'drive/MyDrive/Dog Vision/train/01e787576c003930f96c966f9c3e1d44.jpg',\n",
              " 'drive/MyDrive/Dog Vision/train/01ee3c7ff9bcaba9874183135877670e.jpg',\n",
              " 'drive/MyDrive/Dog Vision/train/01f397f16fb2d7d76fdbce4e2207c1a3.jpg',\n",
              " 'drive/MyDrive/Dog Vision/train/01f429667104c0c5a5f321700f15435c.jpg',\n",
              " 'drive/MyDrive/Dog Vision/train/01f8540fb1084107a6eb3e528f82c1aa.jpg',\n",
              " 'drive/MyDrive/Dog Vision/train/0206c12e8984e3c8a166cc272de25d6f.jpg',\n",
              " 'drive/MyDrive/Dog Vision/train/0207803a6ce1bfad98e7f095c965e44a.jpg',\n",
              " 'drive/MyDrive/Dog Vision/train/020ecfccf3c900b01ce831abbf20b485.jpg',\n",
              " 'drive/MyDrive/Dog Vision/train/0214e2d616ec7eb7cb0d8c19a7f29e70.jpg',\n",
              " 'drive/MyDrive/Dog Vision/train/021b5a49189665c0442c19b5b33e8cf1.jpg',\n",
              " 'drive/MyDrive/Dog Vision/train/0229677aec75183a16de9d6f6658fae2.jpg',\n",
              " 'drive/MyDrive/Dog Vision/train/022b34fd8734b39995a9f38a4f3e7b6b.jpg',\n",
              " 'drive/MyDrive/Dog Vision/train/0234695e7a548e2ad1b2ac91d6486c1c.jpg',\n",
              " 'drive/MyDrive/Dog Vision/train/023e4e28415506e0deddcbd8f8bdab29.jpg',\n",
              " 'drive/MyDrive/Dog Vision/train/0246f44bb123ce3f91c939861eb97fb7.jpg',\n",
              " 'drive/MyDrive/Dog Vision/train/024ecfa590271db8616bfaa59159d7b2.jpg',\n",
              " 'drive/MyDrive/Dog Vision/train/024fc0be976885d5cfcf6770239a9001.jpg',\n",
              " 'drive/MyDrive/Dog Vision/train/024fd994941146f8dfdb38a9b2b74efd.jpg',\n",
              " 'drive/MyDrive/Dog Vision/train/02508e76981e1ba059d785704b4c480c.jpg',\n",
              " 'drive/MyDrive/Dog Vision/train/0255a5bca3b9d91d4fdba8d7419b5e69.jpg',\n",
              " 'drive/MyDrive/Dog Vision/train/025bab46ddcde249d5c52c660fea6d26.jpg',\n",
              " 'drive/MyDrive/Dog Vision/train/025d903b457b865fd29424916e42fbc2.jpg',\n",
              " 'drive/MyDrive/Dog Vision/train/0264c5fcaaba5e31082395476447b254.jpg',\n",
              " 'drive/MyDrive/Dog Vision/train/0267c5f1acbab52ae4a7927e0398612b.jpg',\n",
              " 'drive/MyDrive/Dog Vision/train/0270276158566af50ef48b1284c998d6.jpg',\n",
              " 'drive/MyDrive/Dog Vision/train/02777bdfcf9f1a593af768e6616df4b3.jpg',\n",
              " 'drive/MyDrive/Dog Vision/train/0287b3374c33346e2b41f73af3a36261.jpg',\n",
              " 'drive/MyDrive/Dog Vision/train/029202b0cf0b5d6d48c6ce7b432409ef.jpg',\n",
              " 'drive/MyDrive/Dog Vision/train/0294b42910cb8a8d8340e45d8aaf2953.jpg',\n",
              " 'drive/MyDrive/Dog Vision/train/0296633efc21006e3ce2af7eaeff04f7.jpg',\n",
              " 'drive/MyDrive/Dog Vision/train/029ed6af5dcadfd105db9271e12ede14.jpg',\n",
              " 'drive/MyDrive/Dog Vision/train/02a3edc1d6aae095185131fe185478e0.jpg',\n",
              " 'drive/MyDrive/Dog Vision/train/02a8ed20109bd62bd5894f276c08c8a2.jpg',\n",
              " 'drive/MyDrive/Dog Vision/train/02ad779f2721db9364d3bb68f5580582.jpg',\n",
              " 'drive/MyDrive/Dog Vision/train/02b1c50fb7315423a664f3ce68c94e30.jpg',\n",
              " 'drive/MyDrive/Dog Vision/train/02c48781eff39a66ae6dd8626e35809e.jpg',\n",
              " 'drive/MyDrive/Dog Vision/train/02c90d8109d9a48739b9887349d92b1f.jpg',\n",
              " 'drive/MyDrive/Dog Vision/train/02cc0d7c8b7b513b4325bda30dce222d.jpg',\n",
              " 'drive/MyDrive/Dog Vision/train/02d45a238621c3f2cbde5c1d173ead1e.jpg',\n",
              " 'drive/MyDrive/Dog Vision/train/02d54f0dfb40038765e838459ae8c956.jpg',\n",
              " 'drive/MyDrive/Dog Vision/train/02df8523833c432f90071f86dff69a8f.jpg',\n",
              " 'drive/MyDrive/Dog Vision/train/02dfcd0a24a9c41070f4f94b4c9933ff.jpg',\n",
              " 'drive/MyDrive/Dog Vision/train/02e7b5a86cec57f5935374946d4f5dc1.jpg',\n",
              " 'drive/MyDrive/Dog Vision/train/02eef0f899b81ddf27a42641bc8db9ee.jpg',\n",
              " 'drive/MyDrive/Dog Vision/train/02ef5f19db8cf4da62016a1067bdc548.jpg',\n",
              " 'drive/MyDrive/Dog Vision/train/02f07e7e51662336a9d8c775a4eac5f4.jpg',\n",
              " 'drive/MyDrive/Dog Vision/train/02f3d5fd1eea0a2e6f4742bc54b51ba9.jpg',\n",
              " 'drive/MyDrive/Dog Vision/train/02f6152a9401568d695234d33bb6c37d.jpg',\n",
              " 'drive/MyDrive/Dog Vision/train/02ff77af410e966b7b661f6f0789d947.jpg',\n",
              " 'drive/MyDrive/Dog Vision/train/0310a425f26d797634aadeb66bd63ef1.jpg',\n",
              " 'drive/MyDrive/Dog Vision/train/0311a6a51a414ba91f3ad8055170baa1.jpg',\n",
              " 'drive/MyDrive/Dog Vision/train/0314048edbd08c8c50eb3c93281bd043.jpg',\n",
              " 'drive/MyDrive/Dog Vision/train/031d3353588a81b42bcae74ff19571b0.jpg',\n",
              " 'drive/MyDrive/Dog Vision/train/0325e6ba5b6afd3e0dd94c3a77b6de59.jpg',\n",
              " 'drive/MyDrive/Dog Vision/train/032620ae0f847d957d94d1fd76cb17e8.jpg',\n",
              " 'drive/MyDrive/Dog Vision/train/0326344e0d5181130c28d25edd5627e4.jpg',\n",
              " 'drive/MyDrive/Dog Vision/train/0326d40cc2b35521f1f3e73cabcf2a23.jpg',\n",
              " 'drive/MyDrive/Dog Vision/train/032c14b2df4193004913b01ab48f87c6.jpg',\n",
              " 'drive/MyDrive/Dog Vision/train/0341e3d7a4624d6a7b061fdc25b69044.jpg',\n",
              " 'drive/MyDrive/Dog Vision/train/0345638400c47bbd920474672562077e.jpg',\n",
              " 'drive/MyDrive/Dog Vision/train/03564fbb4aba93dd80e5c7cd76f28d28.jpg',\n",
              " 'drive/MyDrive/Dog Vision/train/035b459eb52acba2ae75bed041b368fe.jpg',\n",
              " 'drive/MyDrive/Dog Vision/train/035f28d8ad34afaf7c8d276d6674bf8f.jpg',\n",
              " 'drive/MyDrive/Dog Vision/train/035fe39454c2ddb2f6a37146cacf0ac0.jpg',\n",
              " 'drive/MyDrive/Dog Vision/train/0360d42966d191a5db4c4bb2e8c66229.jpg',\n",
              " 'drive/MyDrive/Dog Vision/train/0365fe4e3e13a885c6b02ebbbf2d9173.jpg',\n",
              " 'drive/MyDrive/Dog Vision/train/0374e657c8b3b55579751adcaa7c8023.jpg',\n",
              " 'drive/MyDrive/Dog Vision/train/0379145880ad3978f9b80f0dc2c03fba.jpg',\n",
              " 'drive/MyDrive/Dog Vision/train/037ac6cbd9c96d70e68917aa059b6aab.jpg',\n",
              " 'drive/MyDrive/Dog Vision/train/039bdddd8546f0fafdf984b810d1138b.jpg',\n",
              " 'drive/MyDrive/Dog Vision/train/039e61713398f27d027480e4bd0056d1.jpg',\n",
              " 'drive/MyDrive/Dog Vision/train/03ae71ff9e4c5ac97afdfa956ea5e191.jpg',\n",
              " 'drive/MyDrive/Dog Vision/train/03b0e7ace52c10dc4878f60307cdebe3.jpg',\n",
              " 'drive/MyDrive/Dog Vision/train/03b7320cf8054e57b499e01d1cde0644.jpg',\n",
              " 'drive/MyDrive/Dog Vision/train/03b9ab173e5862580909fee10f0ea46d.jpg',\n",
              " 'drive/MyDrive/Dog Vision/train/03bc1c631e57ba87c85b98efd0912c00.jpg',\n",
              " 'drive/MyDrive/Dog Vision/train/03bda5c85206a273eb978c7b9483df5f.jpg',\n",
              " 'drive/MyDrive/Dog Vision/train/03c1557464297ffffc8da977c4db7e68.jpg',\n",
              " 'drive/MyDrive/Dog Vision/train/03c81a2e78dc915bc515fcb8aafd2f6f.jpg',\n",
              " 'drive/MyDrive/Dog Vision/train/03ca2c79345f4c27232ed5b0dc2821c2.jpg',\n",
              " 'drive/MyDrive/Dog Vision/train/03cae0a6700c5cc4900e576034361e7a.jpg',\n",
              " 'drive/MyDrive/Dog Vision/train/03da788cc7e5c111575daf04e7e3910c.jpg',\n",
              " 'drive/MyDrive/Dog Vision/train/03dc61595ad9dbf49e3998cf586ca8cb.jpg',\n",
              " 'drive/MyDrive/Dog Vision/train/03dd99e068f1f2283011cc305f5aaa9f.jpg',\n",
              " 'drive/MyDrive/Dog Vision/train/03ddfa6f292b49e14ed6be5c58246701.jpg',\n",
              " 'drive/MyDrive/Dog Vision/train/03dfefdb2939388f7ca9578cb7c4a2b9.jpg',\n",
              " 'drive/MyDrive/Dog Vision/train/03e1d2ee5fd90aef036c90a9e7f81177.jpg',\n",
              " 'drive/MyDrive/Dog Vision/train/03eb844e1d5aa5addaab20298b1b70c3.jpg',\n",
              " 'drive/MyDrive/Dog Vision/train/03edf850d74d43b2587991ecb673fb33.jpg',\n",
              " 'drive/MyDrive/Dog Vision/train/03f2301867ca4d744773c4c06aa61d3c.jpg',\n",
              " 'drive/MyDrive/Dog Vision/train/03f2f64aebc483ef8e5e17aba7311aa6.jpg',\n",
              " 'drive/MyDrive/Dog Vision/train/03f5b638b8f1c83d3097786e40992ff9.jpg',\n",
              " 'drive/MyDrive/Dog Vision/train/03f6435dc8a5e760d19e67831c6034fb.jpg',\n",
              " 'drive/MyDrive/Dog Vision/train/040fef64640b89c53f161b6c5215b78b.jpg',\n",
              " 'drive/MyDrive/Dog Vision/train/041a54577da744348d4da8094e882cd9.jpg',\n",
              " 'drive/MyDrive/Dog Vision/train/041b3b8a40b587a486276ac15edd9eaf.jpg',\n",
              " 'drive/MyDrive/Dog Vision/train/041d0d6a8d110b35a3795dd5c68f9a36.jpg',\n",
              " 'drive/MyDrive/Dog Vision/train/04254919cc15c6867cccfd738a926999.jpg',\n",
              " 'drive/MyDrive/Dog Vision/train/0428e1ae313156ec06dc42096cf1372c.jpg',\n",
              " 'drive/MyDrive/Dog Vision/train/042e83e82315bada78f2681d030b0d28.jpg',\n",
              " 'drive/MyDrive/Dog Vision/train/042ecd9a978c2ee48d17f7f781621ac9.jpg',\n",
              " 'drive/MyDrive/Dog Vision/train/0434ddceef3eea9c757c8e9557a2d698.jpg',\n",
              " 'drive/MyDrive/Dog Vision/train/0440acb104d7346ccc9bba0716603f6a.jpg',\n",
              " 'drive/MyDrive/Dog Vision/train/0440e760e55c4d6bed536fbc0273801a.jpg',\n",
              " 'drive/MyDrive/Dog Vision/train/044644ffbec4b6d402eb824532478811.jpg',\n",
              " 'drive/MyDrive/Dog Vision/train/044d904b00ce11cec6e493226c39a4e2.jpg',\n",
              " 'drive/MyDrive/Dog Vision/train/044efbf8ab3e7195b8ea3c92ef0d48df.jpg',\n",
              " 'drive/MyDrive/Dog Vision/train/044f7e60953230fa45e4367073d96693.jpg',\n",
              " 'drive/MyDrive/Dog Vision/train/0450c3899b7ca7cac31406a52c7bc74e.jpg',\n",
              " 'drive/MyDrive/Dog Vision/train/0457342c36e7e7d103fa4b286a1d62f8.jpg',\n",
              " 'drive/MyDrive/Dog Vision/train/045d421a681a7da04ff668992a8b4c3e.jpg',\n",
              " 'drive/MyDrive/Dog Vision/train/045ea2f41120606e2c5ae1315cebfb46.jpg',\n",
              " 'drive/MyDrive/Dog Vision/train/046b28d8ac6f7beb3f63159ecaf4cbb6.jpg',\n",
              " 'drive/MyDrive/Dog Vision/train/046d8f04a5a42872774110c6a2db1224.jpg',\n",
              " 'drive/MyDrive/Dog Vision/train/047d9a7dc7205c76e5487d6fc5f4a666.jpg',\n",
              " 'drive/MyDrive/Dog Vision/train/0484a6cc686a07e1edacd0fb44b1d965.jpg',\n",
              " 'drive/MyDrive/Dog Vision/train/0486732311e9d60e8712f1dc33c4ebe0.jpg',\n",
              " 'drive/MyDrive/Dog Vision/train/0490b67cb414d527d6c21052b1e3b5dd.jpg',\n",
              " 'drive/MyDrive/Dog Vision/train/0496d4170e295688e8d6929b239dd4fb.jpg',\n",
              " 'drive/MyDrive/Dog Vision/train/049a406bfac63012d757167c084ced1b.jpg',\n",
              " 'drive/MyDrive/Dog Vision/train/04a191172e090876d3f180fc318038f0.jpg',\n",
              " 'drive/MyDrive/Dog Vision/train/04a3f5dc6d985601f354ab4434645d83.jpg',\n",
              " 'drive/MyDrive/Dog Vision/train/04b5834c3a969c6308ce157c547bb313.jpg',\n",
              " 'drive/MyDrive/Dog Vision/train/04be608c9c005d9aa0224fe08554e4be.jpg',\n",
              " 'drive/MyDrive/Dog Vision/train/04c3bdfec0c7f082c7e697c26be9e020.jpg',\n",
              " 'drive/MyDrive/Dog Vision/train/04cce0cd53c6f01d242a49e43de513a1.jpg',\n",
              " 'drive/MyDrive/Dog Vision/train/04d2dc1f2804c748b1aa71954bb45d38.jpg',\n",
              " 'drive/MyDrive/Dog Vision/train/04d3a777baa532f7558a860393c4537f.jpg',\n",
              " 'drive/MyDrive/Dog Vision/train/04d4918090b0c2a7b965ff58f13b2ecf.jpg',\n",
              " 'drive/MyDrive/Dog Vision/train/04d50b0dce8b8ee9544d9602df85f722.jpg',\n",
              " 'drive/MyDrive/Dog Vision/train/04d5d382a8a02d68859850dc282d3ac4.jpg',\n",
              " 'drive/MyDrive/Dog Vision/train/04d6fe2d5ad29be79083e5c9cf3d9b0d.jpg',\n",
              " 'drive/MyDrive/Dog Vision/train/04dea47b883acca9bd57c7ea2930524f.jpg',\n",
              " 'drive/MyDrive/Dog Vision/train/04e370c8510638ca969a716822444085.jpg',\n",
              " 'drive/MyDrive/Dog Vision/train/04e3bb77c15c18fc1ac101d86d612f46.jpg',\n",
              " 'drive/MyDrive/Dog Vision/train/04ea8788cfa17d01c87ea4cdaa0a330d.jpg',\n",
              " 'drive/MyDrive/Dog Vision/train/04f59d1b6887cf10e6fd897514623cf3.jpg',\n",
              " 'drive/MyDrive/Dog Vision/train/04f69d645182d799dbb54862c19c0f38.jpg',\n",
              " 'drive/MyDrive/Dog Vision/train/04f9e2da4b6f5adb9b9d62eba66ba991.jpg',\n",
              " 'drive/MyDrive/Dog Vision/train/04fab70baaf7cd53f8bf78225dbf5409.jpg',\n",
              " 'drive/MyDrive/Dog Vision/train/04fb4d719e9fe2b6ffe32d9ae7be8a22.jpg',\n",
              " 'drive/MyDrive/Dog Vision/train/050073020e80e4935b53df8d786c8612.jpg',\n",
              " 'drive/MyDrive/Dog Vision/train/050c59e2063923106443e9fd81683088.jpg',\n",
              " 'drive/MyDrive/Dog Vision/train/0512c1a59449a9c8c83c95722028ac90.jpg',\n",
              " 'drive/MyDrive/Dog Vision/train/05134ea3341a1f4f460168e68ec5765d.jpg',\n",
              " 'drive/MyDrive/Dog Vision/train/0518691772e78ac6805bf006993665a4.jpg',\n",
              " 'drive/MyDrive/Dog Vision/train/052675b01ae0a4b62e090923d131f4ff.jpg',\n",
              " 'drive/MyDrive/Dog Vision/train/053106ed091eac5e129225315ef6cfcb.jpg',\n",
              " 'drive/MyDrive/Dog Vision/train/0543510e763cbf8fc771a097ffda9984.jpg',\n",
              " 'drive/MyDrive/Dog Vision/train/054f069e01a809b23a9da31dd8f4841e.jpg',\n",
              " 'drive/MyDrive/Dog Vision/train/055429c6fb404af27ac52a08216e6cda.jpg',\n",
              " 'drive/MyDrive/Dog Vision/train/055cfac66e5d67756ab05d02baeeb04c.jpg',\n",
              " 'drive/MyDrive/Dog Vision/train/0566a60d7504a6fad4161d0ef2765a34.jpg',\n",
              " 'drive/MyDrive/Dog Vision/train/0569f1d79637070f70ca4a62ec510792.jpg',\n",
              " 'drive/MyDrive/Dog Vision/train/056b535b441278e83839984f1b1da0a6.jpg',\n",
              " 'drive/MyDrive/Dog Vision/train/056c314f2a7d119447af259a07eb31df.jpg',\n",
              " 'drive/MyDrive/Dog Vision/train/05719b998e57a11b863a322ecc7652a5.jpg',\n",
              " 'drive/MyDrive/Dog Vision/train/0581b47e4c3890fb74a5485aa4d008f0.jpg',\n",
              " 'drive/MyDrive/Dog Vision/train/058d4bfce39c9f1157ca4c1b019bbf1a.jpg',\n",
              " 'drive/MyDrive/Dog Vision/train/058ea5b467d08ed978658dc1ad85fb7d.jpg',\n",
              " 'drive/MyDrive/Dog Vision/train/05934390044791b8fd2dd2ba9c0b4b36.jpg',\n",
              " 'drive/MyDrive/Dog Vision/train/0593e37870ee77b0d34508e118bf6670.jpg',\n",
              " 'drive/MyDrive/Dog Vision/train/059513b85ae976a6f591f71bbaae49bf.jpg',\n",
              " 'drive/MyDrive/Dog Vision/train/059a86d50634c78d5a18f918cb0b3f0d.jpg',\n",
              " 'drive/MyDrive/Dog Vision/train/05a05cf4c8d6a4f3f780a9112a11999b.jpg',\n",
              " 'drive/MyDrive/Dog Vision/train/05a5e6f6b575688dc304ae72635db7b6.jpg',\n",
              " 'drive/MyDrive/Dog Vision/train/05a747c5853defa2420b976a9c0918a2.jpg',\n",
              " 'drive/MyDrive/Dog Vision/train/05b5e17b96409ca6db51edaf28bd3bdc.jpg',\n",
              " 'drive/MyDrive/Dog Vision/train/05bac66dfae763fb86ab6360bd3c6f5f.jpg',\n",
              " 'drive/MyDrive/Dog Vision/train/05beb3230462b740e5c56230eb27a7a4.jpg',\n",
              " 'drive/MyDrive/Dog Vision/train/05c128c8e3ef0c2739f181f9c5677f56.jpg',\n",
              " 'drive/MyDrive/Dog Vision/train/05cab78114abb08afcda78ee70222edd.jpg',\n",
              " 'drive/MyDrive/Dog Vision/train/05d6e6de49a6999e56de23c4608af441.jpg',\n",
              " 'drive/MyDrive/Dog Vision/train/05e25c8ec67962c2ef4dd7b0f6aa3918.jpg',\n",
              " 'drive/MyDrive/Dog Vision/train/05e3dfffd0b0dca56e6b1d4686e1a6c2.jpg',\n",
              " 'drive/MyDrive/Dog Vision/train/05e93a5604440b065143c81be16cd395.jpg',\n",
              " 'drive/MyDrive/Dog Vision/train/05f59d40acf74affda3c8940ba192f42.jpg',\n",
              " 'drive/MyDrive/Dog Vision/train/05fbe54802ffb6d6256abb93381f5cf4.jpg',\n",
              " 'drive/MyDrive/Dog Vision/train/060112a1a77217039de21f7d0963929d.jpg',\n",
              " 'drive/MyDrive/Dog Vision/train/060b163b5ad74c889c47b9f421825cdb.jpg',\n",
              " 'drive/MyDrive/Dog Vision/train/061592707868d5ced7ee050cb383072d.jpg',\n",
              " 'drive/MyDrive/Dog Vision/train/061a378e68e8734682ea9c04a572e2ab.jpg',\n",
              " 'drive/MyDrive/Dog Vision/train/061e9891cd5e77345e3cff761c12db4d.jpg',\n",
              " 'drive/MyDrive/Dog Vision/train/062131c6c38a1e485091c8c3329d9638.jpg',\n",
              " 'drive/MyDrive/Dog Vision/train/06223770cd0968a5fa81b2898e65e34a.jpg',\n",
              " 'drive/MyDrive/Dog Vision/train/06412667e714332186d0cf86375e98fb.jpg',\n",
              " 'drive/MyDrive/Dog Vision/train/06448bf4366760660b6a7611d93d7533.jpg',\n",
              " 'drive/MyDrive/Dog Vision/train/064dff92e5654a8679f8971a027a4040.jpg',\n",
              " 'drive/MyDrive/Dog Vision/train/065221667b1ed903e364b9063ee2195b.jpg',\n",
              " 'drive/MyDrive/Dog Vision/train/06538c8ad646eb2ebbbbdda1c8174899.jpg',\n",
              " 'drive/MyDrive/Dog Vision/train/0653d31ae648e2a6628ee3f440729361.jpg',\n",
              " 'drive/MyDrive/Dog Vision/train/065452ccfffdc6b6f60183bd6c88ba89.jpg',\n",
              " 'drive/MyDrive/Dog Vision/train/06557d54077c5265ecdcd7273c9c38ca.jpg',\n",
              " 'drive/MyDrive/Dog Vision/train/0672592809da7574a87ddcd0ba2f315d.jpg',\n",
              " 'drive/MyDrive/Dog Vision/train/0672befac9ea0c8fe82c37b5a634d87c.jpg',\n",
              " 'drive/MyDrive/Dog Vision/train/068314c65cbe67fa4f57283f4f3a801c.jpg',\n",
              " 'drive/MyDrive/Dog Vision/train/0685bcc6cdaa954771379d95d339baf6.jpg',\n",
              " 'drive/MyDrive/Dog Vision/train/06ab2182c2a958a5f0de2035f39a0fa7.jpg',\n",
              " 'drive/MyDrive/Dog Vision/train/06ba5a21442ba19190bfe7bfa9def11c.jpg',\n",
              " 'drive/MyDrive/Dog Vision/train/06bd6a364e68b886c085b9b8b8d2b818.jpg',\n",
              " 'drive/MyDrive/Dog Vision/train/06c47d61293f2bb51a94040bb4b20799.jpg',\n",
              " 'drive/MyDrive/Dog Vision/train/06c4dbc5b0ea3674bbc752c4ce76819a.jpg',\n",
              " 'drive/MyDrive/Dog Vision/train/06cceae049531cdb98fe67d912aa58a8.jpg',\n",
              " 'drive/MyDrive/Dog Vision/train/06cd8e3fbfe72c34461814239e1deab8.jpg',\n",
              " 'drive/MyDrive/Dog Vision/train/06ce71ab05143b1fe45ba8eeba2e97e4.jpg',\n",
              " 'drive/MyDrive/Dog Vision/train/06d2d84b936225e6c853a0453cb9c878.jpg',\n",
              " 'drive/MyDrive/Dog Vision/train/06d80d6a7aba8bc48606a285bbad0697.jpg',\n",
              " 'drive/MyDrive/Dog Vision/train/06e548623971fbdf8c80b0614f811f50.jpg',\n",
              " 'drive/MyDrive/Dog Vision/train/06faa041b335551e3ccf3c239d006425.jpg',\n",
              " 'drive/MyDrive/Dog Vision/train/06fe22a92fa8dc8f90e7a0f118acad6f.jpg',\n",
              " 'drive/MyDrive/Dog Vision/train/0700d58c82bafe9c4edc81f902178e76.jpg',\n",
              " 'drive/MyDrive/Dog Vision/train/07096719a671e1737b829bd1a88f1dbf.jpg',\n",
              " 'drive/MyDrive/Dog Vision/train/0709abee3095717f43db409dd7ce769b.jpg',\n",
              " 'drive/MyDrive/Dog Vision/train/070e8ff540cc8113939ae5dba4a24f80.jpg',\n",
              " 'drive/MyDrive/Dog Vision/train/071652f5f5d0bf00983c075e96ad725f.jpg',\n",
              " 'drive/MyDrive/Dog Vision/train/0718d39d59d9e3b134446440d69b2058.jpg',\n",
              " 'drive/MyDrive/Dog Vision/train/07192213791150248bfb5bbe6b0b0373.jpg',\n",
              " 'drive/MyDrive/Dog Vision/train/0724948de3506f43cda65804efe79b9b.jpg',\n",
              " 'drive/MyDrive/Dog Vision/train/072aa9d6100187288ef00316c8bcdd66.jpg',\n",
              " 'drive/MyDrive/Dog Vision/train/0734a945cc1ab35a9d2348db42075a99.jpg',\n",
              " 'drive/MyDrive/Dog Vision/train/073b9a44c4761fa0792943b61b9c812c.jpg',\n",
              " 'drive/MyDrive/Dog Vision/train/073bb2f975ee39406e692e33364762a3.jpg',\n",
              " 'drive/MyDrive/Dog Vision/train/073f0821a0842917e6e97ab322bd63f2.jpg',\n",
              " 'drive/MyDrive/Dog Vision/train/0743bfe9525b7a6310a297b11b7e154a.jpg',\n",
              " 'drive/MyDrive/Dog Vision/train/07466e87275ed10056a9d2cbb4c733d8.jpg',\n",
              " 'drive/MyDrive/Dog Vision/train/0755a940eac9a9b8cf0328b4be062096.jpg',\n",
              " 'drive/MyDrive/Dog Vision/train/075a28044780636f48d8571f1d32f73d.jpg',\n",
              " 'drive/MyDrive/Dog Vision/train/0769e276e8b9b992a3fcd6a10deee6a7.jpg',\n",
              " 'drive/MyDrive/Dog Vision/train/076d31a2f676671e4427cc485b9d2918.jpg',\n",
              " 'drive/MyDrive/Dog Vision/train/0773acd6874a703b966367d4d27cac71.jpg',\n",
              " 'drive/MyDrive/Dog Vision/train/07751d1687e0233ff638889d8b365709.jpg',\n",
              " 'drive/MyDrive/Dog Vision/train/0779e164a5bed1119e36e622107c6a77.jpg',\n",
              " 'drive/MyDrive/Dog Vision/train/079509ceab0968ce07cffa0df479f1b0.jpg',\n",
              " 'drive/MyDrive/Dog Vision/train/079a7ad36b46704c28d88c4aa183c28e.jpg',\n",
              " 'drive/MyDrive/Dog Vision/train/079e17a742380d333950962f2c83ffd2.jpg',\n",
              " 'drive/MyDrive/Dog Vision/train/079f6255a19fdbaa75fb2a902bca894c.jpg',\n",
              " 'drive/MyDrive/Dog Vision/train/07a0214fa84969b5256bf7d20f1b3a9b.jpg',\n",
              " 'drive/MyDrive/Dog Vision/train/07a215abb3ff16fd19a5b832c8f3408b.jpg',\n",
              " 'drive/MyDrive/Dog Vision/train/07a4fcb31d0c6259f5ec21a1f193bc39.jpg',\n",
              " 'drive/MyDrive/Dog Vision/train/07b46335006fbbe0328aeb8213b874ce.jpg',\n",
              " 'drive/MyDrive/Dog Vision/train/07b5288a0bb8b9cf1a42d281a9451e51.jpg',\n",
              " 'drive/MyDrive/Dog Vision/train/07bbf36ce2c7407751219804b3d187ec.jpg',\n",
              " 'drive/MyDrive/Dog Vision/train/07c7389196b5dde668d740089f9ebc22.jpg',\n",
              " 'drive/MyDrive/Dog Vision/train/07d1dd1576b5e95f448c1213b6812c40.jpg',\n",
              " 'drive/MyDrive/Dog Vision/train/07d6e906eb95f24c53eb92ecc2d47783.jpg',\n",
              " 'drive/MyDrive/Dog Vision/train/07d7cfbdbd3682cae50902b53c798028.jpg',\n",
              " 'drive/MyDrive/Dog Vision/train/07ddc3c2188164b1e72ae6615a24419a.jpg',\n",
              " 'drive/MyDrive/Dog Vision/train/07e103146c1f4513647ddb9614210320.jpg',\n",
              " 'drive/MyDrive/Dog Vision/train/07e12e8064b6b17a94608ba5fd78a72e.jpg',\n",
              " 'drive/MyDrive/Dog Vision/train/07ebe25829d387cef30160285d50e232.jpg',\n",
              " 'drive/MyDrive/Dog Vision/train/07eeb2ef42c6b260684e8cb8e8c4ba70.jpg',\n",
              " 'drive/MyDrive/Dog Vision/train/07f1b6214597af2f04a27c375a602a0c.jpg',\n",
              " 'drive/MyDrive/Dog Vision/train/07f95d08b40f1402abdab79b1f834e4c.jpg',\n",
              " 'drive/MyDrive/Dog Vision/train/080073330bb8954505340cf18159fbb8.jpg',\n",
              " 'drive/MyDrive/Dog Vision/train/08098e0a4074f62169ab53f7efe40da2.jpg',\n",
              " 'drive/MyDrive/Dog Vision/train/080ebefee69f27243b185c113052963e.jpg',\n",
              " 'drive/MyDrive/Dog Vision/train/080ec59213ed7425b7f8c169955bb9d0.jpg',\n",
              " 'drive/MyDrive/Dog Vision/train/0811e959c0fa3b1c7af6be4f645a9464.jpg',\n",
              " 'drive/MyDrive/Dog Vision/train/08149eb72785553570f74a6effea8d7e.jpg',\n",
              " 'drive/MyDrive/Dog Vision/train/0815082cf02417e80f4df9dfba17aa13.jpg',\n",
              " 'drive/MyDrive/Dog Vision/train/081ee1793b0e0027f8cccf9dc4513d53.jpg',\n",
              " 'drive/MyDrive/Dog Vision/train/081f6b553afb94d1f192f08cc3ac5762.jpg',\n",
              " 'drive/MyDrive/Dog Vision/train/0822709f6f6ea0be1928f52b8eecbc2f.jpg',\n",
              " 'drive/MyDrive/Dog Vision/train/0825e8471e3c9a14dc341bdd8630f05e.jpg',\n",
              " 'drive/MyDrive/Dog Vision/train/083820e6dda52da4c0f200ac36f582dc.jpg',\n",
              " 'drive/MyDrive/Dog Vision/train/084c4f43ecc2630587de6c3e543525c3.jpg',\n",
              " 'drive/MyDrive/Dog Vision/train/084f941981c326f26ea77158fb449c57.jpg',\n",
              " 'drive/MyDrive/Dog Vision/train/08571d6bb5ecf6c9b7a145dc24043088.jpg',\n",
              " 'drive/MyDrive/Dog Vision/train/0857307dddb1b41288887ef2338af6df.jpg',\n",
              " 'drive/MyDrive/Dog Vision/train/085b26edb3ee9688d41c4293aafe0162.jpg',\n",
              " 'drive/MyDrive/Dog Vision/train/085faff5f472098801b371f077b2dc8b.jpg',\n",
              " 'drive/MyDrive/Dog Vision/train/0861355ea326a82de3aab420d4276e5b.jpg',\n",
              " 'drive/MyDrive/Dog Vision/train/08644ddaf5a3ca7f08fcab7561ec4eea.jpg',\n",
              " 'drive/MyDrive/Dog Vision/train/086e8ca78ec3303a8f06df003ecb6612.jpg',\n",
              " 'drive/MyDrive/Dog Vision/train/08774c223487c1c880b447aae6a7e0b2.jpg',\n",
              " 'drive/MyDrive/Dog Vision/train/08782eb5ac167ca5f8feaccb519e9b4e.jpg',\n",
              " 'drive/MyDrive/Dog Vision/train/087b211f15ad8095ba90c0be54c1c30d.jpg',\n",
              " 'drive/MyDrive/Dog Vision/train/087cd02ca089fc0f30841a6a89e3a619.jpg',\n",
              " 'drive/MyDrive/Dog Vision/train/08829c00da02dea80eb491122989492f.jpg',\n",
              " 'drive/MyDrive/Dog Vision/train/0883e6cc994d9ba90592f400d502d838.jpg',\n",
              " 'drive/MyDrive/Dog Vision/train/088be435c5245f79c448812169a30cb5.jpg',\n",
              " 'drive/MyDrive/Dog Vision/train/088cdda83ef0920d130398f7724b391f.jpg',\n",
              " 'drive/MyDrive/Dog Vision/train/0891ce3700686a8df5b4bd711be44ea9.jpg',\n",
              " 'drive/MyDrive/Dog Vision/train/08946697b3e50e602d6bea765c8fb9f5.jpg',\n",
              " 'drive/MyDrive/Dog Vision/train/0895dd35b3afa2a4f8a0b6f3ad98134a.jpg',\n",
              " 'drive/MyDrive/Dog Vision/train/089bce55f74e34940b3782e11c1bd2b5.jpg',\n",
              " 'drive/MyDrive/Dog Vision/train/089fd270df9e42e3f741452a4e437dc5.jpg',\n",
              " 'drive/MyDrive/Dog Vision/train/08af52c888b0f5735c3ced810771601d.jpg',\n",
              " 'drive/MyDrive/Dog Vision/train/08b49c79fafad70a23c770b1fcaa89ba.jpg',\n",
              " 'drive/MyDrive/Dog Vision/train/08e4013c0ddc710c57d1d188bf7c0cfe.jpg',\n",
              " 'drive/MyDrive/Dog Vision/train/08e5e75d29184a82a9dada752c9c4afb.jpg',\n",
              " 'drive/MyDrive/Dog Vision/train/08e99ed86b0ce429fef52a8ca33e1551.jpg',\n",
              " 'drive/MyDrive/Dog Vision/train/08ea34bfdc88f5b1e0eef0b76d832c8e.jpg',\n",
              " 'drive/MyDrive/Dog Vision/train/08ea655aa168d87806340c336d07f1c9.jpg',\n",
              " 'drive/MyDrive/Dog Vision/train/08ed3bf636ad906f5ddea9ebda22ff98.jpg',\n",
              " 'drive/MyDrive/Dog Vision/train/09037f0995111a413fd8e976f3680f09.jpg',\n",
              " 'drive/MyDrive/Dog Vision/train/091306dd0d110a677fe0de1ad066f160.jpg',\n",
              " 'drive/MyDrive/Dog Vision/train/092220a7a8081144a7485efb6c087fe2.jpg',\n",
              " 'drive/MyDrive/Dog Vision/train/09288e5c39391b780412561163b10bf5.jpg',\n",
              " 'drive/MyDrive/Dog Vision/train/092c2cdbf133b201d7d56969bfbcc8f6.jpg',\n",
              " 'drive/MyDrive/Dog Vision/train/093a146e173a3fd9ea650b87f08d6222.jpg',\n",
              " 'drive/MyDrive/Dog Vision/train/093fc67079701f48bd1d2e52a684ed9e.jpg',\n",
              " 'drive/MyDrive/Dog Vision/train/09438173067ccee8d4a1a45f2f8a8eb6.jpg',\n",
              " 'drive/MyDrive/Dog Vision/train/0943d1d4677ab876b52468096baaa2ce.jpg',\n",
              " 'drive/MyDrive/Dog Vision/train/0944fbca92fad9a38af10b3d1943cb54.jpg',\n",
              " 'drive/MyDrive/Dog Vision/train/09477e5059ebb15cad5f37fb3b9b1889.jpg',\n",
              " 'drive/MyDrive/Dog Vision/train/094b97e52d00895fbf6769724e1b0e7d.jpg',\n",
              " 'drive/MyDrive/Dog Vision/train/0959e919604a931fc1ae379b7a75911a.jpg',\n",
              " 'drive/MyDrive/Dog Vision/train/095d868f796f86c8258750365a04f2cd.jpg',\n",
              " 'drive/MyDrive/Dog Vision/train/0964a2558fc9aa293a6a934d49f64968.jpg',\n",
              " 'drive/MyDrive/Dog Vision/train/0964e161b379740955fa95d8d4c8697e.jpg',\n",
              " 'drive/MyDrive/Dog Vision/train/0974b614b86b829821067bd0b1808b8c.jpg',\n",
              " 'drive/MyDrive/Dog Vision/train/097ef8eca8fc340249b0bbc2b745972c.jpg',\n",
              " 'drive/MyDrive/Dog Vision/train/098333d51970304787c7061f3e683c5b.jpg',\n",
              " 'drive/MyDrive/Dog Vision/train/09839ef1c5a5a5b3acb61c4093cab07f.jpg',\n",
              " 'drive/MyDrive/Dog Vision/train/098c50d7ba4f07d9aba8c6162aa70b50.jpg',\n",
              " 'drive/MyDrive/Dog Vision/train/098c722479a8288c57b545781d5c54bd.jpg',\n",
              " 'drive/MyDrive/Dog Vision/train/098dc5e173d21c229e6ee565d7666b10.jpg',\n",
              " 'drive/MyDrive/Dog Vision/train/0990fe6be15d9d556eac8712db3c8094.jpg',\n",
              " 'drive/MyDrive/Dog Vision/train/09927a82d649607a7704ac6043cdfa9a.jpg',\n",
              " 'drive/MyDrive/Dog Vision/train/0995f642fe4baab3cb3534725dfedb75.jpg',\n",
              " 'drive/MyDrive/Dog Vision/train/0998eda08cdb14648e444c15f06658af.jpg',\n",
              " 'drive/MyDrive/Dog Vision/train/099b068027c41251d29f75a311cc5e5c.jpg',\n",
              " 'drive/MyDrive/Dog Vision/train/099db37801090ed56bbc95c13d3799b9.jpg',\n",
              " 'drive/MyDrive/Dog Vision/train/09a1ea62ffa4b9389c03162bb0b0b572.jpg',\n",
              " 'drive/MyDrive/Dog Vision/train/09a6fd935dd1a4dee29b97885cfa9318.jpg',\n",
              " 'drive/MyDrive/Dog Vision/train/09aec2a169942b17d88b4b5f1bba5886.jpg',\n",
              " 'drive/MyDrive/Dog Vision/train/09beb7445a14486752bd25f69e952ebc.jpg',\n",
              " 'drive/MyDrive/Dog Vision/train/09c62a1ff26b3e83a2d476c2add054b1.jpg',\n",
              " 'drive/MyDrive/Dog Vision/train/09c986f317783fb5ae091b334e79ac5a.jpg',\n",
              " 'drive/MyDrive/Dog Vision/train/09d462e2ad4d8c51d1a8430577891d8a.jpg',\n",
              " 'drive/MyDrive/Dog Vision/train/09d497888fd1e6745f67a78269139620.jpg',\n",
              " 'drive/MyDrive/Dog Vision/train/09d5ac8026b8a7f7d1acae244765fe24.jpg',\n",
              " 'drive/MyDrive/Dog Vision/train/09d7cc03f9e9730bda53b4a590351838.jpg',\n",
              " 'drive/MyDrive/Dog Vision/train/09ea184490e5da33eb3d851ee6361941.jpg',\n",
              " 'drive/MyDrive/Dog Vision/train/09fc0a4acd13c78c02cdb251f193231d.jpg',\n",
              " 'drive/MyDrive/Dog Vision/train/0a001d75def0b4352ebde8d07c0850ae.jpg',\n",
              " 'drive/MyDrive/Dog Vision/train/0a077ea0c8fa54d95f75e690b2c8196b.jpg',\n",
              " 'drive/MyDrive/Dog Vision/train/0a0c223352985ec154fd604d7ddceabd.jpg',\n",
              " 'drive/MyDrive/Dog Vision/train/0a135c5ee55edf4bd9631d4e15264788.jpg',\n",
              " 'drive/MyDrive/Dog Vision/train/0a13f9596e03a9f87c96aaff6e057048.jpg',\n",
              " 'drive/MyDrive/Dog Vision/train/0a1b0b7df2918d543347050ad8b16051.jpg',\n",
              " 'drive/MyDrive/Dog Vision/train/0a1f8334a9f583cac009dc033c681e47.jpg',\n",
              " 'drive/MyDrive/Dog Vision/train/0a27d304c96918d440e79e6e9e245c3f.jpg',\n",
              " 'drive/MyDrive/Dog Vision/train/0a3f1898556115d6d0931294876cd1d9.jpg',\n",
              " 'drive/MyDrive/Dog Vision/train/0a409042dd36b2c8293c67d4d4ea9ef9.jpg',\n",
              " 'drive/MyDrive/Dog Vision/train/0a4116a80e753f7b0adf4149f551a3a7.jpg',\n",
              " 'drive/MyDrive/Dog Vision/train/0a438069d5a8a8a079ac131d74c3a366.jpg',\n",
              " 'drive/MyDrive/Dog Vision/train/0a4f1e17d720cdff35814651402b7cf4.jpg',\n",
              " 'drive/MyDrive/Dog Vision/train/0a541df84dd3febb076e2c33a23cd230.jpg',\n",
              " 'drive/MyDrive/Dog Vision/train/0a5958a7f6836cbe349a4cedfe7178a6.jpg',\n",
              " 'drive/MyDrive/Dog Vision/train/0a5f744c5077ad8f8d580081ba599ff5.jpg',\n",
              " 'drive/MyDrive/Dog Vision/train/0a65ba3ab9b29c66e15cec76f34eca6f.jpg',\n",
              " 'drive/MyDrive/Dog Vision/train/0a6706f7864eb8871913f0e4ba07a61e.jpg',\n",
              " 'drive/MyDrive/Dog Vision/train/0a688b0783f472c84bbfe1c56efea1c6.jpg',\n",
              " 'drive/MyDrive/Dog Vision/train/0a6c192b96e55e2ca37318919b1ffae6.jpg',\n",
              " 'drive/MyDrive/Dog Vision/train/0a70f64352edfef4c82c22015f0e3a20.jpg',\n",
              " 'drive/MyDrive/Dog Vision/train/0a77b9015c37f39c92b5399dc29da97c.jpg',\n",
              " 'drive/MyDrive/Dog Vision/train/0a77d498ff491945347bb895d8ae4008.jpg',\n",
              " 'drive/MyDrive/Dog Vision/train/0a783538d5f3aaf017b435ddf14cc5c2.jpg',\n",
              " 'drive/MyDrive/Dog Vision/train/0a7899ed6a15f4af8f28e01c9c44dcfe.jpg',\n",
              " 'drive/MyDrive/Dog Vision/train/0a7f8d31c960071d0d4cfba36c0159c7.jpg',\n",
              " 'drive/MyDrive/Dog Vision/train/0a86c8b48bddb0155645f3a27f48292f.jpg',\n",
              " 'drive/MyDrive/Dog Vision/train/0a896d2b3af617df543787b571e439d8.jpg',\n",
              " 'drive/MyDrive/Dog Vision/train/0a8b6985bbe58a58909b5ef0a7d5a1aa.jpg',\n",
              " 'drive/MyDrive/Dog Vision/train/0a9322a30aff755dac328022266e3740.jpg',\n",
              " 'drive/MyDrive/Dog Vision/train/0a96f376d746b191fcc6e4812a603f7f.jpg',\n",
              " 'drive/MyDrive/Dog Vision/train/0a9832b18d360f50f5b3b2ab4c540ddc.jpg',\n",
              " 'drive/MyDrive/Dog Vision/train/0a9f8c6ceadfff61072a565311777655.jpg',\n",
              " 'drive/MyDrive/Dog Vision/train/0a9f8f6543d0b33fe9474035dd5323ef.jpg',\n",
              " 'drive/MyDrive/Dog Vision/train/0aa31d6ecdb95ac7d3b7fa42b86bd91b.jpg',\n",
              " 'drive/MyDrive/Dog Vision/train/0ab12906ac3a87b531c574a15e79c58a.jpg',\n",
              " 'drive/MyDrive/Dog Vision/train/0ab8d4c80ae4e6bbeacd66fb7e52b851.jpg',\n",
              " 'drive/MyDrive/Dog Vision/train/0ab9cdefc666573f8019356ffefe0c69.jpg',\n",
              " 'drive/MyDrive/Dog Vision/train/0abdda879bb143b19e3c480279541915.jpg',\n",
              " 'drive/MyDrive/Dog Vision/train/0ac12e1849fd51b2158d16b8f5e75551.jpg',\n",
              " 'drive/MyDrive/Dog Vision/train/0ac12f840df2b15d46622e244501a88c.jpg',\n",
              " 'drive/MyDrive/Dog Vision/train/0acfee91dd38e53a20dd1488a17e9af9.jpg',\n",
              " 'drive/MyDrive/Dog Vision/train/0ad3d66ba7b2d5d6d608da088abca7c0.jpg',\n",
              " 'drive/MyDrive/Dog Vision/train/0adfec2804a1efe41f54758cd87cec01.jpg',\n",
              " 'drive/MyDrive/Dog Vision/train/0afb0d170c66aed12805f838041411ce.jpg',\n",
              " 'drive/MyDrive/Dog Vision/train/0afc7d87053cb44a529c78c0fac99886.jpg',\n",
              " 'drive/MyDrive/Dog Vision/train/0b102a6aa442aed98f137616e924e18e.jpg',\n",
              " 'drive/MyDrive/Dog Vision/train/0b178813be36410eda8742abe2153ced.jpg',\n",
              " 'drive/MyDrive/Dog Vision/train/0b1b49b8cf679eb3e2fb13ca6deba9b5.jpg',\n",
              " 'drive/MyDrive/Dog Vision/train/0b1cdb2a36dd432fcc7567959cb23798.jpg',\n",
              " 'drive/MyDrive/Dog Vision/train/0b1e71a499a26eaacc06991bca982523.jpg',\n",
              " 'drive/MyDrive/Dog Vision/train/0b2d69f59303805f17055bd59615a297.jpg',\n",
              " 'drive/MyDrive/Dog Vision/train/0b2e635ebad8aba82656c8fceb05018c.jpg',\n",
              " 'drive/MyDrive/Dog Vision/train/0b30d48dd2818cdea768d884623e8c2a.jpg',\n",
              " 'drive/MyDrive/Dog Vision/train/0b345d4f2434903c374ad8b8513a289b.jpg',\n",
              " 'drive/MyDrive/Dog Vision/train/0b346cec75418439f13eabdc7e96f33a.jpg',\n",
              " 'drive/MyDrive/Dog Vision/train/0b3d3120a62c2bc280f589d473041d06.jpg',\n",
              " 'drive/MyDrive/Dog Vision/train/0b465156a0844773fd47ce40d0dcc7db.jpg',\n",
              " 'drive/MyDrive/Dog Vision/train/0b5604e1cdfcb595ceb36424126a3e09.jpg',\n",
              " 'drive/MyDrive/Dog Vision/train/0b57520c27ed32bc21e35c38cb5dd268.jpg',\n",
              " 'drive/MyDrive/Dog Vision/train/0b6239db9b1649fe2f513357c82931aa.jpg',\n",
              " 'drive/MyDrive/Dog Vision/train/0b673cd41260b9fb998b0a8ad164b6d6.jpg',\n",
              " 'drive/MyDrive/Dog Vision/train/0b6837976df682360dc9ef25b81bc893.jpg',\n",
              " 'drive/MyDrive/Dog Vision/train/0b6c5bc46b7a0e29cddfa45b0b786d09.jpg',\n",
              " 'drive/MyDrive/Dog Vision/train/0b6da522f27c115716285a4f7187969e.jpg',\n",
              " 'drive/MyDrive/Dog Vision/train/0b72856996ad5826afff7195ff678589.jpg',\n",
              " 'drive/MyDrive/Dog Vision/train/0b86485ef980b0b4999e7ede1f90999e.jpg',\n",
              " 'drive/MyDrive/Dog Vision/train/0b97116ed04c8f0f7eb4a2b4b2620476.jpg',\n",
              " 'drive/MyDrive/Dog Vision/train/0b9be33db71b9237002df13d40b7282a.jpg',\n",
              " 'drive/MyDrive/Dog Vision/train/0b9d58d8d2626f80bbc5cc3ccf7e8bad.jpg',\n",
              " 'drive/MyDrive/Dog Vision/train/0b9fc8956444d4f5296ace3a4928541b.jpg',\n",
              " 'drive/MyDrive/Dog Vision/train/0ba0f44a7f83539a71e4d74f549c8be6.jpg',\n",
              " 'drive/MyDrive/Dog Vision/train/0ba12512fa4766cc4f8c288cb3b9b95f.jpg',\n",
              " 'drive/MyDrive/Dog Vision/train/0bac7ab4e3b6c7a5331067827cda04e6.jpg',\n",
              " 'drive/MyDrive/Dog Vision/train/0bad79c06832a1bdeaedbbb50a28450a.jpg',\n",
              " 'drive/MyDrive/Dog Vision/train/0bbb9ce1f03a205fead338f0be3040bc.jpg',\n",
              " 'drive/MyDrive/Dog Vision/train/0bbe00ace11a4dd944b8bcf8ca9772c1.jpg',\n",
              " 'drive/MyDrive/Dog Vision/train/0be68a5e7b40e9689c3ef2a9764bfcf6.jpg',\n",
              " 'drive/MyDrive/Dog Vision/train/0be845d1fe8a0ad6da6ffa454ab33e8a.jpg',\n",
              " 'drive/MyDrive/Dog Vision/train/0beb24726c7210a5021f22d6c511cd71.jpg',\n",
              " 'drive/MyDrive/Dog Vision/train/0bedbecd92390ef9f4f7c8b06a629340.jpg',\n",
              " 'drive/MyDrive/Dog Vision/train/0bf36935030d2b842b86526bdb367ff1.jpg',\n",
              " 'drive/MyDrive/Dog Vision/train/0bf89dcb09d8c76be568f17811664560.jpg',\n",
              " 'drive/MyDrive/Dog Vision/train/0c0955cddf9488d30e6e8d4ee7c18856.jpg',\n",
              " 'drive/MyDrive/Dog Vision/train/0c0bca6e79cc323669da06bab0013b12.jpg',\n",
              " 'drive/MyDrive/Dog Vision/train/0c0fb87fb13f0f6c8d21ff6c15e3361e.jpg',\n",
              " 'drive/MyDrive/Dog Vision/train/0c19867277e6c96ad8f487b4fe343ff9.jpg',\n",
              " 'drive/MyDrive/Dog Vision/train/0c1a1b2adfd0aa2fef3eb974b9b95734.jpg',\n",
              " 'drive/MyDrive/Dog Vision/train/0c1d98a09381f4dfffc510fab188f189.jpg',\n",
              " 'drive/MyDrive/Dog Vision/train/0c207c7af2d1ef71dc61434f04d00cdf.jpg',\n",
              " 'drive/MyDrive/Dog Vision/train/0c24a6dac8f0dc55edeb80a7b683af5e.jpg',\n",
              " 'drive/MyDrive/Dog Vision/train/0c286c574ef09562c123dafe5ce6ac23.jpg',\n",
              " 'drive/MyDrive/Dog Vision/train/0c2fdeb77e6e650e69ecca013c7e8e67.jpg',\n",
              " 'drive/MyDrive/Dog Vision/train/0c329020d6ca0ae5af30f6857ac7e86c.jpg',\n",
              " 'drive/MyDrive/Dog Vision/train/0c36c19e7c4e932b8e0c01aa845b2fce.jpg',\n",
              " 'drive/MyDrive/Dog Vision/train/0c378307f600ba007a7eaa50fba6d0b8.jpg',\n",
              " 'drive/MyDrive/Dog Vision/train/0c3b282ecbed1ca9eb17de4cb1b6e326.jpg',\n",
              " 'drive/MyDrive/Dog Vision/train/0c4ac597d196aaf07f3af039b8fd6925.jpg',\n",
              " 'drive/MyDrive/Dog Vision/train/0c64a816fcd8aa13dbd4e874307bad51.jpg',\n",
              " 'drive/MyDrive/Dog Vision/train/0c68a578981993b919e89c611f04a97f.jpg',\n",
              " 'drive/MyDrive/Dog Vision/train/0c71084d955bfca989d865cbcf8cf8ae.jpg',\n",
              " 'drive/MyDrive/Dog Vision/train/0c71338af3f3a8c068ec28b5f6b8f8ae.jpg',\n",
              " 'drive/MyDrive/Dog Vision/train/0c8fe33bd89646b678f6b2891df8a1c6.jpg',\n",
              " 'drive/MyDrive/Dog Vision/train/0c9bac77cd53f1c6756c7581e9b0bd00.jpg',\n",
              " 'drive/MyDrive/Dog Vision/train/0c9fc0f58a6724ca680c76785a452bba.jpg',\n",
              " 'drive/MyDrive/Dog Vision/train/0ca382d7309e346ac802a202d0fa8c67.jpg',\n",
              " 'drive/MyDrive/Dog Vision/train/0ca9280205bd68d201e1d708db3f209d.jpg',\n",
              " 'drive/MyDrive/Dog Vision/train/0cb1bf12ae0fd5f681ae579c2a28ccd8.jpg',\n",
              " 'drive/MyDrive/Dog Vision/train/0cb5839c82f7c1286e55f260d4e608c4.jpg',\n",
              " 'drive/MyDrive/Dog Vision/train/0cbca2fcad7910a3c98d734e17cfde65.jpg',\n",
              " 'drive/MyDrive/Dog Vision/train/0cbdda18846cd014dcb0e18fa67f3f98.jpg',\n",
              " 'drive/MyDrive/Dog Vision/train/0cdd66f35d9b7d8b0a98a4d506396c0d.jpg',\n",
              " 'drive/MyDrive/Dog Vision/train/0ce7dd8b119184e91088336ec6973d53.jpg',\n",
              " 'drive/MyDrive/Dog Vision/train/0cf285cc3f1625bd80288cd6b7ddb7e0.jpg',\n",
              " 'drive/MyDrive/Dog Vision/train/0cf4dabd83d91e22f6ce845fe81fa21d.jpg',\n",
              " 'drive/MyDrive/Dog Vision/train/0d0d0f7c689020c35b83a91e7717624b.jpg',\n",
              " 'drive/MyDrive/Dog Vision/train/0d103ca7cf575757374f8f6ae87d8868.jpg',\n",
              " 'drive/MyDrive/Dog Vision/train/0d1d7bacd20ef921e9b3fce6d9b9f9f0.jpg',\n",
              " 'drive/MyDrive/Dog Vision/train/0d2129d0eda43dd8514ea309c29ddbb0.jpg',\n",
              " 'drive/MyDrive/Dog Vision/train/0d2dc4f72cc5d6d26055989b217a2450.jpg',\n",
              " 'drive/MyDrive/Dog Vision/train/0d2f9e12a2611d911d91a339074c8154.jpg',\n",
              " 'drive/MyDrive/Dog Vision/train/0d303784e6740e5de249e1f2078a7b4b.jpg',\n",
              " 'drive/MyDrive/Dog Vision/train/0d30e235aebdde78be6e2a59becb582d.jpg',\n",
              " 'drive/MyDrive/Dog Vision/train/0d37ea8a209eb60e9c03eaedf3fd5384.jpg',\n",
              " 'drive/MyDrive/Dog Vision/train/0d3b46bdc45c8bc24ed89cff69f06ab3.jpg',\n",
              " 'drive/MyDrive/Dog Vision/train/0d4e09456d9ebfdb076e34326586f18e.jpg',\n",
              " 'drive/MyDrive/Dog Vision/train/0d579f92d60935a54aa6dba6e6213257.jpg',\n",
              " 'drive/MyDrive/Dog Vision/train/0d5a88f0ab2db8d34b533c69768135e8.jpg',\n",
              " 'drive/MyDrive/Dog Vision/train/0d68c98ac13f84032cb863abf0498a02.jpg',\n",
              " 'drive/MyDrive/Dog Vision/train/0d693ab130c18e15f923f59eb102def9.jpg',\n",
              " 'drive/MyDrive/Dog Vision/train/0d695ef1bfe438be0cedcb8ef146afad.jpg',\n",
              " 'drive/MyDrive/Dog Vision/train/0d6bab298a320221f08c49c701d3e06f.jpg',\n",
              " 'drive/MyDrive/Dog Vision/train/0d6c6238a4cc499bb57fa0c10a15f8ad.jpg',\n",
              " 'drive/MyDrive/Dog Vision/train/0d74e47d162e023bb1ae5aae40276fd6.jpg',\n",
              " 'drive/MyDrive/Dog Vision/train/0d82788cd302dba65793ea68f55cc649.jpg',\n",
              " 'drive/MyDrive/Dog Vision/train/0d83fbe9ab3684226edd81a13411bdf8.jpg',\n",
              " 'drive/MyDrive/Dog Vision/train/0d8858e722c5f9834ddbdcecbf3cd4d6.jpg',\n",
              " 'drive/MyDrive/Dog Vision/train/0d8d386390ba269dd4e475c20b91e8f9.jpg',\n",
              " 'drive/MyDrive/Dog Vision/train/0d96ca29ff2e557e93c3de0ba017ff61.jpg',\n",
              " 'drive/MyDrive/Dog Vision/train/0daad4c8568dd89f295f6c3837b772df.jpg',\n",
              " 'drive/MyDrive/Dog Vision/train/0db44ddb42bf1f97de987abe2bf01839.jpg',\n",
              " 'drive/MyDrive/Dog Vision/train/0dbf0bd0fdc7b594de02e573b1a04a56.jpg',\n",
              " 'drive/MyDrive/Dog Vision/train/0dc3196b4213a2733d7f4bdcd41699d3.jpg',\n",
              " 'drive/MyDrive/Dog Vision/train/0dc45e3e57bbcfccc550479d57b39951.jpg',\n",
              " 'drive/MyDrive/Dog Vision/train/0dc7954749dc0224639be29aba3f1708.jpg',\n",
              " 'drive/MyDrive/Dog Vision/train/0dcb8150908bbb7b7fff1b9d41a358ba.jpg',\n",
              " 'drive/MyDrive/Dog Vision/train/0dd1914e122292dfbb25e35537b511f6.jpg',\n",
              " 'drive/MyDrive/Dog Vision/train/0dd7b725203b91c30ca4f796d168e6ba.jpg',\n",
              " 'drive/MyDrive/Dog Vision/train/0ddbc4702eff570783cd03645571e7f7.jpg',\n",
              " 'drive/MyDrive/Dog Vision/train/0dde7ba887ee083616993d5892db139f.jpg',\n",
              " 'drive/MyDrive/Dog Vision/train/0ddf7ab49836b36081621a655f3a5c21.jpg',\n",
              " 'drive/MyDrive/Dog Vision/train/0df07a23ab97135ce7d390f2d12e388d.jpg',\n",
              " 'drive/MyDrive/Dog Vision/train/0df3cd4042fa7c2a6e008a3a849a23d1.jpg',\n",
              " 'drive/MyDrive/Dog Vision/train/0df400016a7e7ab4abff824bf2743f02.jpg',\n",
              " 'drive/MyDrive/Dog Vision/train/0df4124761f7303a0080d50377f2ec7b.jpg',\n",
              " 'drive/MyDrive/Dog Vision/train/0dff1edc6643df0d8ea6e0c5ca63b133.jpg',\n",
              " 'drive/MyDrive/Dog Vision/train/0e0e44349e6955bea9fea91de26a6980.jpg',\n",
              " 'drive/MyDrive/Dog Vision/train/0e167bb5c5d4736190d220d081d1de23.jpg',\n",
              " 'drive/MyDrive/Dog Vision/train/0e1ac042292a573ecd0ec71b3b646997.jpg',\n",
              " 'drive/MyDrive/Dog Vision/train/0e1fcfa1796f8c54b9fa4b56a3a1fc4e.jpg',\n",
              " 'drive/MyDrive/Dog Vision/train/0e24a584e10db2c8f827ab00772e29cf.jpg',\n",
              " 'drive/MyDrive/Dog Vision/train/0e33a6b9235d5cbb8712daf0abbd0007.jpg',\n",
              " 'drive/MyDrive/Dog Vision/train/0e3cdff3560de43a8aa1d9820c211fae.jpg',\n",
              " 'drive/MyDrive/Dog Vision/train/0e403e86dc961d59fec94dfb62968a53.jpg',\n",
              " 'drive/MyDrive/Dog Vision/train/0e47c35f24067b19557e15fcfd48778c.jpg',\n",
              " 'drive/MyDrive/Dog Vision/train/0e532335572b91360975154c90381689.jpg',\n",
              " 'drive/MyDrive/Dog Vision/train/0e549376cfed70cf2a5b84e7a42d85ef.jpg',\n",
              " 'drive/MyDrive/Dog Vision/train/0e63b24bfd67158963830f64b5126aef.jpg',\n",
              " 'drive/MyDrive/Dog Vision/train/0e6e4b104e3cdf4c1963d74a27390f8e.jpg',\n",
              " 'drive/MyDrive/Dog Vision/train/0e6f7b1083d38cfef96ccdf3171608d3.jpg',\n",
              " 'drive/MyDrive/Dog Vision/train/0e708dfe2a8c60849a4b625eda57d118.jpg',\n",
              " 'drive/MyDrive/Dog Vision/train/0e756365807ec27c6dfd944ba5b442b3.jpg',\n",
              " 'drive/MyDrive/Dog Vision/train/0e7691c13a9267b621ffb866a83d08aa.jpg',\n",
              " 'drive/MyDrive/Dog Vision/train/0e7712450813da57f7df73fc45a183b4.jpg',\n",
              " 'drive/MyDrive/Dog Vision/train/0e7856dbcebb2268b839888c7972e8fb.jpg',\n",
              " 'drive/MyDrive/Dog Vision/train/0e79be614f12deb4f7cae18614b7391b.jpg',\n",
              " 'drive/MyDrive/Dog Vision/train/0e8d2f2fcb0efac6b731c191beb66559.jpg',\n",
              " 'drive/MyDrive/Dog Vision/train/0e934073a6b9505c0ded4e34437ca538.jpg',\n",
              " 'drive/MyDrive/Dog Vision/train/0e94678bb5498dc6df640553bf3a1b2f.jpg',\n",
              " 'drive/MyDrive/Dog Vision/train/0e96d18ac522425bd231c3d8a32159da.jpg',\n",
              " 'drive/MyDrive/Dog Vision/train/0ea00d73664139c52ee1eaabc77ea478.jpg',\n",
              " 'drive/MyDrive/Dog Vision/train/0ea5759640f2e1c2d1a06adaf8a54ca7.jpg',\n",
              " 'drive/MyDrive/Dog Vision/train/0ea78b024dc3955332d3ddb08b8e50f0.jpg',\n",
              " 'drive/MyDrive/Dog Vision/train/0eac90a6621ecbf97adfec04596b77a3.jpg',\n",
              " 'drive/MyDrive/Dog Vision/train/0eaea4c6fe055607ed8322db0306285f.jpg',\n",
              " 'drive/MyDrive/Dog Vision/train/0eafdcc7628b2c74983819f40c763c2f.jpg',\n",
              " 'drive/MyDrive/Dog Vision/train/0eb00c6fc429ecc2cf8745a6334594ad.jpg',\n",
              " 'drive/MyDrive/Dog Vision/train/0eb297c3d5f6cc93371f02f4ed35879c.jpg',\n",
              " 'drive/MyDrive/Dog Vision/train/0eb6e0f872b393654bea530bfc2cac1d.jpg',\n",
              " 'drive/MyDrive/Dog Vision/train/0ebfd68f64bd750fca790f0b40d69481.jpg',\n",
              " 'drive/MyDrive/Dog Vision/train/0ec6e2d3078a83ccc3f7fd5a4ac01e3e.jpg',\n",
              " 'drive/MyDrive/Dog Vision/train/0ec8020bc2c4bc1646a81737be8580e0.jpg',\n",
              " 'drive/MyDrive/Dog Vision/train/0ec9be8b32f2b9eff2b817a7f722b118.jpg',\n",
              " 'drive/MyDrive/Dog Vision/train/0eeb17d40281f3bd639de24ca662c5d2.jpg',\n",
              " 'drive/MyDrive/Dog Vision/train/0ef07f4a6706a04af9ff354e263a28b3.jpg',\n",
              " 'drive/MyDrive/Dog Vision/train/0ef688efcc98bc287976c3d4d8145ae8.jpg',\n",
              " 'drive/MyDrive/Dog Vision/train/0ef80d6c4d739faaae8d3cc08c696c54.jpg',\n",
              " 'drive/MyDrive/Dog Vision/train/0f015731185a2308c1a85eed4e8ad728.jpg',\n",
              " 'drive/MyDrive/Dog Vision/train/0f03e05c333f7e5538d4c90f9c837796.jpg',\n",
              " 'drive/MyDrive/Dog Vision/train/0f04466edd10d6c1d27e123399cf4433.jpg',\n",
              " 'drive/MyDrive/Dog Vision/train/0f0effd9b5d25fdab84c2a8ae17d6deb.jpg',\n",
              " 'drive/MyDrive/Dog Vision/train/0f0f297dca75b5c780316a0f4169a950.jpg',\n",
              " 'drive/MyDrive/Dog Vision/train/0f1c3858495a49949934d2a635e190cf.jpg',\n",
              " 'drive/MyDrive/Dog Vision/train/0f23ce5c1129ad70c079d262448d9fac.jpg',\n",
              " 'drive/MyDrive/Dog Vision/train/0f26d3f7ff65d0713f36cd8cfe6c7a5f.jpg',\n",
              " 'drive/MyDrive/Dog Vision/train/0f2a90c737499a7d8bf26bb5348874da.jpg',\n",
              " 'drive/MyDrive/Dog Vision/train/0f2c56b4d40a8e86b8c91545e625b79a.jpg',\n",
              " 'drive/MyDrive/Dog Vision/train/0f2fbcae9ec83165d1ce5f5783fcb903.jpg',\n",
              " 'drive/MyDrive/Dog Vision/train/0f3416f29133c2df1b00be4448dc4473.jpg',\n",
              " 'drive/MyDrive/Dog Vision/train/0f378abee01a23bc9e651753300a9a36.jpg',\n",
              " 'drive/MyDrive/Dog Vision/train/0f46feccc1e3e8729fb680a72debb29c.jpg',\n",
              " 'drive/MyDrive/Dog Vision/train/0f5dd4999e44100d74f68c789f3edc54.jpg',\n",
              " 'drive/MyDrive/Dog Vision/train/0f6d2d6c124fb61ba7c59ef8dbd42c99.jpg',\n",
              " 'drive/MyDrive/Dog Vision/train/0f73c1cc99dd8b9c580c4260debf1f93.jpg',\n",
              " 'drive/MyDrive/Dog Vision/train/0f74df5d1c925541eb1b3031a82a5cb8.jpg',\n",
              " 'drive/MyDrive/Dog Vision/train/0f7c32eb17dce55860772c983f557e3c.jpg',\n",
              " 'drive/MyDrive/Dog Vision/train/0f7c817dd5f8b8d6b57e3b7f3e2f4f56.jpg',\n",
              " 'drive/MyDrive/Dog Vision/train/0f7db98cbd6f6537c0ac3dfad349b182.jpg',\n",
              " 'drive/MyDrive/Dog Vision/train/0f8e8464cfa3bacc074d6e0289d6657f.jpg',\n",
              " 'drive/MyDrive/Dog Vision/train/0f91ba06bfea7401f59c6d796717029d.jpg',\n",
              " 'drive/MyDrive/Dog Vision/train/0f91c68e2088b8d45950cdde991f37d1.jpg',\n",
              " 'drive/MyDrive/Dog Vision/train/0f976e55b3634296183b2b1c051d5bda.jpg',\n",
              " 'drive/MyDrive/Dog Vision/train/0f9a30195723e9951f65ac1246e5deac.jpg',\n",
              " 'drive/MyDrive/Dog Vision/train/0f9d92617b85252200cf99ef0f84d59d.jpg',\n",
              " 'drive/MyDrive/Dog Vision/train/0fa302727af44e7ad8033825cea98d7c.jpg',\n",
              " 'drive/MyDrive/Dog Vision/train/0fa361cea0655e945970cd4762355ac0.jpg',\n",
              " 'drive/MyDrive/Dog Vision/train/0fa7d7d2e948948c67919565a380ad45.jpg',\n",
              " 'drive/MyDrive/Dog Vision/train/0fb1454104deee316f52244bb2037b37.jpg',\n",
              " 'drive/MyDrive/Dog Vision/train/0fbacbbdb4ad588598757b6d4bd111f1.jpg',\n",
              " 'drive/MyDrive/Dog Vision/train/0fbfe941d913c3976a13cc4925e67389.jpg',\n",
              " 'drive/MyDrive/Dog Vision/train/0fc12a365adfcbb603e298b10149632a.jpg',\n",
              " 'drive/MyDrive/Dog Vision/train/0fc1bd3c4d89b3f89dc91605032fa8f9.jpg',\n",
              " 'drive/MyDrive/Dog Vision/train/0fc4930f411a11df34283f349d891654.jpg',\n",
              " 'drive/MyDrive/Dog Vision/train/0fc6556b7504fc473d8bdaa0a555a4de.jpg',\n",
              " 'drive/MyDrive/Dog Vision/train/0fcaccf71de140cfbc77c793e6a485bd.jpg',\n",
              " 'drive/MyDrive/Dog Vision/train/0fd8e587dd02713551fc1fb0c8841c49.jpg',\n",
              " 'drive/MyDrive/Dog Vision/train/0fded83899cc06dc30c1bda6302b5bd6.jpg',\n",
              " 'drive/MyDrive/Dog Vision/train/0fdfc060cdbaf30f356ffb4946df4580.jpg',\n",
              " 'drive/MyDrive/Dog Vision/train/0fe613c90931a021ad3716dcb9a5f270.jpg',\n",
              " 'drive/MyDrive/Dog Vision/train/0fee7eb61d52b589414845803d73f2f9.jpg',\n",
              " 'drive/MyDrive/Dog Vision/train/0ff07d44f992eec7f0b5452875255c80.jpg',\n",
              " 'drive/MyDrive/Dog Vision/train/1006967db8c3d015cb0d272c4ae623a5.jpg',\n",
              " 'drive/MyDrive/Dog Vision/train/100965db7a00c9752519e342ce9baf99.jpg',\n",
              " 'drive/MyDrive/Dog Vision/train/100f347ec78a42a9e7c2418e4beb3f6a.jpg',\n",
              " 'drive/MyDrive/Dog Vision/train/1012fef5c11e2875d2268c93253108ff.jpg',\n",
              " 'drive/MyDrive/Dog Vision/train/1015e4eba660def32e7e52b89fe3a9c6.jpg',\n",
              " 'drive/MyDrive/Dog Vision/train/101c7d1a68a7282bbc5a1a226d81cd74.jpg',\n",
              " 'drive/MyDrive/Dog Vision/train/1026e954ac304be5f049e79ee6a045c0.jpg',\n",
              " 'drive/MyDrive/Dog Vision/train/102b81ed975bfa49e496526720e9b671.jpg',\n",
              " 'drive/MyDrive/Dog Vision/train/102fe645c59f482cbc771c01cfff3ff9.jpg',\n",
              " 'drive/MyDrive/Dog Vision/train/103e4b4c0ebb0e8dabe6d47970fb546b.jpg',\n",
              " 'drive/MyDrive/Dog Vision/train/1041e0480ed0b88c41169fb2b119fcf7.jpg',\n",
              " 'drive/MyDrive/Dog Vision/train/1043003fb33c5fa1d094cde3c0dd1fd5.jpg',\n",
              " 'drive/MyDrive/Dog Vision/train/104a6182cff3f37406fb77b7f0c40402.jpg',\n",
              " 'drive/MyDrive/Dog Vision/train/104f3118ce7eba3e48138ccaa201f25a.jpg',\n",
              " 'drive/MyDrive/Dog Vision/train/1066d43c5f952120ec355bb56459228a.jpg',\n",
              " 'drive/MyDrive/Dog Vision/train/1069587e556525ecf7b3c6def3c096d7.jpg',\n",
              " 'drive/MyDrive/Dog Vision/train/106a740e7e34d80e35b0f40a3d96fc1b.jpg',\n",
              " 'drive/MyDrive/Dog Vision/train/106d7e0df869e7ba9f6d16c5f77ddfb8.jpg',\n",
              " 'drive/MyDrive/Dog Vision/train/10706a4ccdd719191686b98d4dc48ed0.jpg',\n",
              " 'drive/MyDrive/Dog Vision/train/10730dfd280bb4b2723dc677378f2ff1.jpg',\n",
              " 'drive/MyDrive/Dog Vision/train/1081c1b755f05b219275afd0989c6748.jpg',\n",
              " 'drive/MyDrive/Dog Vision/train/1083fffa8c174aa1a46627f53e1e50f8.jpg',\n",
              " 'drive/MyDrive/Dog Vision/train/1089c1e5058ffff12e1cca2e85205ed8.jpg',\n",
              " 'drive/MyDrive/Dog Vision/train/1095f3f511b5d85db6e614fc6cf58250.jpg',\n",
              " 'drive/MyDrive/Dog Vision/train/109bfcf2de8f0b7eb5f7768a51ebd565.jpg',\n",
              " 'drive/MyDrive/Dog Vision/train/10a59be0ffb5e269849d409d05b1e94c.jpg',\n",
              " 'drive/MyDrive/Dog Vision/train/10b7de79c1ce32cb8928616b00c3686e.jpg',\n",
              " 'drive/MyDrive/Dog Vision/train/10c132cf556fc31a60c0f07e0d416a6c.jpg',\n",
              " 'drive/MyDrive/Dog Vision/train/10c2616bf8e750b282cea404d01a3429.jpg',\n",
              " 'drive/MyDrive/Dog Vision/train/10c9288e30af850676d34c18fb7c1632.jpg',\n",
              " 'drive/MyDrive/Dog Vision/train/10c9ac7d54eaf2a4ed12883125afa4e2.jpg',\n",
              " 'drive/MyDrive/Dog Vision/train/10ce268c0affd428a49ada5a79fe9ca8.jpg',\n",
              " 'drive/MyDrive/Dog Vision/train/10d766340a5c0038f2b0529a63ecf2ba.jpg',\n",
              " 'drive/MyDrive/Dog Vision/train/10e2fcf8d3292866bc93d1048cec7962.jpg',\n",
              " 'drive/MyDrive/Dog Vision/train/10ebf7599dd41ded00fd74bdfeada500.jpg',\n",
              " 'drive/MyDrive/Dog Vision/train/10edc6f98c2423e4e195e09a86b0d292.jpg',\n",
              " 'drive/MyDrive/Dog Vision/train/10f1d53bb20d5acc7c8772018399c238.jpg',\n",
              " 'drive/MyDrive/Dog Vision/train/10f7757fdc673e159e47ea20834ba551.jpg',\n",
              " 'drive/MyDrive/Dog Vision/train/10f790eb0fe5653c1980ddd983ec79c4.jpg',\n",
              " 'drive/MyDrive/Dog Vision/train/1108e48ce3e2d7d7fb527ae6e40ab486.jpg',\n",
              " 'drive/MyDrive/Dog Vision/train/1116f9aa5db9ee09090115d09f327093.jpg',\n",
              " 'drive/MyDrive/Dog Vision/train/112b85d8e95da86fdf51031caea20d5e.jpg',\n",
              " 'drive/MyDrive/Dog Vision/train/1132baf0ad2beef88c9d78c8ee21778c.jpg',\n",
              " 'drive/MyDrive/Dog Vision/train/113c17f9199d16d1a9a1b16e3740ef78.jpg',\n",
              " 'drive/MyDrive/Dog Vision/train/113ef2bb9e14d89f927314f73d573313.jpg',\n",
              " 'drive/MyDrive/Dog Vision/train/1143bb719660680ac0174ce68dc16773.jpg',\n",
              " 'drive/MyDrive/Dog Vision/train/114524d11fe49af5be43897233a4f65e.jpg',\n",
              " 'drive/MyDrive/Dog Vision/train/11476f28c0143a77c536b597a177abc9.jpg',\n",
              " 'drive/MyDrive/Dog Vision/train/114a27c91c2ecc5818688abd63461c94.jpg',\n",
              " 'drive/MyDrive/Dog Vision/train/1158819241bb6eee2c1ff790a885ecf3.jpg',\n",
              " 'drive/MyDrive/Dog Vision/train/115ad26b0cef153d2afaf6985503c9c3.jpg',\n",
              " 'drive/MyDrive/Dog Vision/train/1165dd8264b3998810065ab9e3cecb3b.jpg',\n",
              " 'drive/MyDrive/Dog Vision/train/117085659f91228627caf21a574f2bbf.jpg',\n",
              " 'drive/MyDrive/Dog Vision/train/11722136645ee54db58a0df76eae2179.jpg',\n",
              " 'drive/MyDrive/Dog Vision/train/11730ea41395edaaa3a80d757c7dd1c2.jpg',\n",
              " 'drive/MyDrive/Dog Vision/train/1177d2702335c889d4c1456e45e3d2ef.jpg',\n",
              " 'drive/MyDrive/Dog Vision/train/118060ca946af5cfd1b3bbe030f9003c.jpg',\n",
              " 'drive/MyDrive/Dog Vision/train/118089e60763cbdba239cac747a54a6e.jpg',\n",
              " 'drive/MyDrive/Dog Vision/train/118902ec1a74243e96f818e9c5a8ea50.jpg',\n",
              " 'drive/MyDrive/Dog Vision/train/1195f58740671fa1d73c91f39031e417.jpg',\n",
              " 'drive/MyDrive/Dog Vision/train/119c85c592c1a60030abe35a6b49fa57.jpg',\n",
              " 'drive/MyDrive/Dog Vision/train/11a508588bc3dec81bd4ce4913f963cd.jpg',\n",
              " 'drive/MyDrive/Dog Vision/train/11a7275abdc2e78ff72c59e59189d1eb.jpg',\n",
              " 'drive/MyDrive/Dog Vision/train/11b60d8d86f14a601ca290909a17cbc6.jpg',\n",
              " 'drive/MyDrive/Dog Vision/train/11bbd6229f14cc68bd0f157a9ef1d47d.jpg',\n",
              " 'drive/MyDrive/Dog Vision/train/11c0aaa58a419a61513b5c1f27b67f16.jpg',\n",
              " 'drive/MyDrive/Dog Vision/train/11c3b389906a9302def1e873c9f9b6c9.jpg',\n",
              " 'drive/MyDrive/Dog Vision/train/11d669406a273858a123d1d1c87354c9.jpg',\n",
              " 'drive/MyDrive/Dog Vision/train/11da2a7ad0326cbf4b46da32b1b82bc6.jpg',\n",
              " 'drive/MyDrive/Dog Vision/train/11de51e128d743d0d40dd8ce3b4fdb92.jpg',\n",
              " 'drive/MyDrive/Dog Vision/train/11e29ec9659995ebdc80f8d812dedaa8.jpg',\n",
              " 'drive/MyDrive/Dog Vision/train/11e572c36d23d362ff987d7f8828dd45.jpg',\n",
              " 'drive/MyDrive/Dog Vision/train/11f1e40f11ca1babbcc547c5c98a1a3c.jpg',\n",
              " 'drive/MyDrive/Dog Vision/train/11f968569f31c60b73a6d50b907f800f.jpg',\n",
              " 'drive/MyDrive/Dog Vision/train/12078d0ea135483e4bc48e2f13678588.jpg',\n",
              " 'drive/MyDrive/Dog Vision/train/120c338a78b113785c31e4ebf11d229e.jpg',\n",
              " 'drive/MyDrive/Dog Vision/train/120e665f7fa566a429d27ad920fc34da.jpg',\n",
              " 'drive/MyDrive/Dog Vision/train/122abc906f3215996cbcccf63c8fc89c.jpg',\n",
              " 'drive/MyDrive/Dog Vision/train/1234dd4303d5181574ca007f53ed03db.jpg',\n",
              " 'drive/MyDrive/Dog Vision/train/123c19c8d168e7704273cb7174351821.jpg',\n",
              " 'drive/MyDrive/Dog Vision/train/123ffeb6b374097856bffdd11b693668.jpg',\n",
              " 'drive/MyDrive/Dog Vision/train/12405b2e93417d81f5308769c4e184c7.jpg',\n",
              " 'drive/MyDrive/Dog Vision/train/1241cd8dc2ee02844a420b6d0afbc97e.jpg',\n",
              " 'drive/MyDrive/Dog Vision/train/1242d1521d58b7cc6dd03d95a02c8bcb.jpg',\n",
              " 'drive/MyDrive/Dog Vision/train/1242da788ce85d4311e1cc9922a0a809.jpg',\n",
              " 'drive/MyDrive/Dog Vision/train/1257cafca085d403a583378d525953d5.jpg',\n",
              " 'drive/MyDrive/Dog Vision/train/12590e7d21b4e221217c7fc8fa67a800.jpg',\n",
              " 'drive/MyDrive/Dog Vision/train/1268223049f00d74f20d4f2af3126234.jpg',\n",
              " 'drive/MyDrive/Dog Vision/train/1278143f78dc063c1e29970bf3eb32a2.jpg',\n",
              " 'drive/MyDrive/Dog Vision/train/12815630b892efa2744926fe59382491.jpg',\n",
              " 'drive/MyDrive/Dog Vision/train/129cff4506469af7863a6e30c9947a66.jpg',\n",
              " 'drive/MyDrive/Dog Vision/train/12a2e809d7f15298050f3798c018c395.jpg',\n",
              " 'drive/MyDrive/Dog Vision/train/12a96a9c366b60dcc62fec29006780a3.jpg',\n",
              " 'drive/MyDrive/Dog Vision/train/12a9f1c02202a020fe9e51fc46dc780f.jpg',\n",
              " 'drive/MyDrive/Dog Vision/train/12b5c6e825ea11850e23f233a54981f3.jpg',\n",
              " 'drive/MyDrive/Dog Vision/train/12b72be0bcd7a96172fee4f7cd5b01fd.jpg',\n",
              " 'drive/MyDrive/Dog Vision/train/12b839068a6c29541797fa9bd20f350c.jpg',\n",
              " 'drive/MyDrive/Dog Vision/train/12b880c67ff773988a16cee76be47c54.jpg',\n",
              " 'drive/MyDrive/Dog Vision/train/12bd4b1926c160fcd73ae48215e2b12d.jpg',\n",
              " 'drive/MyDrive/Dog Vision/train/12c222ec2e7808183056af545a4bc046.jpg',\n",
              " 'drive/MyDrive/Dog Vision/train/12c65c69fa9e112448f7d26ed34abb57.jpg',\n",
              " 'drive/MyDrive/Dog Vision/train/12c9f56e73ac9f4a08afb142f89051ae.jpg',\n",
              " 'drive/MyDrive/Dog Vision/train/12d1b8763a1b74c7e40c65b005f91ea9.jpg',\n",
              " 'drive/MyDrive/Dog Vision/train/12db63491c6590c8ef38dc1824aa4b81.jpg',\n",
              " 'drive/MyDrive/Dog Vision/train/12de62fb1fa5a48d596428dd5a90184a.jpg',\n",
              " 'drive/MyDrive/Dog Vision/train/12dfab0ecfdd9475b561febf2533513a.jpg',\n",
              " 'drive/MyDrive/Dog Vision/train/12e15979a85e881613f8f2cf49de08be.jpg',\n",
              " 'drive/MyDrive/Dog Vision/train/12eb341a614941c33777c708d43a042f.jpg',\n",
              " 'drive/MyDrive/Dog Vision/train/12f4a7e00a5a4fc215f6e0c3fda079c3.jpg',\n",
              " 'drive/MyDrive/Dog Vision/train/12fbfefaae57137c745f16b0cf11b84d.jpg',\n",
              " 'drive/MyDrive/Dog Vision/train/12fe7ed6bd250509b131d245551b06f6.jpg',\n",
              " 'drive/MyDrive/Dog Vision/train/1301d1dd2763e028cf70d0da4c1bab7b.jpg',\n",
              " 'drive/MyDrive/Dog Vision/train/1304760775c1aff0f21c311bd48f9580.jpg',\n",
              " 'drive/MyDrive/Dog Vision/train/1312009d41a9488bf5dc0af0289b0657.jpg',\n",
              " 'drive/MyDrive/Dog Vision/train/1312d2ca6f4bfd594624f7161be73ee7.jpg',\n",
              " 'drive/MyDrive/Dog Vision/train/131c49315a5bc73880b305a844bf531a.jpg',\n",
              " 'drive/MyDrive/Dog Vision/train/131ccf48aba2dc53174c170b2429e55b.jpg',\n",
              " 'drive/MyDrive/Dog Vision/train/131d708a270a3ebca285978bf53df62e.jpg',\n",
              " 'drive/MyDrive/Dog Vision/train/1321d074e879267699d42fdca77b4004.jpg',\n",
              " 'drive/MyDrive/Dog Vision/train/132538caad57960ca3c9162e2f4a8498.jpg',\n",
              " 'drive/MyDrive/Dog Vision/train/13267e83358116ad51bebdb1be3d0a8e.jpg',\n",
              " 'drive/MyDrive/Dog Vision/train/1351c4f7cec88e8ba56ada4c772d84f5.jpg',\n",
              " 'drive/MyDrive/Dog Vision/train/1352efb02c29ba1b9be918170afff486.jpg',\n",
              " 'drive/MyDrive/Dog Vision/train/135587061f51e7dabb820bbbd619977a.jpg',\n",
              " 'drive/MyDrive/Dog Vision/train/1369c16ecf370cee5e4a306eebe5656e.jpg',\n",
              " 'drive/MyDrive/Dog Vision/train/136b8208ffd0262ea1aa6f8c17265ff7.jpg',\n",
              " 'drive/MyDrive/Dog Vision/train/136e0fc1f67b72037c0e60faff6061f2.jpg',\n",
              " 'drive/MyDrive/Dog Vision/train/137f07bc5f15fa8e39f85a8333e68780.jpg',\n",
              " 'drive/MyDrive/Dog Vision/train/1381239a87d5a97caab8d0cf72a06e75.jpg',\n",
              " 'drive/MyDrive/Dog Vision/train/1381df385b4c5da43539ab48633bd9b5.jpg',\n",
              " 'drive/MyDrive/Dog Vision/train/1383bc8b2db4943fafe13b7f289f4a03.jpg',\n",
              " 'drive/MyDrive/Dog Vision/train/13863e32053e9735b55ba975ecd58cfd.jpg',\n",
              " 'drive/MyDrive/Dog Vision/train/1392df2ceab56cdf380813987c7c9ba5.jpg',\n",
              " 'drive/MyDrive/Dog Vision/train/13932827f30cb00d0cb4c40443c788f4.jpg',\n",
              " 'drive/MyDrive/Dog Vision/train/1399f1e08abd77f1b736303d4101d51c.jpg',\n",
              " 'drive/MyDrive/Dog Vision/train/139b8328a97a600cceb73b0875f80a98.jpg',\n",
              " 'drive/MyDrive/Dog Vision/train/139e8120addf833f72a8dc2c12ad4c8a.jpg',\n",
              " 'drive/MyDrive/Dog Vision/train/139fc3326016bf24cc06ad898c42742e.jpg',\n",
              " 'drive/MyDrive/Dog Vision/train/13b1ca09a561661a8c1a506d49b8dd83.jpg',\n",
              " 'drive/MyDrive/Dog Vision/train/13b5f36cb39cb5123958c6e4fbfd5399.jpg',\n",
              " 'drive/MyDrive/Dog Vision/train/13c5a0d636619210b5ac003ee82aacf0.jpg',\n",
              " 'drive/MyDrive/Dog Vision/train/13c630fcf8aa68ab0e97cd4a644b8943.jpg',\n",
              " 'drive/MyDrive/Dog Vision/train/13c7c6b47b97b9f0a4591fef29893436.jpg',\n",
              " 'drive/MyDrive/Dog Vision/train/13cab1309bdaf21aa17cf71fd6f88a65.jpg',\n",
              " 'drive/MyDrive/Dog Vision/train/13d42ef52eb6c649c14cb9ffa8b6fba4.jpg',\n",
              " 'drive/MyDrive/Dog Vision/train/13d470408dbbdc20b38ea32d3752edbb.jpg',\n",
              " 'drive/MyDrive/Dog Vision/train/13e2d0cb1fa62d3085be6877bd7e85cb.jpg',\n",
              " 'drive/MyDrive/Dog Vision/train/13e608df9c88b1465ebf98bc84d0a832.jpg',\n",
              " 'drive/MyDrive/Dog Vision/train/13ea49cd2b706ec9a15e7214e492bbb2.jpg',\n",
              " 'drive/MyDrive/Dog Vision/train/13ee74fa50b3e32356047fde4fd993ab.jpg',\n",
              " 'drive/MyDrive/Dog Vision/train/13f6cb46cb23d6eb41fa6931b73b3e4c.jpg',\n",
              " 'drive/MyDrive/Dog Vision/train/13f765ea64c7a3575a105cbdfbb6c31f.jpg',\n",
              " 'drive/MyDrive/Dog Vision/train/13f939b9b15ec56409a21017263db93c.jpg',\n",
              " 'drive/MyDrive/Dog Vision/train/13fc4571a3c549715a357d22fd16eabb.jpg',\n",
              " 'drive/MyDrive/Dog Vision/train/13feb3feb14fe8aa91f70411bc1b10e9.jpg',\n",
              " 'drive/MyDrive/Dog Vision/train/14095922a772c94921a065006a9fa454.jpg',\n",
              " 'drive/MyDrive/Dog Vision/train/1411967eaa020b15874e03167eceea62.jpg',\n",
              " 'drive/MyDrive/Dog Vision/train/141321373d0535ee37171a2d6ca9bcbb.jpg',\n",
              " 'drive/MyDrive/Dog Vision/train/14158fdadb6a3accea6b334d0f284092.jpg',\n",
              " 'drive/MyDrive/Dog Vision/train/1416047ba98d2c23eb2caf45d3008ccb.jpg',\n",
              " 'drive/MyDrive/Dog Vision/train/1416892831c073f6d3879d8cdf5386dd.jpg',\n",
              " 'drive/MyDrive/Dog Vision/train/141706c74486585c27de2dfb335695bb.jpg',\n",
              " 'drive/MyDrive/Dog Vision/train/1418b4cd78095ff2635ef02684a026b7.jpg',\n",
              " 'drive/MyDrive/Dog Vision/train/1428026a4472cda58ad13233bb9ad64d.jpg',\n",
              " 'drive/MyDrive/Dog Vision/train/142ef9990b3db0d521f87f9133a6b84f.jpg',\n",
              " 'drive/MyDrive/Dog Vision/train/1435300899e9180c90de6e100643b402.jpg',\n",
              " 'drive/MyDrive/Dog Vision/train/1438130db8837b0e5fdb8416e53353ec.jpg',\n",
              " 'drive/MyDrive/Dog Vision/train/1438ea6672622b5867ce2fbcebe6c552.jpg',\n",
              " 'drive/MyDrive/Dog Vision/train/143b9484273e57668d03bfc26755810a.jpg',\n",
              " 'drive/MyDrive/Dog Vision/train/143ce5343024462044b72de531b5ff08.jpg',\n",
              " 'drive/MyDrive/Dog Vision/train/143d5305a4055398828d5b7e3aa8f75b.jpg',\n",
              " 'drive/MyDrive/Dog Vision/train/14597c96d5c222eebd742f4207296314.jpg',\n",
              " 'drive/MyDrive/Dog Vision/train/145ec132c2a1cc4291bd774c7f78c871.jpg',\n",
              " 'drive/MyDrive/Dog Vision/train/145f7bb3bf6e4877b8b6624f612a1c24.jpg',\n",
              " 'drive/MyDrive/Dog Vision/train/1465759436b4acd2748dd50108b90ca9.jpg',\n",
              " 'drive/MyDrive/Dog Vision/train/146b732430bb63d5338fc6b7a8fc0135.jpg',\n",
              " 'drive/MyDrive/Dog Vision/train/146be641443a270dd8116f65d53d0c9d.jpg',\n",
              " 'drive/MyDrive/Dog Vision/train/146c249bf2d60bf30c309341020bf2ee.jpg',\n",
              " 'drive/MyDrive/Dog Vision/train/146c8ed2e65ed9e04d8302bf1d96815a.jpg',\n",
              " 'drive/MyDrive/Dog Vision/train/146fa113f3d8ad6e0effe9719e09cef1.jpg',\n",
              " 'drive/MyDrive/Dog Vision/train/146fbfac6b5b1f0de83a5d0c1b473377.jpg',\n",
              " 'drive/MyDrive/Dog Vision/train/146fcb253fd7b73b2c9f20d91a49f400.jpg',\n",
              " 'drive/MyDrive/Dog Vision/train/1472fb85b5c76d50009137da3dbde052.jpg',\n",
              " 'drive/MyDrive/Dog Vision/train/1476da6f7fc9421c8ec3c0aba6b3e1bf.jpg',\n",
              " 'drive/MyDrive/Dog Vision/train/14914d7f0348c56b32a779596c11ecd6.jpg',\n",
              " 'drive/MyDrive/Dog Vision/train/14918e76fc079738923ea5ab8d12b4ee.jpg',\n",
              " 'drive/MyDrive/Dog Vision/train/1493bf7f5cb1ca62b4e0772d9edc702e.jpg',\n",
              " 'drive/MyDrive/Dog Vision/train/14a24af1ce8c796dc96bb45dea1fb8dc.jpg',\n",
              " 'drive/MyDrive/Dog Vision/train/14a2795a5c3d69a5c18a63aad8718003.jpg',\n",
              " 'drive/MyDrive/Dog Vision/train/14a44cf4253e82340f83293e3920af11.jpg',\n",
              " 'drive/MyDrive/Dog Vision/train/14acf981af889d9b97d1d46a439228b0.jpg',\n",
              " 'drive/MyDrive/Dog Vision/train/14b1b3f0d45a15766dc02dc84899b07a.jpg',\n",
              " 'drive/MyDrive/Dog Vision/train/14b27fd74697cf699143ade2d4f801fc.jpg',\n",
              " 'drive/MyDrive/Dog Vision/train/14b6f4f65cf579f4a402b310be78b8ff.jpg',\n",
              " 'drive/MyDrive/Dog Vision/train/14babec7fedcfcfe575947797e2e01bd.jpg',\n",
              " 'drive/MyDrive/Dog Vision/train/14c00ab356d9261ea220ea91fa20a42d.jpg',\n",
              " 'drive/MyDrive/Dog Vision/train/14c8f5fc68ca8fb6b33a0082849b15ad.jpg',\n",
              " 'drive/MyDrive/Dog Vision/train/14cbd6c6c6550fa1306c8d4f7cf1a840.jpg',\n",
              " 'drive/MyDrive/Dog Vision/train/14cd98829e4e99e950af3cbf94ad1734.jpg',\n",
              " 'drive/MyDrive/Dog Vision/train/14cffe576239620f1733dfe487dbaa6f.jpg',\n",
              " 'drive/MyDrive/Dog Vision/train/14d2892358ea21837f7a9399c0b00acb.jpg',\n",
              " 'drive/MyDrive/Dog Vision/train/14dee67f611c52183fda5fc07db5d5fb.jpg',\n",
              " 'drive/MyDrive/Dog Vision/train/14e8bc7e0eaf52be607e0a654922a826.jpg',\n",
              " 'drive/MyDrive/Dog Vision/train/14e9a6d002632db71a18283fc024f086.jpg',\n",
              " 'drive/MyDrive/Dog Vision/train/14f25ad78f02126a1ceeb44385378cd1.jpg',\n",
              " 'drive/MyDrive/Dog Vision/train/14f4938d64e0da5582a4ced35cf33a6b.jpg',\n",
              " 'drive/MyDrive/Dog Vision/train/150a95102a32d2f099b02a445442310b.jpg',\n",
              " 'drive/MyDrive/Dog Vision/train/15137b6e02d5cd04cabb34aba1fabb9f.jpg',\n",
              " 'drive/MyDrive/Dog Vision/train/151474b992b295f69547839e31271dd0.jpg',\n",
              " 'drive/MyDrive/Dog Vision/train/15190d69d724d7e94ef64a347b959ccb.jpg',\n",
              " 'drive/MyDrive/Dog Vision/train/151f312fa21196af9b53b0e77baa3a06.jpg',\n",
              " 'drive/MyDrive/Dog Vision/train/152006ba4c78c907b2fc376a3336ae09.jpg',\n",
              " 'drive/MyDrive/Dog Vision/train/152aa0851b6a1349b99044f16eadc59d.jpg',\n",
              " 'drive/MyDrive/Dog Vision/train/152c0d164f42991d55d84dc30a1fa81f.jpg',\n",
              " 'drive/MyDrive/Dog Vision/train/15305c67da0838b92b90c66526cef5aa.jpg',\n",
              " 'drive/MyDrive/Dog Vision/train/1534c4b9f44f10bfb3e6e0ff32d08a9a.jpg',\n",
              " 'drive/MyDrive/Dog Vision/train/153697b802875722cb25421a661a4526.jpg',\n",
              " 'drive/MyDrive/Dog Vision/train/153bbd70025d2738418176e6ab7fedd0.jpg',\n",
              " 'drive/MyDrive/Dog Vision/train/153f05ef64f050530ea746a357855b20.jpg',\n",
              " 'drive/MyDrive/Dog Vision/train/153f0c739e9049612a62f111b9519429.jpg',\n",
              " 'drive/MyDrive/Dog Vision/train/1548eb783093ac6bdf011d07f3370a36.jpg',\n",
              " 'drive/MyDrive/Dog Vision/train/155052199dfac47b3a1ccbea97ce648c.jpg',\n",
              " 'drive/MyDrive/Dog Vision/train/1553cf296f4d83f015a07afde78fd747.jpg',\n",
              " 'drive/MyDrive/Dog Vision/train/156a5ab6d4cfe64e10f38af83f21a30a.jpg',\n",
              " 'drive/MyDrive/Dog Vision/train/156d6d6ef7da47aa22b150268af9a3c4.jpg',\n",
              " 'drive/MyDrive/Dog Vision/train/156e74a393c76b215752d692eccd9135.jpg',\n",
              " 'drive/MyDrive/Dog Vision/train/1574f04538521f284218dfbf2c8678ee.jpg',\n",
              " 'drive/MyDrive/Dog Vision/train/157e9d7fb607da0ff1d324933b9cbddf.jpg',\n",
              " 'drive/MyDrive/Dog Vision/train/158274c7a5b030a2e8462a55159bdfc4.jpg',\n",
              " 'drive/MyDrive/Dog Vision/train/1586326d52312228c20c3599feb72d7a.jpg',\n",
              " 'drive/MyDrive/Dog Vision/train/1596cf0ab964b3ff0587f0d30042ca18.jpg',\n",
              " 'drive/MyDrive/Dog Vision/train/159d07f089673cd225f3a47d08ee772f.jpg',\n",
              " 'drive/MyDrive/Dog Vision/train/159d8e089f2ce2a38580a02318fd9ecb.jpg',\n",
              " 'drive/MyDrive/Dog Vision/train/15a4ad475f9c8b2250df082b8e741d94.jpg',\n",
              " 'drive/MyDrive/Dog Vision/train/15ad574a13084df42ef17a5f635fae3c.jpg',\n",
              " 'drive/MyDrive/Dog Vision/train/15aee288781e5c11d1f9a6983326ad9c.jpg',\n",
              " 'drive/MyDrive/Dog Vision/train/15b5949f52a4838f9fe3d69cfff94fd5.jpg',\n",
              " 'drive/MyDrive/Dog Vision/train/15b5cd948f5bcbb7a4f5b1904de4c6d5.jpg',\n",
              " 'drive/MyDrive/Dog Vision/train/15d17b41ac5230af8f31417f0a673915.jpg',\n",
              " 'drive/MyDrive/Dog Vision/train/15d25fb9d0b922b4943b312509e95c21.jpg',\n",
              " 'drive/MyDrive/Dog Vision/train/15d7f26c7d32f81c204936362ead551e.jpg',\n",
              " 'drive/MyDrive/Dog Vision/train/15e9e5a6a6f3630335261259940114b4.jpg',\n",
              " 'drive/MyDrive/Dog Vision/train/15f8b879f8660fece35ed760345fa9dd.jpg',\n",
              " 'drive/MyDrive/Dog Vision/train/160160c8ac562966448486906cb56308.jpg',\n",
              " 'drive/MyDrive/Dog Vision/train/16052ac2a6ff7f1fbbc85885d2a7c467.jpg',\n",
              " 'drive/MyDrive/Dog Vision/train/1609abf6c6ac2e8df0af837cbe9cee74.jpg',\n",
              " 'drive/MyDrive/Dog Vision/train/160f87a50f4c3c80752872faa80e4699.jpg',\n",
              " 'drive/MyDrive/Dog Vision/train/160f932c413228553024d4cc9bafc156.jpg',\n",
              " 'drive/MyDrive/Dog Vision/train/16265434d841173019be215bea5d8097.jpg',\n",
              " 'drive/MyDrive/Dog Vision/train/162a3de12cc110679a921dc49dd38fc8.jpg',\n",
              " 'drive/MyDrive/Dog Vision/train/1634d504adfb4efb6b14e891e8996585.jpg',\n",
              " 'drive/MyDrive/Dog Vision/train/1639ccef237eec9fc4eb1aa0916201c3.jpg',\n",
              " 'drive/MyDrive/Dog Vision/train/164533d27e5827842f28f100196bfe7d.jpg',\n",
              " 'drive/MyDrive/Dog Vision/train/164a194e9bf8819523235879eb0c2698.jpg',\n",
              " 'drive/MyDrive/Dog Vision/train/164c3b823c400cea20ad0a3426e1eeea.jpg',\n",
              " 'drive/MyDrive/Dog Vision/train/165f26ae3d9dfe88e10f7929c031b1c8.jpg',\n",
              " 'drive/MyDrive/Dog Vision/train/166d9a55197d0c21068273cca67fe2aa.jpg',\n",
              " 'drive/MyDrive/Dog Vision/train/166da5b561393f0dda932f562c39bc6b.jpg',\n",
              " 'drive/MyDrive/Dog Vision/train/1674e551b6e45cdc27a3014ffb83f374.jpg',\n",
              " 'drive/MyDrive/Dog Vision/train/168e2da635938b82819b8a45bbd3dd0d.jpg',\n",
              " 'drive/MyDrive/Dog Vision/train/1690522901e3d41a84c3dc91b1520902.jpg',\n",
              " 'drive/MyDrive/Dog Vision/train/1690937cfb23f8dbdcc594bf62650a92.jpg',\n",
              " 'drive/MyDrive/Dog Vision/train/16941a6728ddb9cb7423a6cc97fbe071.jpg',\n",
              " 'drive/MyDrive/Dog Vision/train/1699a179453b177a5e895c5b5ecb3624.jpg',\n",
              " 'drive/MyDrive/Dog Vision/train/169db2d825a1bdeb5a576ab746812936.jpg',\n",
              " 'drive/MyDrive/Dog Vision/train/16a2425b83d397180e11ec5cb2c4b44f.jpg',\n",
              " 'drive/MyDrive/Dog Vision/train/16a6a63387fa1f0b4a0dcf6bb05f6204.jpg',\n",
              " 'drive/MyDrive/Dog Vision/train/16a760e466fd2b2fe0ef8879b5b2245d.jpg',\n",
              " 'drive/MyDrive/Dog Vision/train/16aaa590e39530bc1cb319fc7d89c00e.jpg',\n",
              " 'drive/MyDrive/Dog Vision/train/16ac25747d1a51db033d6461156ddb0b.jpg',\n",
              " 'drive/MyDrive/Dog Vision/train/16acaa39e4fe4edbc2becbeb85e8ccbe.jpg',\n",
              " 'drive/MyDrive/Dog Vision/train/16b17dfce7906f0e7a599a538c7ac106.jpg',\n",
              " 'drive/MyDrive/Dog Vision/train/16ca736a6ff68bc4d2d1586e8eec9b28.jpg',\n",
              " 'drive/MyDrive/Dog Vision/train/16cc38641158115b57a4610e40e5f6a9.jpg',\n",
              " 'drive/MyDrive/Dog Vision/train/16d21426a864e73050afda40bf1fddc6.jpg',\n",
              " 'drive/MyDrive/Dog Vision/train/16d2d5edf52892450e38aa4f766c2eea.jpg',\n",
              " 'drive/MyDrive/Dog Vision/train/16d9e14772868ce890909983e53af8d7.jpg',\n",
              " 'drive/MyDrive/Dog Vision/train/16da5fc3f2c4273902da11aafc13456e.jpg',\n",
              " 'drive/MyDrive/Dog Vision/train/16df5020c2b6ac3f70fb3a5c27c5175e.jpg',\n",
              " 'drive/MyDrive/Dog Vision/train/16e2c529e31eb3d2a276eb5bda2b009f.jpg',\n",
              " 'drive/MyDrive/Dog Vision/train/16e68faf318a580514ec2ae7fe295ec5.jpg',\n",
              " 'drive/MyDrive/Dog Vision/train/16ed388064b485a047d02a147e0a5cff.jpg',\n",
              " 'drive/MyDrive/Dog Vision/train/16f37498dbfe77fae6d442465e7356eb.jpg',\n",
              " 'drive/MyDrive/Dog Vision/train/16fd2ee2057012b1d3db46e219a4d022.jpg',\n",
              " 'drive/MyDrive/Dog Vision/train/16fdb4a145a7f5695a264ba980e23bc3.jpg',\n",
              " 'drive/MyDrive/Dog Vision/train/1703c4224aace739763ae9f4e4ad7e76.jpg',\n",
              " 'drive/MyDrive/Dog Vision/train/170b803738598c2466457271f98f647c.jpg',\n",
              " 'drive/MyDrive/Dog Vision/train/170dba137a3990b225bdf19074b97023.jpg',\n",
              " 'drive/MyDrive/Dog Vision/train/1710f33e5a5a32fd20547e8f133fa8d9.jpg',\n",
              " 'drive/MyDrive/Dog Vision/train/1716fe350f1339e19906eb2889960c9e.jpg',\n",
              " 'drive/MyDrive/Dog Vision/train/17193d29b9833d783133f4b13f12f513.jpg',\n",
              " 'drive/MyDrive/Dog Vision/train/172137d59604f06ceaa15e7c6434c592.jpg',\n",
              " 'drive/MyDrive/Dog Vision/train/172bb084b4d25fcfe247da525a493e57.jpg',\n",
              " 'drive/MyDrive/Dog Vision/train/172fcb0b8bbd67401c9e53e5f9bf39bc.jpg',\n",
              " 'drive/MyDrive/Dog Vision/train/17324f3d13ca421725028de23d631e03.jpg',\n",
              " 'drive/MyDrive/Dog Vision/train/1732acba109e3b1cf23efca0381c9a32.jpg',\n",
              " 'drive/MyDrive/Dog Vision/train/173493daaae8804e5a837ddfe2e21c50.jpg',\n",
              " 'drive/MyDrive/Dog Vision/train/173b54d60d2d75be13416af93098445c.jpg',\n",
              " 'drive/MyDrive/Dog Vision/train/173d5eb6a645eee683442be8101d398e.jpg',\n",
              " 'drive/MyDrive/Dog Vision/train/174878bb8d33d52381bb3eb36dd1974a.jpg',\n",
              " 'drive/MyDrive/Dog Vision/train/174c68c77ca368337e9fc35112d7b842.jpg',\n",
              " 'drive/MyDrive/Dog Vision/train/1758bbaf1dba23fd418911be2a2becc2.jpg',\n",
              " 'drive/MyDrive/Dog Vision/train/176e2a6cde976022e90b2b42a81297fb.jpg',\n",
              " 'drive/MyDrive/Dog Vision/train/1771e3fccad9cbb33077d779fbe22e4f.jpg',\n",
              " 'drive/MyDrive/Dog Vision/train/17738f5f90c73ed152991b28ea4d77ed.jpg',\n",
              " 'drive/MyDrive/Dog Vision/train/179bdadf902bf8447e9eebbe63553d24.jpg',\n",
              " 'drive/MyDrive/Dog Vision/train/17a2b04e47d6873a13d999bd605d0427.jpg',\n",
              " 'drive/MyDrive/Dog Vision/train/17a64c7a240d8c3b208eb371297189a6.jpg',\n",
              " 'drive/MyDrive/Dog Vision/train/17a79093473687e2cb3d0cc29c24f3e8.jpg',\n",
              " 'drive/MyDrive/Dog Vision/train/17b6be0ff31a2b1e417f6a03cd3ba32e.jpg',\n",
              " 'drive/MyDrive/Dog Vision/train/17c25d583276276876ecf58c011aff88.jpg',\n",
              " 'drive/MyDrive/Dog Vision/train/17c3f951feca0716c023ea462428dc14.jpg',\n",
              " 'drive/MyDrive/Dog Vision/train/17c5e8815cf0d086090a07b003b9b036.jpg',\n",
              " 'drive/MyDrive/Dog Vision/train/17d2ef6638b31a9be935774b2b873499.jpg',\n",
              " 'drive/MyDrive/Dog Vision/train/17e00d79ad69729522d8705e95939f01.jpg',\n",
              " 'drive/MyDrive/Dog Vision/train/17e3b8acf23f7943b04dc680fc1bda0d.jpg',\n",
              " 'drive/MyDrive/Dog Vision/train/17e74cb24060ad496aed8ca01f611ba9.jpg',\n",
              " 'drive/MyDrive/Dog Vision/train/17f15b80ab3238f1fbe5961286db0eba.jpg',\n",
              " 'drive/MyDrive/Dog Vision/train/17f5ba5fee5bbebe781009cf8d3e1809.jpg',\n",
              " 'drive/MyDrive/Dog Vision/train/17f69b6a170c33a8786d566f6dc9b8d5.jpg',\n",
              " 'drive/MyDrive/Dog Vision/train/1804c9f9d48a34ab283e3a39006936f2.jpg',\n",
              " 'drive/MyDrive/Dog Vision/train/18178aae17060733ebce2cff03413a8c.jpg',\n",
              " 'drive/MyDrive/Dog Vision/train/18195ce24678ab4e2a3c779d7d5e4fac.jpg',\n",
              " 'drive/MyDrive/Dog Vision/train/181e91cb6caf6739478d06231faa053d.jpg',\n",
              " 'drive/MyDrive/Dog Vision/train/181fadf5f2222c0791c7a02fad19bab1.jpg',\n",
              " 'drive/MyDrive/Dog Vision/train/182c436dd1fbec1c5f4979077ce74659.jpg',\n",
              " 'drive/MyDrive/Dog Vision/train/182c9134e07c883dfdc2acfb21184810.jpg',\n",
              " 'drive/MyDrive/Dog Vision/train/182e24a6ba14bfc0f109687b22589f57.jpg',\n",
              " 'drive/MyDrive/Dog Vision/train/1831f3ce615ffe27a78c5baa362ac677.jpg',\n",
              " 'drive/MyDrive/Dog Vision/train/183cf5cc037ccb5079634b7bfaae0a24.jpg',\n",
              " 'drive/MyDrive/Dog Vision/train/184710573b8878de902c42b7929ceeb9.jpg',\n",
              " 'drive/MyDrive/Dog Vision/train/1852241f20c06eb5d999cd43cc92bbeb.jpg',\n",
              " 'drive/MyDrive/Dog Vision/train/1853938d8adf8942d927f5fae8b9ec0c.jpg',\n",
              " 'drive/MyDrive/Dog Vision/train/185617e5924c55cede9ecdb7a41c4707.jpg',\n",
              " 'drive/MyDrive/Dog Vision/train/1857ac9d2306fc646d4bb817aaa20424.jpg',\n",
              " 'drive/MyDrive/Dog Vision/train/185dd9ac0589562442f553cf686783d4.jpg',\n",
              " 'drive/MyDrive/Dog Vision/train/1866bec18870abddd279fa4b1f0e126b.jpg',\n",
              " 'drive/MyDrive/Dog Vision/train/187a741ca8f22a04de67b60beb12987c.jpg',\n",
              " 'drive/MyDrive/Dog Vision/train/187b3a867bb68860208c37aaf43d2115.jpg',\n",
              " 'drive/MyDrive/Dog Vision/train/187eaac78834950c66b5737394cc0f13.jpg',\n",
              " 'drive/MyDrive/Dog Vision/train/1880c57a7ac87a232158207581c989df.jpg',\n",
              " 'drive/MyDrive/Dog Vision/train/189cc11eaaa9152fffb49e4fa5b14ebd.jpg',\n",
              " 'drive/MyDrive/Dog Vision/train/18a44f4dc15b555f67e0e9f1b7aa0613.jpg',\n",
              " 'drive/MyDrive/Dog Vision/train/18aa1cff5dc0615c75dec0fcc135be3c.jpg',\n",
              " ...]"
            ]
          },
          "metadata": {
            "tags": []
          },
          "execution_count": 30
        }
      ]
    },
    {
      "cell_type": "code",
      "metadata": {
        "colab": {
          "base_uri": "https://localhost:8080/"
        },
        "id": "QG9-s5yZoSMV",
        "outputId": "8543e249-41d1-43c4-d3e4-0bdc8a20bfd7"
      },
      "source": [
        "len(filenames)"
      ],
      "execution_count": 31,
      "outputs": [
        {
          "output_type": "execute_result",
          "data": {
            "text/plain": [
              "10222"
            ]
          },
          "metadata": {
            "tags": []
          },
          "execution_count": 31
        }
      ]
    },
    {
      "cell_type": "code",
      "metadata": {
        "colab": {
          "base_uri": "https://localhost:8080/"
        },
        "id": "1gWSto0wo7RK",
        "outputId": "994e364b-21f5-4ce9-be28-a936a9d1260e"
      },
      "source": [
        "# Check whether number of files matches of images in filename list\n",
        "import os\n",
        "len(os.listdir(\"drive/MyDrive/Dog Vision/train/\")) "
      ],
      "execution_count": null,
      "outputs": [
        {
          "output_type": "execute_result",
          "data": {
            "text/plain": [
              "10222"
            ]
          },
          "metadata": {
            "tags": []
          },
          "execution_count": 10
        }
      ]
    },
    {
      "cell_type": "code",
      "metadata": {
        "colab": {
          "base_uri": "https://localhost:8080/",
          "height": 283
        },
        "id": "1pYsREI2rWfu",
        "outputId": "0d7f9876-da42-441d-9327-5a03ef576a80"
      },
      "source": [
        "Image(filenames[9000])"
      ],
      "execution_count": null,
      "outputs": [
        {
          "output_type": "execute_result",
          "data": {
            "image/jpeg": "[encoded data removed]",
            "text/plain": [
              "<IPython.core.display.Image object>"
            ]
          },
          "metadata": {
            "tags": []
          },
          "execution_count": 11
        }
      ]
    },
    {
      "cell_type": "code",
      "metadata": {
        "colab": {
          "base_uri": "https://localhost:8080/"
        },
        "id": "7GOJR-ojtgZd",
        "outputId": "679993ad-cfe7-4c82-abca-99a0117b4419"
      },
      "source": [
        "len(os.listdir(\"drive/MyDrive/Dog Vision/train/\"))"
      ],
      "execution_count": null,
      "outputs": [
        {
          "output_type": "execute_result",
          "data": {
            "text/plain": [
              "10222"
            ]
          },
          "metadata": {
            "tags": []
          },
          "execution_count": 12
        }
      ]
    },
    {
      "cell_type": "code",
      "metadata": {
        "colab": {
          "base_uri": "https://localhost:8080/",
          "height": 35
        },
        "id": "oI-oFCsmwdIR",
        "outputId": "294d44dc-9898-436f-880c-7e26ad1e2772"
      },
      "source": [
        "labels_csv[\"breed\"][9000]"
      ],
      "execution_count": null,
      "outputs": [
        {
          "output_type": "execute_result",
          "data": {
            "application/vnd.google.colaboratory.intrinsic+json": {
              "type": "string"
            },
            "text/plain": [
              "'tibetan_mastiff'"
            ]
          },
          "metadata": {
            "tags": []
          },
          "execution_count": 13
        }
      ]
    },
    {
      "cell_type": "code",
      "metadata": {
        "colab": {
          "base_uri": "https://localhost:8080/"
        },
        "id": "DI4CzuMmDmjz",
        "outputId": "ba4d60db-62e5-46b0-e928-f3ab086ba0ec"
      },
      "source": [
        "import numpy as np\n",
        "labels = labels_csv[\"breed\"].to_numpy()\n",
        "labels"
      ],
      "execution_count": 16,
      "outputs": [
        {
          "output_type": "execute_result",
          "data": {
            "text/plain": [
              "array(['boston_bull', 'dingo', 'pekinese', ..., 'airedale',\n",
              "       'miniature_pinscher', 'chesapeake_bay_retriever'], dtype=object)"
            ]
          },
          "metadata": {
            "tags": []
          },
          "execution_count": 16
        }
      ]
    },
    {
      "cell_type": "code",
      "metadata": {
        "colab": {
          "base_uri": "https://localhost:8080/"
        },
        "id": "36tVkefjE3rK",
        "outputId": "84709364-afa7-44c5-e898-b7fe2d7a43a0"
      },
      "source": [
        "len(labels)"
      ],
      "execution_count": null,
      "outputs": [
        {
          "output_type": "execute_result",
          "data": {
            "text/plain": [
              "10222"
            ]
          },
          "metadata": {
            "tags": []
          },
          "execution_count": 15
        }
      ]
    },
    {
      "cell_type": "code",
      "metadata": {
        "colab": {
          "base_uri": "https://localhost:8080/"
        },
        "id": "pBEPoM3IE-Ft",
        "outputId": "dcaa9bd5-16af-44f3-e3f2-0fc9bdc0ce5b"
      },
      "source": [
        "len(filenames)"
      ],
      "execution_count": null,
      "outputs": [
        {
          "output_type": "execute_result",
          "data": {
            "text/plain": [
              "10222"
            ]
          },
          "metadata": {
            "tags": []
          },
          "execution_count": 16
        }
      ]
    },
    {
      "cell_type": "code",
      "metadata": {
        "colab": {
          "base_uri": "https://localhost:8080/"
        },
        "id": "osPNP37nFQwg",
        "outputId": "9a2d1229-a8a6-4d5e-e0fd-7739978f3972"
      },
      "source": [
        "unique_breeds = np.unique(labels)\n",
        "len(unique_breeds)"
      ],
      "execution_count": 17,
      "outputs": [
        {
          "output_type": "execute_result",
          "data": {
            "text/plain": [
              "120"
            ]
          },
          "metadata": {
            "tags": []
          },
          "execution_count": 17
        }
      ]
    },
    {
      "cell_type": "code",
      "metadata": {
        "colab": {
          "base_uri": "https://localhost:8080/"
        },
        "id": "GnUMAM4TGHWT",
        "outputId": "06878cbd-e80a-4aaf-a0ec-0eb499be546c"
      },
      "source": [
        "unique_breeds"
      ],
      "execution_count": 18,
      "outputs": [
        {
          "output_type": "execute_result",
          "data": {
            "text/plain": [
              "array(['affenpinscher', 'afghan_hound', 'african_hunting_dog', 'airedale',\n",
              "       'american_staffordshire_terrier', 'appenzeller',\n",
              "       'australian_terrier', 'basenji', 'basset', 'beagle',\n",
              "       'bedlington_terrier', 'bernese_mountain_dog',\n",
              "       'black-and-tan_coonhound', 'blenheim_spaniel', 'bloodhound',\n",
              "       'bluetick', 'border_collie', 'border_terrier', 'borzoi',\n",
              "       'boston_bull', 'bouvier_des_flandres', 'boxer',\n",
              "       'brabancon_griffon', 'briard', 'brittany_spaniel', 'bull_mastiff',\n",
              "       'cairn', 'cardigan', 'chesapeake_bay_retriever', 'chihuahua',\n",
              "       'chow', 'clumber', 'cocker_spaniel', 'collie',\n",
              "       'curly-coated_retriever', 'dandie_dinmont', 'dhole', 'dingo',\n",
              "       'doberman', 'english_foxhound', 'english_setter',\n",
              "       'english_springer', 'entlebucher', 'eskimo_dog',\n",
              "       'flat-coated_retriever', 'french_bulldog', 'german_shepherd',\n",
              "       'german_short-haired_pointer', 'giant_schnauzer',\n",
              "       'golden_retriever', 'gordon_setter', 'great_dane',\n",
              "       'great_pyrenees', 'greater_swiss_mountain_dog', 'groenendael',\n",
              "       'ibizan_hound', 'irish_setter', 'irish_terrier',\n",
              "       'irish_water_spaniel', 'irish_wolfhound', 'italian_greyhound',\n",
              "       'japanese_spaniel', 'keeshond', 'kelpie', 'kerry_blue_terrier',\n",
              "       'komondor', 'kuvasz', 'labrador_retriever', 'lakeland_terrier',\n",
              "       'leonberg', 'lhasa', 'malamute', 'malinois', 'maltese_dog',\n",
              "       'mexican_hairless', 'miniature_pinscher', 'miniature_poodle',\n",
              "       'miniature_schnauzer', 'newfoundland', 'norfolk_terrier',\n",
              "       'norwegian_elkhound', 'norwich_terrier', 'old_english_sheepdog',\n",
              "       'otterhound', 'papillon', 'pekinese', 'pembroke', 'pomeranian',\n",
              "       'pug', 'redbone', 'rhodesian_ridgeback', 'rottweiler',\n",
              "       'saint_bernard', 'saluki', 'samoyed', 'schipperke',\n",
              "       'scotch_terrier', 'scottish_deerhound', 'sealyham_terrier',\n",
              "       'shetland_sheepdog', 'shih-tzu', 'siberian_husky', 'silky_terrier',\n",
              "       'soft-coated_wheaten_terrier', 'staffordshire_bullterrier',\n",
              "       'standard_poodle', 'standard_schnauzer', 'sussex_spaniel',\n",
              "       'tibetan_mastiff', 'tibetan_terrier', 'toy_poodle', 'toy_terrier',\n",
              "       'vizsla', 'walker_hound', 'weimaraner', 'welsh_springer_spaniel',\n",
              "       'west_highland_white_terrier', 'whippet',\n",
              "       'wire-haired_fox_terrier', 'yorkshire_terrier'], dtype=object)"
            ]
          },
          "metadata": {
            "tags": []
          },
          "execution_count": 18
        }
      ]
    },
    {
      "cell_type": "code",
      "metadata": {
        "colab": {
          "base_uri": "https://localhost:8080/",
          "height": 35
        },
        "id": "K8rnJcIcGYHC",
        "outputId": "e428ffed-dd51-411b-ed79-904d56d19fe9"
      },
      "source": [
        "# Turn a single label into array of booleans\n",
        "labels[1022]"
      ],
      "execution_count": null,
      "outputs": [
        {
          "output_type": "execute_result",
          "data": {
            "application/vnd.google.colaboratory.intrinsic+json": {
              "type": "string"
            },
            "text/plain": [
              "'toy_poodle'"
            ]
          },
          "metadata": {
            "tags": []
          },
          "execution_count": 19
        }
      ]
    },
    {
      "cell_type": "code",
      "metadata": {
        "colab": {
          "base_uri": "https://localhost:8080/"
        },
        "id": "qL0WWHOXGqU9",
        "outputId": "68a8357e-51c8-4d42-8457-49675a61f355"
      },
      "source": [
        "labels[10221] == unique_breeds"
      ],
      "execution_count": null,
      "outputs": [
        {
          "output_type": "execute_result",
          "data": {
            "text/plain": [
              "array([False, False, False, False, False, False, False, False, False,\n",
              "       False, False, False, False, False, False, False, False, False,\n",
              "       False, False, False, False, False, False, False, False, False,\n",
              "       False,  True, False, False, False, False, False, False, False,\n",
              "       False, False, False, False, False, False, False, False, False,\n",
              "       False, False, False, False, False, False, False, False, False,\n",
              "       False, False, False, False, False, False, False, False, False,\n",
              "       False, False, False, False, False, False, False, False, False,\n",
              "       False, False, False, False, False, False, False, False, False,\n",
              "       False, False, False, False, False, False, False, False, False,\n",
              "       False, False, False, False, False, False, False, False, False,\n",
              "       False, False, False, False, False, False, False, False, False,\n",
              "       False, False, False, False, False, False, False, False, False,\n",
              "       False, False, False])"
            ]
          },
          "metadata": {
            "tags": []
          },
          "execution_count": 20
        }
      ]
    },
    {
      "cell_type": "code",
      "metadata": {
        "colab": {
          "base_uri": "https://localhost:8080/"
        },
        "id": "hwGvBDfdHsBw",
        "outputId": "2ba87ffa-9e69-4221-c124-bb19825fd562"
      },
      "source": [
        "# Turn every label into a boolean array\n",
        "boolean_labels = [label == unique_breeds for label in labels]\n",
        "boolean_labels[:2]"
      ],
      "execution_count": 34,
      "outputs": [
        {
          "output_type": "execute_result",
          "data": {
            "text/plain": [
              "[array([False, False, False, False, False, False, False, False, False,\n",
              "        False, False, False, False, False, False, False, False, False,\n",
              "        False,  True, False, False, False, False, False, False, False,\n",
              "        False, False, False, False, False, False, False, False, False,\n",
              "        False, False, False, False, False, False, False, False, False,\n",
              "        False, False, False, False, False, False, False, False, False,\n",
              "        False, False, False, False, False, False, False, False, False,\n",
              "        False, False, False, False, False, False, False, False, False,\n",
              "        False, False, False, False, False, False, False, False, False,\n",
              "        False, False, False, False, False, False, False, False, False,\n",
              "        False, False, False, False, False, False, False, False, False,\n",
              "        False, False, False, False, False, False, False, False, False,\n",
              "        False, False, False, False, False, False, False, False, False,\n",
              "        False, False, False]),\n",
              " array([False, False, False, False, False, False, False, False, False,\n",
              "        False, False, False, False, False, False, False, False, False,\n",
              "        False, False, False, False, False, False, False, False, False,\n",
              "        False, False, False, False, False, False, False, False, False,\n",
              "        False,  True, False, False, False, False, False, False, False,\n",
              "        False, False, False, False, False, False, False, False, False,\n",
              "        False, False, False, False, False, False, False, False, False,\n",
              "        False, False, False, False, False, False, False, False, False,\n",
              "        False, False, False, False, False, False, False, False, False,\n",
              "        False, False, False, False, False, False, False, False, False,\n",
              "        False, False, False, False, False, False, False, False, False,\n",
              "        False, False, False, False, False, False, False, False, False,\n",
              "        False, False, False, False, False, False, False, False, False,\n",
              "        False, False, False])]"
            ]
          },
          "metadata": {
            "tags": []
          },
          "execution_count": 34
        }
      ]
    },
    {
      "cell_type": "code",
      "metadata": {
        "id": "U4WXiBdOIMPv"
      },
      "source": [
        ""
      ],
      "execution_count": null,
      "outputs": []
    },
    {
      "cell_type": "code",
      "metadata": {
        "id": "ObgQtUZ3IU45"
      },
      "source": [
        "# Turning boolean array into integers\n",
        "print(labels[0])\n",
        "print(np.where(unique_breeds == labels[0]))\n",
        "print(boolean_labels[0].argmax())\n",
        "print(boolean_labels[0].astype(int))"
      ],
      "execution_count": null,
      "outputs": []
    },
    {
      "cell_type": "code",
      "metadata": {
        "id": "2O4d5G0JJvdA"
      },
      "source": [
        "print(labels[2])\n",
        "print(boolean_labels[2].astype(int))"
      ],
      "execution_count": null,
      "outputs": []
    },
    {
      "cell_type": "code",
      "metadata": {
        "id": "wcmGsxjoPKTz"
      },
      "source": [
        "X = filenames\n",
        "y = boolean_labels"
      ],
      "execution_count": 35,
      "outputs": []
    },
    {
      "cell_type": "code",
      "metadata": {
        "id": "cL7W7TXcKCN6"
      },
      "source": [
        "NUM_IMAGES = 1000 #@param{type:\"slider\", min:1000, max:10000, step:1000}"
      ],
      "execution_count": null,
      "outputs": []
    },
    {
      "cell_type": "code",
      "metadata": {
        "id": "x83EetVFNn_a"
      },
      "source": [
        "# lets split the data into train and validation set\n",
        "from sklearn.model_selection import train_test_split\n",
        "\n",
        "X_train, X_val, y_train, y_val = train_test_split(X[:NUM_IMAGES],\n",
        "                                                  y[:NUM_IMAGES],\n",
        "                                                  test_size=0.2,\n",
        "                                                   random_state=42)\n",
        "\n",
        "len(X_train), len(y_train), len(X_val), len(y_val)"
      ],
      "execution_count": null,
      "outputs": []
    },
    {
      "cell_type": "code",
      "metadata": {
        "id": "mPKB6CjsPZiF"
      },
      "source": [
        "y_train[:2]"
      ],
      "execution_count": null,
      "outputs": []
    },
    {
      "cell_type": "code",
      "metadata": {
        "id": "adm8llYlPlzr",
        "colab": {
          "base_uri": "https://localhost:8080/"
        },
        "outputId": "245cb03d-04bf-49a8-c936-f5dc0567f3bf"
      },
      "source": [
        "# Convert image to Numpy array\n",
        "from matplotlib.pyplot import imread\n",
        "image = imread(filenames[42])\n",
        "image.shape"
      ],
      "execution_count": 43,
      "outputs": [
        {
          "output_type": "execute_result",
          "data": {
            "text/plain": [
              "(257, 350, 3)"
            ]
          },
          "metadata": {
            "tags": []
          },
          "execution_count": 43
        }
      ]
    },
    {
      "cell_type": "code",
      "metadata": {
        "id": "PK9FzHPyStXy"
      },
      "source": [
        "image.max(), image.min()"
      ],
      "execution_count": null,
      "outputs": []
    },
    {
      "cell_type": "code",
      "metadata": {
        "id": "17buaCmBS84L"
      },
      "source": [
        "image[:2]"
      ],
      "execution_count": null,
      "outputs": []
    },
    {
      "cell_type": "code",
      "metadata": {
        "id": "B1QUdOA2S_s_"
      },
      "source": [
        "# Turn image into tensor\n",
        "tf.constant(image)[:2]"
      ],
      "execution_count": null,
      "outputs": []
    },
    {
      "cell_type": "code",
      "metadata": {
        "id": "k8c_wiXdTPeB"
      },
      "source": [
        "# Turn the filepaths of images to tensors\n",
        "# define image size\n",
        "IMG_SIZE = 224\n",
        "\n",
        "# Create a function for prepricessing images\n",
        "def process_image(image_path):\n",
        "  # Read in an image file\n",
        "  image = tf.io.read_file(image_path)\n",
        "  # Turn the jpeg image into numerical tensor with 3 colour channels(Red, Green, Blue)\n",
        "  image = tf.image.decode_jpeg(image, channels=3)\n",
        "  # Convert the colour channel value from 0-255 to 0-1 values\n",
        "  image = tf.image.convert_image_dtype(image, tf.float32)\n",
        "  # resize the image to (224, 224)\n",
        "  image = tf.image.resize(image, size=(224, 224))\n",
        "\n",
        "  return image"
      ],
      "execution_count": 42,
      "outputs": []
    },
    {
      "cell_type": "code",
      "metadata": {
        "id": "Kp87bnzQZ2o4"
      },
      "source": [
        "def get_image_label(image_path, label):\n",
        "  image = process_image(image_path)\n",
        "  return image, label"
      ],
      "execution_count": 41,
      "outputs": []
    },
    {
      "cell_type": "code",
      "metadata": {
        "id": "GX9F68ZWagBC"
      },
      "source": [
        "get_image_label(X[42],y[42])"
      ],
      "execution_count": null,
      "outputs": []
    },
    {
      "cell_type": "code",
      "metadata": {
        "id": "fW5fbDAuc03P"
      },
      "source": [
        "# Define the batch size, 32 is a good start\n",
        "BATCH_SIZE = 32\n",
        "\n",
        "# Create a function to turn data batches\n",
        "def create_data_batches(X, y=None, batch_size=BATCH_SIZE, valid_data=False, test_data=False):\n",
        "  '''\n",
        "  creates data batches out of image (X) and label (y) pairs.\n",
        "  '''\n",
        "  # If the data is a test data set ,we probably don't have labels\n",
        "  if test_data:\n",
        "    print(\"Creating test data batches...\")\n",
        "    data = tf.data.Dataset.from_tensor_slices((tf.constant(X))) # only filepaths (no labels)\n",
        "    data_batch = data.map(process_image).batch(BATCH_SIZE)\n",
        "    return data_batch\n",
        "\n",
        "  # If the data is a valid dataset, we dont need to shuffle it\n",
        "  elif valid_data:\n",
        "    print(\"Creating validation data batches...\")\n",
        "    data = tf.data.Dataset.from_tensor_slices((tf.constant(X), # filepaths\n",
        "                                                tf.constant(y))) # labels\n",
        "    data_batch = data.map(get_image_label).batch(BATCH_SIZE)\n",
        "    return data_batch\n",
        "\n",
        "  else:\n",
        "    print(\"Creating training data batches...\")\n",
        "    # Turn filepaths and labels into Tensors\n",
        "    data = tf.data.Dataset.from_tensor_slices((tf.constant(X), # filepaths\n",
        "                                                tf.constant(y))) # labels\n",
        "    # Shuffling the data\n",
        "    data = data.shuffle(buffer_size=len(X))\n",
        "\n",
        "    # Create (image, label) tuples \n",
        "    data = data.map(get_image_label)\n",
        "\n",
        "    # Turn the training data into batches\n",
        "    data_batch = data.batch(BATCH_SIZE)\n",
        "\n",
        "  return data_batch\n",
        "\n",
        "\n"
      ],
      "execution_count": null,
      "outputs": []
    },
    {
      "cell_type": "code",
      "metadata": {
        "id": "IPeHdXUnx5gb"
      },
      "source": [
        "# CREating training and validation data batches\n",
        "train_data = create_data_batches(X_train, y_train)\n",
        "val_data = create_data_batches(X_val, y_val, valid_data=True)"
      ],
      "execution_count": null,
      "outputs": []
    },
    {
      "cell_type": "code",
      "metadata": {
        "id": "FJavk5njynN8"
      },
      "source": [
        "# Check out the different attributes of our data batches\n",
        "train_data.element_spec, val_data.element_spec"
      ],
      "execution_count": null,
      "outputs": []
    },
    {
      "cell_type": "markdown",
      "metadata": {
        "id": "liqC5Zydo5j0"
      },
      "source": [
        "### visualisizing our data batches\n"
      ]
    },
    {
      "cell_type": "code",
      "metadata": {
        "id": "-kwIBtaSpQzP"
      },
      "source": [
        "import matplotlib.pyplot as plt\n",
        "\n",
        "# Create a function for viewing images in data batch\n",
        "def show_25_images(images, labels):\n",
        "  '''\n",
        "  Displays a plot of 25 images and their labels from a data batch\n",
        "  '''\n",
        "  # Set up figure\n",
        "  fig = plt.figure(figsize=(10, 10))\n",
        "  # Loop through 25 images\n",
        "  for i in range(25):\n",
        "    # Create subplot (5 rows, 5 columns)\n",
        "    axes = []\n",
        "    axes.append(fig.add_subplot(5, 5, i+1) )\n",
        "    # display an image\n",
        "    plt.imshow(images[i])\n",
        "    # Add image label as title\n",
        "    plt.title(unique_breeds[labels[i].argmax()])\n",
        "    plt.axis(\"off\")\n"
      ],
      "execution_count": null,
      "outputs": []
    },
    {
      "cell_type": "code",
      "metadata": {
        "id": "C2eO7bTrtyP8"
      },
      "source": [
        "train_images, train_labels = next(train_data.as_numpy_iterator())\n",
        "len(train_images), len(train_labels)"
      ],
      "execution_count": null,
      "outputs": []
    },
    {
      "cell_type": "code",
      "metadata": {
        "id": "sb4Ic7EfvtNi"
      },
      "source": [
        "show_25_images(train_images, train_labels)"
      ],
      "execution_count": null,
      "outputs": []
    },
    {
      "cell_type": "code",
      "metadata": {
        "id": "DlvAY4Hd5Ms8"
      },
      "source": [
        "val_images, val_labels = next(val_data.as_numpy_iterator())"
      ],
      "execution_count": null,
      "outputs": []
    },
    {
      "cell_type": "code",
      "metadata": {
        "id": "pufGa7EC6hKD"
      },
      "source": [
        "show_25_images(val_images, val_labels)"
      ],
      "execution_count": null,
      "outputs": []
    },
    {
      "cell_type": "code",
      "metadata": {
        "id": "j7d3hMMn65T_"
      },
      "source": [
        "# setup input shape to model\n",
        "INPUT_SHAPE = [None, IMG_SIZE, IMG_SIZE, 3] # batch, height, width, colour channels\n",
        "\n",
        "# setup output shape to our model\n",
        "OUTPUT_SHAPE = len(unique_breeds)\n",
        "\n",
        "# Setup model URL from tensorflow hub\n",
        "MODEL_URL = \"https://tfhub.dev/google/imagenet/mobilenet_v2_130_224/classification/4\""
      ],
      "execution_count": 46,
      "outputs": []
    },
    {
      "cell_type": "code",
      "metadata": {
        "id": "pUoDB3CGen3z"
      },
      "source": [
        "# create a function  to build keras model\n",
        "def create_model(input_shape=INPUT_SHAPE, output_shape=OUTPUT_SHAPE, model_url=MODEL_URL):\n",
        "  print(\"Building model with:\", MODEL_URL)\n",
        "  \n",
        "  # Setup the model layers\n",
        "  model = tf.keras.Sequential([\n",
        "      hub.KerasLayer(MODEL_URL), # layer 1 (input layer)\n",
        "      tf.keras.layers.Dense(units=OUTPUT_SHAPE, \n",
        "                            activation=\"softmax\") # layer 2 (output layer) \n",
        "                               ])\n",
        "  \n",
        "  # Compile the model\n",
        "  model.compile(\n",
        "      loss=tf.keras.losses.CategoricalCrossentropy(),\n",
        "      optimizer=tf.keras.optimizers.Adam(),\n",
        "      metrics=[\"accuracy\"]\n",
        "  )\n",
        "\n",
        "  # Build the model\n",
        "  model.build(INPUT_SHAPE)\n",
        "\n",
        "  return model\n",
        "  \n"
      ],
      "execution_count": 47,
      "outputs": []
    },
    {
      "cell_type": "code",
      "metadata": {
        "id": "8kO-svdgm9ms"
      },
      "source": [
        "model= create_model()\n",
        "model.summary()"
      ],
      "execution_count": null,
      "outputs": []
    },
    {
      "cell_type": "markdown",
      "metadata": {
        "id": "AEVyToAfraQd"
      },
      "source": [
        "### Creating callbacks"
      ]
    },
    {
      "cell_type": "markdown",
      "metadata": {
        "id": "yT2SCFiJvDs2"
      },
      "source": [
        "## 1.Tensor board callback"
      ]
    },
    {
      "cell_type": "code",
      "metadata": {
        "id": "xzqucIAxt57E"
      },
      "source": [
        "# Load Tensorboard callback extension\n",
        "%load_ext tensorboard"
      ],
      "execution_count": 49,
      "outputs": []
    },
    {
      "cell_type": "code",
      "metadata": {
        "id": "qSEEzau6rf9Z"
      },
      "source": [
        "import datetime\n",
        "\n",
        "# Create a function to build a tensorboard callback\n",
        "def create_tensorboard_callback():\n",
        "  #Create a log directory for storing tensorboard logs\n",
        "  logdir = os.path.join(\"drive/MyDrive/Dog Vision/logs\",\n",
        "                        # Make it so the logs get tracked whenever we run experiment\n",
        "                        datetime.datetime.now().strftime(\"%Y%m%d-%H%M%S\"))\n",
        "  return tf.keras.callbacks.TensorBoard(logdir)"
      ],
      "execution_count": 50,
      "outputs": []
    },
    {
      "cell_type": "markdown",
      "metadata": {
        "id": "3YTSEZBDwPob"
      },
      "source": [
        "## Early stopping callback"
      ]
    },
    {
      "cell_type": "code",
      "metadata": {
        "id": "O_iuinjmwUcg"
      },
      "source": [
        "# Create early stopping callback\n",
        "early_stopping = tf.keras.callbacks.EarlyStopping(monitor=\"val_accuracy\",\n",
        "                                                   patience=3)"
      ],
      "execution_count": 51,
      "outputs": []
    },
    {
      "cell_type": "markdown",
      "metadata": {
        "id": "-ukZ1njtzpwJ"
      },
      "source": [
        "## Training the model on subset"
      ]
    },
    {
      "cell_type": "code",
      "metadata": {
        "id": "5dBBVi3dzuPH"
      },
      "source": [
        "NUM_EPOCHS = 100 #@param {type:\"slider\", min:10, max:100, step:10}"
      ],
      "execution_count": 52,
      "outputs": []
    },
    {
      "cell_type": "code",
      "metadata": {
        "id": "vTFCt2Xf0Zi7"
      },
      "source": [
        "# Build a function to train and return a trained model\n",
        "def train_model():\n",
        "  # Create a model\n",
        "  model = create_model()\n",
        "\n",
        "  # Create new tensorboard session every time  we train a model\n",
        "  tensorboard = create_tensorboard_callback()\n",
        "\n",
        "  # Fit the model to data passing it the callbacks we created\n",
        "  model.fit(x=train_data,\n",
        "             epochs=NUM_EPOCHS,\n",
        "             validation_data=val_data,\n",
        "             validation_freq=1,\n",
        "             callbacks=[tensorboard, early_stopping])\n",
        "  return model"
      ],
      "execution_count": 53,
      "outputs": []
    },
    {
      "cell_type": "code",
      "metadata": {
        "id": "P4Z6zVXe3HLg"
      },
      "source": [
        "model = train_model()"
      ],
      "execution_count": null,
      "outputs": []
    },
    {
      "cell_type": "code",
      "metadata": {
        "id": "7Ah6gDGL-iYn"
      },
      "source": [
        "# using tesorboard magic function to visual the contents.\n",
        "%tensorboard --logdir drive/MyDrive/Dog\\ Vision/logs"
      ],
      "execution_count": null,
      "outputs": []
    },
    {
      "cell_type": "code",
      "metadata": {
        "id": "FlSKJBKyf0Pp"
      },
      "source": [
        "val_data"
      ],
      "execution_count": null,
      "outputs": []
    },
    {
      "cell_type": "code",
      "metadata": {
        "id": "-5Fi_DU9f_mk"
      },
      "source": [
        "# make predictions on validation data (not used to train)\n",
        "predictions = model.predict(val_data, verbose=1)\n",
        "predictions"
      ],
      "execution_count": null,
      "outputs": []
    },
    {
      "cell_type": "code",
      "metadata": {
        "id": "_bii5rPDgZBC"
      },
      "source": [
        "len(predictions)"
      ],
      "execution_count": null,
      "outputs": []
    },
    {
      "cell_type": "code",
      "metadata": {
        "id": "fVgAlg9agwuJ"
      },
      "source": [
        "predictions.shape"
      ],
      "execution_count": null,
      "outputs": []
    },
    {
      "cell_type": "code",
      "metadata": {
        "id": "y7PHWugrhDdf"
      },
      "source": [
        "np.sum(predictions[0])"
      ],
      "execution_count": null,
      "outputs": []
    },
    {
      "cell_type": "code",
      "metadata": {
        "id": "ctaM205AhJoZ"
      },
      "source": [
        "# First prediction\n",
        "index = 42\n",
        "print(predictions[index])\n",
        "print(f\"max value of probablity of prediction: {np.max(predictions[index])}\")\n",
        "print(f\"sum : {np.sum(predictions[index])}\")\n",
        "print(f\"max index: {np.argmax(predictions[index])}\")\n",
        "print(f\"predicted label: {unique_breeds[np.argmax(predictions[index])]}\")"
      ],
      "execution_count": null,
      "outputs": []
    },
    {
      "cell_type": "code",
      "metadata": {
        "id": "kpDySJsej51X"
      },
      "source": [
        "unique_breeds[113]"
      ],
      "execution_count": null,
      "outputs": []
    },
    {
      "cell_type": "markdown",
      "metadata": {
        "id": "TSIWDOqml_QW"
      },
      "source": [
        "### note: prediction prabilities are also known as confidence levels"
      ]
    },
    {
      "cell_type": "code",
      "metadata": {
        "id": "17Uz0LZcmMXH"
      },
      "source": [
        "# Turn predicvtions prabilities into their respective label \n",
        "def get_pred_label(prediction_probabilities):\n",
        "  '''\n",
        "  Turns an array of predictions into labels.\n",
        "  '''\n",
        "  return unique_breeds[np.argmax(prediction_probabilities)]"
      ],
      "execution_count": null,
      "outputs": []
    },
    {
      "cell_type": "code",
      "metadata": {
        "id": "UGUG60U6m3lb"
      },
      "source": [
        "pred_label = get_pred_label(predictions[81])\n",
        "pred_label"
      ],
      "execution_count": null,
      "outputs": []
    },
    {
      "cell_type": "code",
      "metadata": {
        "id": "LWEWunMArAxw"
      },
      "source": [
        "val_data"
      ],
      "execution_count": null,
      "outputs": []
    },
    {
      "cell_type": "code",
      "metadata": {
        "id": "atNwL5gbrEVZ"
      },
      "source": [
        "# Create  a function to unbatch the dataset\n",
        "def unbatchify(data):\n",
        "  '''\n",
        "  takes a batched dataset of (images, labels) Tensors and returns separate arrays\n",
        "  of images and labels.\n",
        "  '''\n",
        "  images = []\n",
        "  labels = []\n",
        "  # loop through unbatched data\n",
        "  for image, label in data.unbatch().as_numpy_iterator():\n",
        "    images.append(image)\n",
        "    labels.append(unique_breeds[np.argmax(label)])\n",
        "  return images, labels\n",
        "     "
      ],
      "execution_count": null,
      "outputs": []
    },
    {
      "cell_type": "code",
      "metadata": {
        "id": "04D2jwH3s2qP"
      },
      "source": [
        "# unbatchify the validation data\n",
        "val_images, val_labels = unbatchify(val_data)"
      ],
      "execution_count": null,
      "outputs": []
    },
    {
      "cell_type": "code",
      "metadata": {
        "id": "KpG0b5wktJz9"
      },
      "source": [
        "val_images[0]"
      ],
      "execution_count": null,
      "outputs": []
    },
    {
      "cell_type": "code",
      "metadata": {
        "id": "DyMgE3HntNRO"
      },
      "source": [
        "val_labels"
      ],
      "execution_count": null,
      "outputs": []
    },
    {
      "cell_type": "code",
      "metadata": {
        "id": "qC_9WPzDtfC1"
      },
      "source": [
        "get_pred_label(val_labels[0])"
      ],
      "execution_count": null,
      "outputs": []
    },
    {
      "cell_type": "code",
      "metadata": {
        "id": "tEDOrRMntlzl"
      },
      "source": [
        "# Create a function for ploting pred label, pred probabilities, truth label\n",
        "def plot_pred(prediction_probabilities, labels, images, n=1):\n",
        "  pred_prob, true_label, image = prediction_probabilities[n], labels[n], images[n]\n",
        "  # get pred label\n",
        "  pred_label = get_pred_label(pred_prob)\n",
        "  \n",
        "\n",
        "  # plot images and remove ticks\n",
        "  plt.imshow(image)\n",
        "  plt.xticks([])\n",
        "  plt.yticks([])\n",
        "\n",
        "  # Change colour of title depends upon right or wrong predictions\n",
        "  if pred_label == true_label:\n",
        "    color = \"green\"\n",
        "  else:\n",
        "    color = \"red\"\n",
        "\n",
        "  # Change plot title\n",
        "  plt.title(\"{} {:2.0f}% {}\".format(pred_label,\n",
        "                                    np.max(pred_prob)*100,\n",
        "                                    true_label),\n",
        "                                    color=color)"
      ],
      "execution_count": null,
      "outputs": []
    },
    {
      "cell_type": "code",
      "metadata": {
        "id": "hfjyxvpJ1x63"
      },
      "source": [
        "plot_pred(prediction_probabilities=predictions,\n",
        "          labels=val_labels,\n",
        "          images=val_images,\n",
        "          n=77)"
      ],
      "execution_count": null,
      "outputs": []
    },
    {
      "cell_type": "code",
      "metadata": {
        "id": "x3qa-FBm-vba"
      },
      "source": [
        "# plot the top prediction probablities values and labels, coloring the true label green\n",
        "def plot_pred_conf(prediction_probabilities, labels, n=1):\n",
        "  pred_prob, true_label = prediction_probabilities[n], labels[n]\n",
        "\n",
        "  # get the predicted label\n",
        "  pred_label = get_pred_label(pred_prob)\n",
        "\n",
        "  # find the top 10 prediction confidence indexes\n",
        "  top_10_pred_indexes = pred_prob.argsort()[-10:][::-1]\n",
        "  # find the top 10 prediction confidence values\n",
        "  top_10_pred_values = pred_prob[top_10_pred_indexes]\n",
        "  # find the top 10 prediction labels\n",
        "  top_10_pred_labels = unique_breeds[top_10_pred_indexes]\n",
        "\n",
        "  # setup plot\n",
        "  top_plot = plt.bar(np.arange(len(top_10_pred_indexes)),\n",
        "                     top_10_pred_values,\n",
        "                     color=\"grey\")\n",
        "  \n",
        "  plt.xticks(np.arange(len(top_10_pred_labels)),\n",
        "             top_10_pred_labels,\n",
        "             rotation=\"vertical\")\n",
        "  \n",
        "  # Change color of true label\n",
        "  if np.isin(true_label, top_10_pred_labels):\n",
        "    top_plot[np.argmax(top_10_pred_labels == true_label)].set_color(\"green\")\n",
        "  else:\n",
        "    pass  "
      ],
      "execution_count": null,
      "outputs": []
    },
    {
      "cell_type": "code",
      "metadata": {
        "id": "Na6QeoUkHogx"
      },
      "source": [
        "plot_pred_conf(prediction_probabilities=predictions,\n",
        "               labels=val_labels,\n",
        "                n=9)"
      ],
      "execution_count": null,
      "outputs": []
    },
    {
      "cell_type": "code",
      "metadata": {
        "id": "dRU0T2F7ckhD"
      },
      "source": [
        "#  lets check  some predictions\n",
        "i_multiplier = 20\n",
        "num_images = 6\n",
        "plt.figure(figsize=(20, 15))\n",
        "for i in range(num_images):\n",
        "  plt.subplot(3, 4, 2*i+1)\n",
        "  plot_pred(prediction_probabilities=predictions,\n",
        "            labels=val_labels,\n",
        "            images=val_images,\n",
        "            n=i+i_multiplier)\n",
        "  plt.subplot(3, 4, 2*i+2)\n",
        "  plot_pred_conf(prediction_probabilities=predictions,\n",
        "                 labels=val_labels,\n",
        "                  n=i+i_multiplier)\n",
        "plt.tight_layout(h_pad=1.0)\n",
        "plt.show()  "
      ],
      "execution_count": null,
      "outputs": []
    },
    {
      "cell_type": "code",
      "metadata": {
        "id": "Is41Y8m2zDJQ"
      },
      "source": [
        "# create a function o save a model\n",
        "def save_model(model, suffix=None):\n",
        "\n",
        "  #create a model directory path name with current time\n",
        "  modeldir = os.path.join(\"drive/MyDrive/Dog Vision/models\",\n",
        "                          datetime.datetime.now().strftime(\"%y%m%d-%H%M%s\"))\n",
        "  model_path = modeldir + \"-\" + suffix + \".h5\" # save format of model\n",
        "  print(f\"saving model to: {model_path} ...\")\n",
        "  model.save(model_path)\n",
        "  return model_path\n"
      ],
      "execution_count": 55,
      "outputs": []
    },
    {
      "cell_type": "code",
      "metadata": {
        "id": "4hVzciDF1T-B"
      },
      "source": [
        "# create a function to load a trained model\n",
        "def load_model(model_path):\n",
        "  print(f\"loading saved model from: {model_path}\")\n",
        "  model = tf.keras.models.load_model(model_path,\n",
        "                                      custom_objects={\"KerasLayer\":hub.KerasLayer})\n",
        "  return model"
      ],
      "execution_count": 60,
      "outputs": []
    },
    {
      "cell_type": "code",
      "metadata": {
        "id": "gMCIsNep3NAI"
      },
      "source": [
        "# save our model trained on 1000 images\n",
        "save_model(model, suffix=\"1000-images-mobilenetv2-Adam\")"
      ],
      "execution_count": null,
      "outputs": []
    },
    {
      "cell_type": "code",
      "metadata": {
        "id": "b9LhJ8pt3jzx"
      },
      "source": [
        "# loading a trained model\n",
        "loaded_1000_image_model = load_model(\"drive/MyDrive/Dog Vision/models/210518-14251621347935-1000-images-mobilenetv2-Adam.h5\")"
      ],
      "execution_count": null,
      "outputs": []
    },
    {
      "cell_type": "code",
      "metadata": {
        "id": "uucu6AFq38Y4"
      },
      "source": [
        "# evaluate presaved model\n",
        "model.evaluate(val_data)"
      ],
      "execution_count": null,
      "outputs": []
    },
    {
      "cell_type": "code",
      "metadata": {
        "id": "E5vbFsRu4L8s"
      },
      "source": [
        "## Training the big dog model on full data"
      ],
      "execution_count": 22,
      "outputs": []
    },
    {
      "cell_type": "code",
      "metadata": {
        "colab": {
          "base_uri": "https://localhost:8080/"
        },
        "id": "tw6C1ZdvDBXR",
        "outputId": "15f1e82e-d062-4fca-d821-427191e20d08"
      },
      "source": [
        "len(X)"
      ],
      "execution_count": 36,
      "outputs": [
        {
          "output_type": "execute_result",
          "data": {
            "text/plain": [
              "10222"
            ]
          },
          "metadata": {
            "tags": []
          },
          "execution_count": 36
        }
      ]
    },
    {
      "cell_type": "code",
      "metadata": {
        "colab": {
          "base_uri": "https://localhost:8080/"
        },
        "id": "ueEUof4oDmYm",
        "outputId": "1d691461-7201-400f-8789-5ef029faf136"
      },
      "source": [
        "len(y)"
      ],
      "execution_count": 37,
      "outputs": [
        {
          "output_type": "execute_result",
          "data": {
            "text/plain": [
              "10222"
            ]
          },
          "metadata": {
            "tags": []
          },
          "execution_count": 37
        }
      ]
    },
    {
      "cell_type": "code",
      "metadata": {
        "colab": {
          "base_uri": "https://localhost:8080/"
        },
        "id": "aFO3ERS8DoRF",
        "outputId": "1354d1fb-2b60-4d94-ec9d-3b28677c5271"
      },
      "source": [
        "X[:10]"
      ],
      "execution_count": 38,
      "outputs": [
        {
          "output_type": "execute_result",
          "data": {
            "text/plain": [
              "['drive/MyDrive/Dog Vision/train/000bec180eb18c7604dcecc8fe0dba07.jpg',\n",
              " 'drive/MyDrive/Dog Vision/train/001513dfcb2ffafc82cccf4d8bbaba97.jpg',\n",
              " 'drive/MyDrive/Dog Vision/train/001cdf01b096e06d78e9e5112d419397.jpg',\n",
              " 'drive/MyDrive/Dog Vision/train/00214f311d5d2247d5dfe4fe24b2303d.jpg',\n",
              " 'drive/MyDrive/Dog Vision/train/0021f9ceb3235effd7fcde7f7538ed62.jpg',\n",
              " 'drive/MyDrive/Dog Vision/train/002211c81b498ef88e1b40b9abf84e1d.jpg',\n",
              " 'drive/MyDrive/Dog Vision/train/00290d3e1fdd27226ba27a8ce248ce85.jpg',\n",
              " 'drive/MyDrive/Dog Vision/train/002a283a315af96eaea0e28e7163b21b.jpg',\n",
              " 'drive/MyDrive/Dog Vision/train/003df8b8a8b05244b1d920bb6cf451f9.jpg',\n",
              " 'drive/MyDrive/Dog Vision/train/0042188c895a2f14ef64a918ed9c7b64.jpg']"
            ]
          },
          "metadata": {
            "tags": []
          },
          "execution_count": 38
        }
      ]
    },
    {
      "cell_type": "code",
      "metadata": {
        "id": "6Fjx2kGOEXWx"
      },
      "source": [
        "# Define the batch size, 32 is a good start\n",
        "BATCH_SIZE = 32\n",
        "\n",
        "# Create a function to turn data batches\n",
        "def create_data_batches(X, y=None, batch_size=BATCH_SIZE, valid_data=False, test_data=False):\n",
        "  '''\n",
        "  creates data batches out of image (X) and label (y) pairs.\n",
        "  '''\n",
        "  # If the data is a test data set ,we probably don't have labels\n",
        "  if test_data:\n",
        "    print(\"Creating test data batches...\")\n",
        "    data = tf.data.Dataset.from_tensor_slices((tf.constant(X))) # only filepaths (no labels)\n",
        "    data_batch = data.map(process_image).batch(BATCH_SIZE)\n",
        "    return data_batch\n",
        "\n",
        "  # If the data is a valid dataset, we dont need to shuffle it\n",
        "  elif valid_data:\n",
        "    print(\"Creating validation data batches...\")\n",
        "    data = tf.data.Dataset.from_tensor_slices((tf.constant(X), # filepaths\n",
        "                                                tf.constant(y))) # labels\n",
        "    data_batch = data.map(get_image_label).batch(BATCH_SIZE)\n",
        "    return data_batch\n",
        "\n",
        "  else:\n",
        "    print(\"Creating training data batches...\")\n",
        "    # Turn filepaths and labels into Tensors\n",
        "    data = tf.data.Dataset.from_tensor_slices((tf.constant(X), # filepaths\n",
        "                                                tf.constant(y))) # labels\n",
        "    # Shuffling the data\n",
        "    data = data.shuffle(buffer_size=len(X))\n",
        "\n",
        "    # Create (image, label) tuples \n",
        "    data = data.map(get_image_label)\n",
        "\n",
        "    # Turn the training data into batches\n",
        "    data_batch = data.batch(BATCH_SIZE)\n",
        "\n",
        "  return data_batch\n"
      ],
      "execution_count": 39,
      "outputs": []
    },
    {
      "cell_type": "code",
      "metadata": {
        "colab": {
          "base_uri": "https://localhost:8080/"
        },
        "id": "ycgYkhypDt00",
        "outputId": "159cb634-dd0b-4b4f-ebae-2f50338adeaa"
      },
      "source": [
        "full_data = create_data_batches(X, y)"
      ],
      "execution_count": 44,
      "outputs": [
        {
          "output_type": "stream",
          "text": [
            "Creating training data batches...\n"
          ],
          "name": "stdout"
        }
      ]
    },
    {
      "cell_type": "code",
      "metadata": {
        "colab": {
          "base_uri": "https://localhost:8080/"
        },
        "id": "iRFk5vPgE0HP",
        "outputId": "22e4a33a-c38f-43c5-ea93-1565ae55bbec"
      },
      "source": [
        "full_data"
      ],
      "execution_count": 45,
      "outputs": [
        {
          "output_type": "execute_result",
          "data": {
            "text/plain": [
              "<BatchDataset shapes: ((None, 224, 224, 3), (None, 120)), types: (tf.float32, tf.bool)>"
            ]
          },
          "metadata": {
            "tags": []
          },
          "execution_count": 45
        }
      ]
    },
    {
      "cell_type": "code",
      "metadata": {
        "colab": {
          "base_uri": "https://localhost:8080/"
        },
        "id": "itv3cai5E2t0",
        "outputId": "e2009ca5-4e55-4950-ccf4-227734fd5554"
      },
      "source": [
        "full_model = create_model()"
      ],
      "execution_count": 48,
      "outputs": [
        {
          "output_type": "stream",
          "text": [
            "Building model with: https://tfhub.dev/google/imagenet/mobilenet_v2_130_224/classification/4\n"
          ],
          "name": "stdout"
        }
      ]
    },
    {
      "cell_type": "code",
      "metadata": {
        "id": "I0mIiA2PFqXN"
      },
      "source": [
        "# create full model callbacks\n",
        "full_model_tensorboard = create_tensorboard_callback()\n",
        "full_model_early_stopping = tf.keras.callbacks.EarlyStopping(monitor=\"accuracy\",\n",
        "                                                             patience=3)"
      ],
      "execution_count": 54,
      "outputs": []
    },
    {
      "cell_type": "code",
      "metadata": {
        "colab": {
          "base_uri": "https://localhost:8080/"
        },
        "id": "dVv-0ipAGR_H",
        "outputId": "770d8d60-09e4-4016-b45e-1575b0f11965"
      },
      "source": [
        "full_model.fit(x=full_data,\n",
        "               epochs=NUM_EPOCHS,\n",
        "               callbacks=[full_model_tensorboard, full_model_early_stopping])"
      ],
      "execution_count": 57,
      "outputs": [
        {
          "output_type": "stream",
          "text": [
            "Epoch 1/100\n",
            "320/320 [==============================] - 173s 542ms/step - loss: 0.4198 - accuracy: 0.8764\n",
            "Epoch 2/100\n",
            "320/320 [==============================] - 38s 119ms/step - loss: 0.2467 - accuracy: 0.9284\n",
            "Epoch 3/100\n",
            "320/320 [==============================] - 38s 120ms/step - loss: 0.1594 - accuracy: 0.9606\n",
            "Epoch 4/100\n",
            "320/320 [==============================] - 38s 119ms/step - loss: 0.1081 - accuracy: 0.9776\n",
            "Epoch 5/100\n",
            "320/320 [==============================] - 38s 119ms/step - loss: 0.0777 - accuracy: 0.9872\n",
            "Epoch 6/100\n",
            "320/320 [==============================] - 38s 119ms/step - loss: 0.0598 - accuracy: 0.9905\n",
            "Epoch 7/100\n",
            "320/320 [==============================] - 39s 122ms/step - loss: 0.0464 - accuracy: 0.9949\n",
            "Epoch 8/100\n",
            "320/320 [==============================] - 38s 120ms/step - loss: 0.0382 - accuracy: 0.9959\n",
            "Epoch 9/100\n",
            "320/320 [==============================] - 38s 119ms/step - loss: 0.0321 - accuracy: 0.9969\n",
            "Epoch 10/100\n",
            "320/320 [==============================] - 38s 119ms/step - loss: 0.0279 - accuracy: 0.9972\n",
            "Epoch 11/100\n",
            "320/320 [==============================] - 38s 119ms/step - loss: 0.0230 - accuracy: 0.9981\n",
            "Epoch 12/100\n",
            "320/320 [==============================] - 38s 119ms/step - loss: 0.0191 - accuracy: 0.9984\n",
            "Epoch 13/100\n",
            "320/320 [==============================] - 38s 119ms/step - loss: 0.0186 - accuracy: 0.9986\n",
            "Epoch 14/100\n",
            "320/320 [==============================] - 38s 120ms/step - loss: 0.0160 - accuracy: 0.9989\n",
            "Epoch 15/100\n",
            "320/320 [==============================] - 38s 120ms/step - loss: 0.0141 - accuracy: 0.9988\n",
            "Epoch 16/100\n",
            "320/320 [==============================] - 38s 119ms/step - loss: 0.0136 - accuracy: 0.9985\n",
            "Epoch 17/100\n",
            "320/320 [==============================] - 38s 119ms/step - loss: 0.0133 - accuracy: 0.9986\n"
          ],
          "name": "stdout"
        },
        {
          "output_type": "execute_result",
          "data": {
            "text/plain": [
              "<tensorflow.python.keras.callbacks.History at 0x7f1b7d73db10>"
            ]
          },
          "metadata": {
            "tags": []
          },
          "execution_count": 57
        }
      ]
    },
    {
      "cell_type": "code",
      "metadata": {
        "colab": {
          "base_uri": "https://localhost:8080/",
          "height": 52
        },
        "id": "6GYjfWyIHmWO",
        "outputId": "67b26073-9cd6-4c8a-f300-5db0b5451313"
      },
      "source": [
        "save_model(full_model, suffix=\"ful-images-set-mobilenetv2-Adam\")"
      ],
      "execution_count": 58,
      "outputs": [
        {
          "output_type": "stream",
          "text": [
            "saving model to: drive/MyDrive/Dog Vision/models/210519-11051621422355-ful-images-set-mobilenetv2-Adam.h5 ...\n"
          ],
          "name": "stdout"
        },
        {
          "output_type": "execute_result",
          "data": {
            "application/vnd.google.colaboratory.intrinsic+json": {
              "type": "string"
            },
            "text/plain": [
              "'drive/MyDrive/Dog Vision/models/210519-11051621422355-ful-images-set-mobilenetv2-Adam.h5'"
            ]
          },
          "metadata": {
            "tags": []
          },
          "execution_count": 58
        }
      ]
    },
    {
      "cell_type": "code",
      "metadata": {
        "colab": {
          "base_uri": "https://localhost:8080/",
          "height": 178
        },
        "id": "gjM7q-7_UQXf",
        "outputId": "2611a890-b832-486a-87c2-851ec52be7d5"
      },
      "source": [
        "# Load full model\n",
        "loaded_full_model = load_model(\"drive/MyDrive/Dog Vision/models/210519-11051621422355-ful-images-set-mobilenetv2-Adam.h5\")"
      ],
      "execution_count": 3,
      "outputs": [
        {
          "output_type": "error",
          "ename": "NameError",
          "evalue": "ignored",
          "traceback": [
            "\u001b[0;31m---------------------------------------------------------------------------\u001b[0m",
            "\u001b[0;31mNameError\u001b[0m                                 Traceback (most recent call last)",
            "\u001b[0;32m<ipython-input-3-49a2207d9d83>\u001b[0m in \u001b[0;36m<module>\u001b[0;34m()\u001b[0m\n\u001b[1;32m      1\u001b[0m \u001b[0;31m# Load full model\u001b[0m\u001b[0;34m\u001b[0m\u001b[0;34m\u001b[0m\u001b[0;34m\u001b[0m\u001b[0m\n\u001b[0;32m----> 2\u001b[0;31m \u001b[0mloaded_full_model\u001b[0m \u001b[0;34m=\u001b[0m \u001b[0mload_model\u001b[0m\u001b[0;34m(\u001b[0m\u001b[0;34m\"drive/MyDrive/Dog Vision/models/210519-11051621422355-ful-images-set-mobilenetv2-Adam.h5\"\u001b[0m\u001b[0;34m)\u001b[0m\u001b[0;34m\u001b[0m\u001b[0;34m\u001b[0m\u001b[0m\n\u001b[0m",
            "\u001b[0;31mNameError\u001b[0m: name 'load_model' is not defined"
          ]
        }
      ]
    },
    {
      "cell_type": "code",
      "metadata": {
        "colab": {
          "base_uri": "https://localhost:8080/"
        },
        "id": "lvgUDkwRWfRM",
        "outputId": "1562c0f6-4299-4cfd-e673-64b25c095557"
      },
      "source": [
        "# load test images filenames\n",
        "test_path = \"drive/MyDrive/Dog Vision/test/\"\n",
        "import os\n",
        "test_filenames = [test_path + fname for fname in os.listdir(test_path)]\n",
        "test_filenames[:10]"
      ],
      "execution_count": 21,
      "outputs": [
        {
          "output_type": "execute_result",
          "data": {
            "text/plain": [
              "['drive/MyDrive/Dog Vision/test/df47feaaf3dfb33cf712cccdddc8060e.jpg',\n",
              " 'drive/MyDrive/Dog Vision/test/e46a2bfb7816324d171c4e07786abc59.jpg',\n",
              " 'drive/MyDrive/Dog Vision/test/e5de4eec61d00ee4834ff0153f90ed41.jpg',\n",
              " 'drive/MyDrive/Dog Vision/test/df645ae75554d4d7130bfa1b72be53ce.jpg',\n",
              " 'drive/MyDrive/Dog Vision/test/e65bf4e655ccf594210174f124e3adf0.jpg',\n",
              " 'drive/MyDrive/Dog Vision/test/e63da7cff68f6a5e452bb73cdbd93ad3.jpg',\n",
              " 'drive/MyDrive/Dog Vision/test/e7340d1efa70bf6d6c134e1e150f9473.jpg',\n",
              " 'drive/MyDrive/Dog Vision/test/e4897fe96990006c10ec7336772cbd37.jpg',\n",
              " 'drive/MyDrive/Dog Vision/test/e53cb5b42ea1a7700cd294a336890361.jpg',\n",
              " 'drive/MyDrive/Dog Vision/test/df9ee3c663b1f2ca84781c09fa8c31f8.jpg']"
            ]
          },
          "metadata": {
            "tags": []
          },
          "execution_count": 21
        }
      ]
    },
    {
      "cell_type": "code",
      "metadata": {
        "colab": {
          "base_uri": "https://localhost:8080/"
        },
        "id": "bH5rDN3jXd4b",
        "outputId": "a20bd839-3235-416f-812f-6923c67f1fef"
      },
      "source": [
        "len(test_filenames)"
      ],
      "execution_count": 63,
      "outputs": [
        {
          "output_type": "execute_result",
          "data": {
            "text/plain": [
              "10357"
            ]
          },
          "metadata": {
            "tags": []
          },
          "execution_count": 63
        }
      ]
    },
    {
      "cell_type": "code",
      "metadata": {
        "colab": {
          "base_uri": "https://localhost:8080/"
        },
        "id": "79KaEcb-XhBb",
        "outputId": "3e33e55d-3b1d-4b2b-f750-993a154ac0ff"
      },
      "source": [
        "# create test data batch\n",
        "test_data = create_data_batches(test_filenames, test_data=True)"
      ],
      "execution_count": 64,
      "outputs": [
        {
          "output_type": "stream",
          "text": [
            "Creating test data batches...\n"
          ],
          "name": "stdout"
        }
      ]
    },
    {
      "cell_type": "code",
      "metadata": {
        "colab": {
          "base_uri": "https://localhost:8080/"
        },
        "id": "Z7vxz94bYNuf",
        "outputId": "197d5176-a2bb-4184-ce56-a0f7f6532a88"
      },
      "source": [
        "test_data"
      ],
      "execution_count": 65,
      "outputs": [
        {
          "output_type": "execute_result",
          "data": {
            "text/plain": [
              "<BatchDataset shapes: (None, 224, 224, 3), types: tf.float32>"
            ]
          },
          "metadata": {
            "tags": []
          },
          "execution_count": 65
        }
      ]
    },
    {
      "cell_type": "code",
      "metadata": {
        "colab": {
          "base_uri": "https://localhost:8080/",
          "height": 128
        },
        "id": "IOD2UJuhYP1D",
        "outputId": "2be1181a-2055-4cb3-a0fa-370cec75a375"
      },
      "source": [
        "# make predictions on test data batch using the loaded full model\n",
        "#test_predictions = loaded_full_model.predict(test_data,\n",
        "                                              verbose=1)"
      ],
      "execution_count": 78,
      "outputs": [
        {
          "output_type": "error",
          "ename": "IndentationError",
          "evalue": "ignored",
          "traceback": [
            "\u001b[0;36m  File \u001b[0;32m\"<ipython-input-78-4913af8f6e41>\"\u001b[0;36m, line \u001b[0;32m3\u001b[0m\n\u001b[0;31m    verbose=1)\u001b[0m\n\u001b[0m    ^\u001b[0m\n\u001b[0;31mIndentationError\u001b[0m\u001b[0;31m:\u001b[0m unexpected indent\n"
          ]
        }
      ]
    },
    {
      "cell_type": "code",
      "metadata": {
        "id": "qAyUL5m1iEBR"
      },
      "source": [
        "# save predictions(numpy array) to csv file (for acess later)\n",
        "#np.savetxt(\"drive/Mydrive/Dog Vision/pred file/dog-vision-prediction-array.csv\",test_predictions, delimiter=\",\")"
      ],
      "execution_count": 79,
      "outputs": []
    },
    {
      "cell_type": "code",
      "metadata": {
        "id": "CipmA2Z-cd_F"
      },
      "source": [
        "import numpy as np\n",
        "test_predictions = np.loadtxt(\"drive/MyDrive/Dog Vision/pred file/dog-vision-prediction-probabilites-array.csv\", delimiter=\",\")"
      ],
      "execution_count": 6,
      "outputs": []
    },
    {
      "cell_type": "code",
      "metadata": {
        "colab": {
          "base_uri": "https://localhost:8080/"
        },
        "id": "RwdChEocgd2i",
        "outputId": "66109859-b913-430b-ad98-094659153109"
      },
      "source": [
        "test_predictions[:10]"
      ],
      "execution_count": 7,
      "outputs": [
        {
          "output_type": "execute_result",
          "data": {
            "text/plain": [
              "array([[1.61196489e-09, 3.44086413e-12, 2.32834394e-11, ...,\n",
              "        1.06917716e-13, 1.58530451e-08, 1.52161670e-06],\n",
              "       [3.17894322e-10, 3.20088262e-14, 1.85374840e-10, ...,\n",
              "        7.00588814e-08, 1.88822238e-08, 2.56980937e-10],\n",
              "       [4.27301083e-09, 1.84139528e-13, 1.11784948e-09, ...,\n",
              "        2.71949238e-12, 2.23927123e-06, 7.41860809e-11],\n",
              "       ...,\n",
              "       [4.47232779e-10, 4.28004029e-07, 4.11986996e-08, ...,\n",
              "        4.65437893e-07, 8.21722967e-10, 8.86002116e-09],\n",
              "       [3.50528079e-11, 1.94377336e-03, 1.44941642e-10, ...,\n",
              "        1.56135718e-06, 6.13228721e-08, 7.32120961e-12],\n",
              "       [1.23221771e-08, 3.08354520e-09, 1.87174110e-10, ...,\n",
              "        8.16165635e-10, 9.98905063e-01, 6.73740752e-09]])"
            ]
          },
          "metadata": {
            "tags": []
          },
          "execution_count": 7
        }
      ]
    },
    {
      "cell_type": "code",
      "metadata": {
        "colab": {
          "base_uri": "https://localhost:8080/"
        },
        "id": "o5Gwc8hBjBfJ",
        "outputId": "d39dc962-d6de-4e46-bec5-94609898b2a6"
      },
      "source": [
        "test_predictions.shape"
      ],
      "execution_count": 82,
      "outputs": [
        {
          "output_type": "execute_result",
          "data": {
            "text/plain": [
              "(10357, 120)"
            ]
          },
          "metadata": {
            "tags": []
          },
          "execution_count": 82
        }
      ]
    },
    {
      "cell_type": "code",
      "metadata": {
        "colab": {
          "base_uri": "https://localhost:8080/",
          "height": 113
        },
        "id": "VqcVtCFvjFQx",
        "outputId": "94f0cd7c-16fd-4832-f713-6c5a7e83a0e0"
      },
      "source": [
        "# create a dataframe of our predictions\n",
        "import pandas as pd\n",
        "preds_df = pd.DataFrame(columns=[\"id\"] + list(unique_breeds))\n",
        "preds_df.head()"
      ],
      "execution_count": 19,
      "outputs": [
        {
          "output_type": "execute_result",
          "data": {
            "text/html": [
              "<div>\n",
              "<style scoped>\n",
              "    .dataframe tbody tr th:only-of-type {\n",
              "        vertical-align: middle;\n",
              "    }\n",
              "\n",
              "    .dataframe tbody tr th {\n",
              "        vertical-align: top;\n",
              "    }\n",
              "\n",
              "    .dataframe thead th {\n",
              "        text-align: right;\n",
              "    }\n",
              "</style>\n",
              "<table border=\"1\" class=\"dataframe\">\n",
              "  <thead>\n",
              "    <tr style=\"text-align: right;\">\n",
              "      <th></th>\n",
              "      <th>id</th>\n",
              "      <th>affenpinscher</th>\n",
              "      <th>afghan_hound</th>\n",
              "      <th>african_hunting_dog</th>\n",
              "      <th>airedale</th>\n",
              "      <th>american_staffordshire_terrier</th>\n",
              "      <th>appenzeller</th>\n",
              "      <th>australian_terrier</th>\n",
              "      <th>basenji</th>\n",
              "      <th>basset</th>\n",
              "      <th>beagle</th>\n",
              "      <th>bedlington_terrier</th>\n",
              "      <th>bernese_mountain_dog</th>\n",
              "      <th>black-and-tan_coonhound</th>\n",
              "      <th>blenheim_spaniel</th>\n",
              "      <th>bloodhound</th>\n",
              "      <th>bluetick</th>\n",
              "      <th>border_collie</th>\n",
              "      <th>border_terrier</th>\n",
              "      <th>borzoi</th>\n",
              "      <th>boston_bull</th>\n",
              "      <th>bouvier_des_flandres</th>\n",
              "      <th>boxer</th>\n",
              "      <th>brabancon_griffon</th>\n",
              "      <th>briard</th>\n",
              "      <th>brittany_spaniel</th>\n",
              "      <th>bull_mastiff</th>\n",
              "      <th>cairn</th>\n",
              "      <th>cardigan</th>\n",
              "      <th>chesapeake_bay_retriever</th>\n",
              "      <th>chihuahua</th>\n",
              "      <th>chow</th>\n",
              "      <th>clumber</th>\n",
              "      <th>cocker_spaniel</th>\n",
              "      <th>collie</th>\n",
              "      <th>curly-coated_retriever</th>\n",
              "      <th>dandie_dinmont</th>\n",
              "      <th>dhole</th>\n",
              "      <th>dingo</th>\n",
              "      <th>doberman</th>\n",
              "      <th>...</th>\n",
              "      <th>norwegian_elkhound</th>\n",
              "      <th>norwich_terrier</th>\n",
              "      <th>old_english_sheepdog</th>\n",
              "      <th>otterhound</th>\n",
              "      <th>papillon</th>\n",
              "      <th>pekinese</th>\n",
              "      <th>pembroke</th>\n",
              "      <th>pomeranian</th>\n",
              "      <th>pug</th>\n",
              "      <th>redbone</th>\n",
              "      <th>rhodesian_ridgeback</th>\n",
              "      <th>rottweiler</th>\n",
              "      <th>saint_bernard</th>\n",
              "      <th>saluki</th>\n",
              "      <th>samoyed</th>\n",
              "      <th>schipperke</th>\n",
              "      <th>scotch_terrier</th>\n",
              "      <th>scottish_deerhound</th>\n",
              "      <th>sealyham_terrier</th>\n",
              "      <th>shetland_sheepdog</th>\n",
              "      <th>shih-tzu</th>\n",
              "      <th>siberian_husky</th>\n",
              "      <th>silky_terrier</th>\n",
              "      <th>soft-coated_wheaten_terrier</th>\n",
              "      <th>staffordshire_bullterrier</th>\n",
              "      <th>standard_poodle</th>\n",
              "      <th>standard_schnauzer</th>\n",
              "      <th>sussex_spaniel</th>\n",
              "      <th>tibetan_mastiff</th>\n",
              "      <th>tibetan_terrier</th>\n",
              "      <th>toy_poodle</th>\n",
              "      <th>toy_terrier</th>\n",
              "      <th>vizsla</th>\n",
              "      <th>walker_hound</th>\n",
              "      <th>weimaraner</th>\n",
              "      <th>welsh_springer_spaniel</th>\n",
              "      <th>west_highland_white_terrier</th>\n",
              "      <th>whippet</th>\n",
              "      <th>wire-haired_fox_terrier</th>\n",
              "      <th>yorkshire_terrier</th>\n",
              "    </tr>\n",
              "  </thead>\n",
              "  <tbody>\n",
              "  </tbody>\n",
              "</table>\n",
              "<p>0 rows × 121 columns</p>\n",
              "</div>"
            ],
            "text/plain": [
              "Empty DataFrame\n",
              "Columns: [id, affenpinscher, afghan_hound, african_hunting_dog, airedale, american_staffordshire_terrier, appenzeller, australian_terrier, basenji, basset, beagle, bedlington_terrier, bernese_mountain_dog, black-and-tan_coonhound, blenheim_spaniel, bloodhound, bluetick, border_collie, border_terrier, borzoi, boston_bull, bouvier_des_flandres, boxer, brabancon_griffon, briard, brittany_spaniel, bull_mastiff, cairn, cardigan, chesapeake_bay_retriever, chihuahua, chow, clumber, cocker_spaniel, collie, curly-coated_retriever, dandie_dinmont, dhole, dingo, doberman, english_foxhound, english_setter, english_springer, entlebucher, eskimo_dog, flat-coated_retriever, french_bulldog, german_shepherd, german_short-haired_pointer, giant_schnauzer, golden_retriever, gordon_setter, great_dane, great_pyrenees, greater_swiss_mountain_dog, groenendael, ibizan_hound, irish_setter, irish_terrier, irish_water_spaniel, irish_wolfhound, italian_greyhound, japanese_spaniel, keeshond, kelpie, kerry_blue_terrier, komondor, kuvasz, labrador_retriever, lakeland_terrier, leonberg, lhasa, malamute, malinois, maltese_dog, mexican_hairless, miniature_pinscher, miniature_poodle, miniature_schnauzer, newfoundland, norfolk_terrier, norwegian_elkhound, norwich_terrier, old_english_sheepdog, otterhound, papillon, pekinese, pembroke, pomeranian, pug, redbone, rhodesian_ridgeback, rottweiler, saint_bernard, saluki, samoyed, schipperke, scotch_terrier, scottish_deerhound, sealyham_terrier, ...]\n",
              "Index: []\n",
              "\n",
              "[0 rows x 121 columns]"
            ]
          },
          "metadata": {
            "tags": []
          },
          "execution_count": 19
        }
      ]
    },
    {
      "cell_type": "code",
      "metadata": {
        "colab": {
          "base_uri": "https://localhost:8080/"
        },
        "id": "ASiAR6Swk-pl",
        "outputId": "adf77c04-edc4-4f81-ce57-6a61a19f6bac"
      },
      "source": [
        "test_filenames[:10]"
      ],
      "execution_count": 22,
      "outputs": [
        {
          "output_type": "execute_result",
          "data": {
            "text/plain": [
              "['drive/MyDrive/Dog Vision/test/df47feaaf3dfb33cf712cccdddc8060e.jpg',\n",
              " 'drive/MyDrive/Dog Vision/test/e46a2bfb7816324d171c4e07786abc59.jpg',\n",
              " 'drive/MyDrive/Dog Vision/test/e5de4eec61d00ee4834ff0153f90ed41.jpg',\n",
              " 'drive/MyDrive/Dog Vision/test/df645ae75554d4d7130bfa1b72be53ce.jpg',\n",
              " 'drive/MyDrive/Dog Vision/test/e65bf4e655ccf594210174f124e3adf0.jpg',\n",
              " 'drive/MyDrive/Dog Vision/test/e63da7cff68f6a5e452bb73cdbd93ad3.jpg',\n",
              " 'drive/MyDrive/Dog Vision/test/e7340d1efa70bf6d6c134e1e150f9473.jpg',\n",
              " 'drive/MyDrive/Dog Vision/test/e4897fe96990006c10ec7336772cbd37.jpg',\n",
              " 'drive/MyDrive/Dog Vision/test/e53cb5b42ea1a7700cd294a336890361.jpg',\n",
              " 'drive/MyDrive/Dog Vision/test/df9ee3c663b1f2ca84781c09fa8c31f8.jpg']"
            ]
          },
          "metadata": {
            "tags": []
          },
          "execution_count": 22
        }
      ]
    },
    {
      "cell_type": "code",
      "metadata": {
        "colab": {
          "base_uri": "https://localhost:8080/",
          "height": 35
        },
        "id": "Uw7gv4BDlKVC",
        "outputId": "74b72a6b-e2cb-4ede-ef1a-61f6e4fcdb3b"
      },
      "source": [
        "test_path"
      ],
      "execution_count": 87,
      "outputs": [
        {
          "output_type": "execute_result",
          "data": {
            "application/vnd.google.colaboratory.intrinsic+json": {
              "type": "string"
            },
            "text/plain": [
              "'drive/MyDrive/Dog Vision/test/'"
            ]
          },
          "metadata": {
            "tags": []
          },
          "execution_count": 87
        }
      ]
    },
    {
      "cell_type": "code",
      "metadata": {
        "colab": {
          "base_uri": "https://localhost:8080/"
        },
        "id": "CZbqPXMSlVxS",
        "outputId": "51589664-9686-4f80-c814-19e5dd88294b"
      },
      "source": [
        "test_ids = [os.path.splitext(path)[0] for path in os.listdir(test_path)]\n",
        "test_ids"
      ],
      "execution_count": 23,
      "outputs": [
        {
          "output_type": "execute_result",
          "data": {
            "text/plain": [
              "['df47feaaf3dfb33cf712cccdddc8060e',\n",
              " 'e46a2bfb7816324d171c4e07786abc59',\n",
              " 'e5de4eec61d00ee4834ff0153f90ed41',\n",
              " 'df645ae75554d4d7130bfa1b72be53ce',\n",
              " 'e65bf4e655ccf594210174f124e3adf0',\n",
              " 'e63da7cff68f6a5e452bb73cdbd93ad3',\n",
              " 'e7340d1efa70bf6d6c134e1e150f9473',\n",
              " 'e4897fe96990006c10ec7336772cbd37',\n",
              " 'e53cb5b42ea1a7700cd294a336890361',\n",
              " 'df9ee3c663b1f2ca84781c09fa8c31f8',\n",
              " 'e004d9f3a6236e2de6dd0f386b685059',\n",
              " 'f1b2c118e65c95ba1a00d102787d19a6',\n",
              " 'efb4e5dc776a639a140b022cf0835eb5',\n",
              " 'ef4b59cdb6485917a71f2c40df9c8d47',\n",
              " 'f407f19970c6d8d516722e899adc599c',\n",
              " 'f1af835a9146d6ec0da8059b3a55c030',\n",
              " 'f298a81a55b9d62e6d337ecdf7b1e827',\n",
              " 'f1979a55bddde4fda0282da796460f80',\n",
              " 'f495e4dbc5b2bc6230bca03970d37876',\n",
              " 'f4cd3448e7e39070c86f551bfd4f1471',\n",
              " 'f3fa4a19ad6e0a8a4b25467fb995fd7a',\n",
              " 'f02444318adc0c1c2360c3bf3bff5709',\n",
              " 'e864f3fc5d19aec4b7a5aa547b359c57',\n",
              " 'f372b595f5e684d8c7c261d6b0166736',\n",
              " 'f16a73d54d86c0020bf1d63a29eb024b',\n",
              " 'e857866af777793d2c114b09ea7a685a',\n",
              " 'f374a9d5a46f8b8aa97c715768f170d4',\n",
              " 'f157256196b2c6e28a739d2947e956e5',\n",
              " 'f320aa2676156d3760a409e1b333474d',\n",
              " 'f29de7ef9ac75de46170fd50f5b2d173',\n",
              " 'e8f67d8d36c49d7436aab680e798b685',\n",
              " 'ef5f1eb55d91360df896824ac4cc979b',\n",
              " 'ec4536edae000402b075a55d062eca21',\n",
              " 'e870a3586332ab83ddd5821fbc882f42',\n",
              " 'f16fd3afeb123e25cfe3e712faee8aa5',\n",
              " 'ef59760870674327ca5d004bae427422',\n",
              " 'ed574861296d0946948a4225e60e8d75',\n",
              " 'e9ef6c9f1a1ad34c42b6595c18f164e2',\n",
              " 'e9f806911b69ca8fe705006ab7b49bdf',\n",
              " 'f16cb4716034cecf3edd7260109fdf17',\n",
              " 'f23ba5e0983e9cf2725c3fee84414fbd',\n",
              " 'ecc4566304626790004cd2c3626218b6',\n",
              " 'e93e61b16ed9e22d35046ae7900b0647',\n",
              " 'f28b4d5899f9db2a2caa7a3361c847f1',\n",
              " 'e97b5b2fd6542fa588cd4a5da2b6e052',\n",
              " 'ed280557d6013c45e5bf89492fe44c1a',\n",
              " 'f062edd0025c4ecad1a34125ee6a761a',\n",
              " 'eb93d2e66035f0e6d51cca097c4a770e',\n",
              " 'e8763575a23f1e1a86788b82bd105f07',\n",
              " 'f080ee2429dccf56d2693fb8d3235010',\n",
              " 'f50cf15ef4c06e63d9483b48d7bead6b',\n",
              " 'eee7c863af47e22f285f8aeb80adb4b9',\n",
              " 'f1b634511c0ca2fcdf53c9c30f3358c9',\n",
              " 'ed3f78bd3eb6751819212fa111857e51',\n",
              " 'ebe58f64e95c071d30eaceb907b7375c',\n",
              " 'f58a21665136bb6aa4aa90c485be4315',\n",
              " 'f195789502ac83352770c6718ba9eaa2',\n",
              " 'f054f5578e5c9d3f6759b357df3c5f16',\n",
              " 'eec95c3af45f0072116b7b310fd53699',\n",
              " 'f446eac396b0e74af84fab5069d28c68',\n",
              " 'e8232c9a79f0e77e9b4c5fca60682d41',\n",
              " 'ed61910363f37890c8cc47b25836f82e',\n",
              " 'ecb31808b1717c297072d6f5b8760c2f',\n",
              " 'ef3c75900183816388295cd9cb3a1a31',\n",
              " 'ed3c3d91c25ad370e44704caa4bc1c63',\n",
              " 'f1478f740513a7406d715c9d7ead6053',\n",
              " 'ec5329231ea816ef212b367bdd17d06c',\n",
              " 'f377a8251538b962741e18c944875038',\n",
              " 'f00272c001d09c7c306bb224da47f17a',\n",
              " 'f14ba73b3323b3c7cfc3ba359a6c4313',\n",
              " 'ed6d16749ad7dbed282857c6c0cb0b64',\n",
              " 'f0933ef7831649c79490ebb34de07a01',\n",
              " 'f10241d199251db359961e814733efc5',\n",
              " 'eca94e609a77c2ed87b79c3c08a11a62',\n",
              " 'ed0ec7befaa38726a118ab7e4d53b332',\n",
              " 'ec0efefd564e6632ca11b424b6dcd2d4',\n",
              " 'efcb9740d2350a5aba4344ae5994eb37',\n",
              " 'f282ea683674bf3bde3715cb018b1c26',\n",
              " 'f191370aae3cc8e282cfd72ecdcc2226',\n",
              " 'e91b757847fad1809a9ffa8c15f5504f',\n",
              " 'e90bd6aa38e304f67db74f757df9a834',\n",
              " 'ea23e5341ec5fc3f798ae527a4659d81',\n",
              " 'e904aa7e76ba608b3f658aa3817e12b9',\n",
              " 'edbff7f90e9b8f5dd4cf25ce67fa2efa',\n",
              " 'e8e68264f76c3398ecb6c67b9bb52833',\n",
              " 'eb2f2ad0f785a7c85f8c62969be71e2a',\n",
              " 'ec59bee2b29342acd414a5a1e72b38e0',\n",
              " 'ed3b2e79859710376b7a91379234b1ec',\n",
              " 'ead86e148dabfcc4ef7f4dcdce9fcf57',\n",
              " 'ef119ef06b97f22d32dbd5cfc08bf60c',\n",
              " 'ec25ce11616bda2e8b7669c415128768',\n",
              " 'f1e0d9aa421de4c518baddf3d7bea598',\n",
              " 'f21691cb46f6d593ec77a7a0000c4454',\n",
              " 'efac70ee513c40265966b89d715f183e',\n",
              " 'f18975efa3a5f8f75f46dd0b5485cbee',\n",
              " 'e9fe358382731f9288768526be01c950',\n",
              " 'ec81d166f296c1809d8be99cdabb5904',\n",
              " 'f4db24d71e6f3100614eb4543f98394f',\n",
              " 'eaa28b3163bb05afd07117ec4c6bb059',\n",
              " 'eadffa2af96b121d7e61dcd91ab11a39',\n",
              " 'e9999f6b9a052810df4a5a762cb4cd1e',\n",
              " 'f3535f627d9d45218bd401ec24e250ac',\n",
              " 'f13508048aa548af116601fa59bd4c62',\n",
              " 'f49dbff2463687f867bfe1bc88f0a7c3',\n",
              " 'ed3d8126013933f566dc4113efe7c0bc',\n",
              " 'edd7c1e04601546fc101901d764dc4b4',\n",
              " 'efd7f925e6ce41da800844e6aae03226',\n",
              " 'ef395765458ead37cdb9513cf76b9baa',\n",
              " 'ea5a2c10729ab1ffec74c0aabce02b52',\n",
              " 'e96fd30110107e506de94d81af346238',\n",
              " 'f0ba9c34158585ceb08138011d40e29a',\n",
              " 'e9bdf2bcc823964c7375397a7c06242e',\n",
              " 'eceb457b878bc73e565b0efa002d5563',\n",
              " 'f2e0d5786be8d06a284ffd09c056f637',\n",
              " 'e9fda9f4a21d4249b9d4a77d06ad751a',\n",
              " 'ea3dd88512f22e94969a517e8e8ea10e',\n",
              " 'f11b9fe2304f6cba807ccd0bb1562377',\n",
              " 'f14547a7bed40d4170bc70eafd1eb5e7',\n",
              " 'f266f217791f0ec584047370775bf0ea',\n",
              " 'ed1d8dfbebbb70b252cd71e165ea3d76',\n",
              " 'ed675fae47e3a3698277131065548e2f',\n",
              " 'f361999cc41b3d83214d8104c91c672d',\n",
              " 'ecba66c5313a2a5fd4017a039a9501b6',\n",
              " 'ed9bab128c26470e18631cb6f3454c99',\n",
              " 'f20017c781603ca2d286361592b12dc4',\n",
              " 'ef154d61fb8fd0852877c86dbfc5afc6',\n",
              " 'f2f0b43407b4ce09084eb3013ac28ba8',\n",
              " 'ead8c0e74fb7ddcf05a6395ee06fa9aa',\n",
              " 'f02b0bb575f8dd86c63ab38df20483ba',\n",
              " 'ee7bdce4ac4008b3551ca66f82712e31',\n",
              " 'f14672c3ea8086560de6b7e79f9b90d1',\n",
              " 'e8914f74848c23b70b520887b3ff2e8a',\n",
              " 'e89317cab9060dcaa19f1b669d363223',\n",
              " 'f1705303b30da3a48db2a5f34376b947',\n",
              " 'f11d26a12282ee91bfe37f22d7acd483',\n",
              " 'ee76bbe553722f075e334dc29f3173a9',\n",
              " 'f532b476d5d46f4ba89b22449e3c147d',\n",
              " 'ee588777db43361c045c5dd7a779ed0f',\n",
              " 'eefac34d2a315aba5b14665c9b498b1d',\n",
              " 'f10c58048410333d9c4156046b0ea54f',\n",
              " 'e8f51d54d179b05ea4cc9c726cae9229',\n",
              " 'f01832dc0e1d00e4e5a9286bd88dede2',\n",
              " 'f53c0a1ab2af3549a2ef5825d023b160',\n",
              " 'ec390da7ac7297a2477e3b838e7c502d',\n",
              " 'f4eb6450497df847ef1012d61d869007',\n",
              " 'e995cac3e30ce4e55d0f203c20cd0986',\n",
              " 'e9c961dc49fdf960fc46c8b54ae1996d',\n",
              " 'f58b1ce36c59e42dd22be92949fc38a7',\n",
              " 'ed9a58ccecb053df2a38486a51501248',\n",
              " 'f0138bdbeba02c23bef5eebd81fcf3ec',\n",
              " 'eb0376e08d0575939eb1018313fab05b',\n",
              " 'f4270652c14534bd1916311b24261b83',\n",
              " 'ea369808f5d3c8fef21c674b80564e35',\n",
              " 'e87771bc542cc6112c922962d8fda92b',\n",
              " 'e959f03017afd7952e7635131387dd87',\n",
              " 'f0154b8ea1efd5dfb70e43fada42e56d',\n",
              " 'f35539d88ab6f98c2e4d8891e1de687c',\n",
              " 'eeb73a13b70170c416aab67eac15fdfb',\n",
              " 'ea5ae600ca3996528b6548eceac767cf',\n",
              " 'edcd762a5eec11ae0a1e471d576e8be5',\n",
              " 'f0341ba6b21465ece32d7df0ebff3048',\n",
              " 'ef7462aaef0907fbe406e23a4462f086',\n",
              " 'ea6d2d4271393459e70d77e1026737b5',\n",
              " 'e8899ab63ea8630d50f0b321cb4bf811',\n",
              " 'f44005bd8019c5b9fb3ba2216e5d2af8',\n",
              " 'ed9e75a553dbb4712addc1638693dc03',\n",
              " 'e90b4707267cec5bcd2dbe4cbb68a070',\n",
              " 'eb7a787cace9fda676485652daaaf43e',\n",
              " 'f11d3e75389720c45f2c0001c131ba21',\n",
              " 'f409b8113b2c2ab861131c4bd1c0b029',\n",
              " 'ef1710d5cb79a5e0b46f7b9a101a25b4',\n",
              " 'e967dd3dc67352cc2525c8283bf2751d',\n",
              " 'e85b19a69be67eaef9fe58b7e689ee81',\n",
              " 'ed48b89faa9069c700db2448696a97af',\n",
              " 'f3094b103a8d45b2c1026f2d5bb4c687',\n",
              " 'f390bb3bac972e70bc612dcf64651eb5',\n",
              " 'eaf1a540a86c69877695a63ff9421be5',\n",
              " 'e917abf625ad6ba5b8a0e59bd23e8818',\n",
              " 'e9727fde8aa044a5a2c18b84170f5619',\n",
              " 'e89d149b27db1f144ca122bb29b8ab9f',\n",
              " 'e9d1478e035f22b0cf94be580d620f80',\n",
              " 'eb641b6721c3d967b8e92313c943eba9',\n",
              " 'f0b2e9d1bf7deeb89dd199177f2fda90',\n",
              " 'eddf1be0c12c7f3a5029a7787e89476f',\n",
              " 'e9a092de78948af4ab9ec3f8027a5d54',\n",
              " 'e9f25d81c8fa96020a77a1f3148d0d3c',\n",
              " 'e982fc6397c1f837100f28a8ed26d86e',\n",
              " 'eb7d51eeeab24f94b54a4f8b19f6cdc5',\n",
              " 'f58ce44146db339a0bba50bcecb02730',\n",
              " 'f57f8ce3fe1d928828e37a9bd78574d9',\n",
              " 'ea0a254533e645588e739dbdd0e3d3fa',\n",
              " 'e8319b1410a984291d71a3e60c84d86c',\n",
              " 'e90c218d4efd434f20a7e73c81058a7c',\n",
              " 'ef69016a79094a8bd47f42ccc14ba63a',\n",
              " 'f2996e2ca11b93049069a4a7cafa0ce5',\n",
              " 'f33e9ed93787d73091d1c6f4dabc4c46',\n",
              " 'eb9f2db3d5204c85c26daeb7669b20a3',\n",
              " 'f575720280425098d6faca42cff69a36',\n",
              " 'ef8f1d898040c1fe2972ebe945184056',\n",
              " 'ec907a287a8aff0cc9d2eab8045d75aa',\n",
              " 'ec363521d5ebd5260944823f86dc5a8c',\n",
              " 'ecab3cabdfabe8663ab388e891afdbed',\n",
              " 'ecca3983aa3cf5699ce3aa29c7899df8',\n",
              " 'ec5dffe4232cc203b4332d18952d415d',\n",
              " 'f5787e3574a4af6a19ff825cf0c32366',\n",
              " 'f09826fc9cb9aa425caae5f8aaaa8bef',\n",
              " 'f596d629c90c70820c38a094f03be387',\n",
              " 'f5a6e430c2c363335d22ae0593d7533a',\n",
              " 'e995cbf5f2c4da27a1e56966c70de380',\n",
              " 'e8d27c76d6921b27aea1e2da6920396f',\n",
              " 'eb9aebedf9ed7d768a5afb36cd0e2436',\n",
              " 'f30a644551716969a8a4dd6bdbcac8d5',\n",
              " 'f4a2ee1dd5542da8b0150fe8f7a2b7c3',\n",
              " 'e96f1f52395b7e742fb5d83e1ac023b7',\n",
              " 'f4af276965865188983afcbb5fca9cc2',\n",
              " 'ec8bf9fd1bae9c6cc54b996425538a5c',\n",
              " 'f07d1123c4259713a46991de0b02ffd0',\n",
              " 'f24c3d9735880ef6ea736dc549419771',\n",
              " 'e97a63b529b7b274eeb605391366b576',\n",
              " 'ee45e29f0dfdc67fdb2939df8bf10b76',\n",
              " 'ec2a07ae6eaa64dac4154584ef229937',\n",
              " 'e91094730afaa4ade3d3041d96d57f3a',\n",
              " 'f477da1f84ba93e037a7786c0f2a91f4',\n",
              " 'f09c01de47c096fe62cd1398798c1369',\n",
              " 'f3482b871bff6a7d6907f10eeac75aea',\n",
              " 'e8e42d4a1a18d4168bac9a69922df22f',\n",
              " 'f1dcabbeb1dbebb326a4b029b6f8b188',\n",
              " 'f45014f665123584d3588802ee020bce',\n",
              " 'e91c648dc54d6f418636ec7bc1566912',\n",
              " 'f18141846c17b423f3f1df37ef294138',\n",
              " 'f4b31ede23331910d4f15664be4db5d3',\n",
              " 'f0b37b4b6d1452125b4cb91f08008298',\n",
              " 'f402e15e75051b9491283307b947680e',\n",
              " 'ed58df400a22e4a4857fb00802d4b8c9',\n",
              " 'ece4530999e8c3ec85d2a86d33f07e37',\n",
              " 'f285b753c96949769c745ec0f90b2253',\n",
              " 'f050fe5feb0a81de5da10a5e806e739a',\n",
              " 'e8e6e731b4afb84faf9c022a67935867',\n",
              " 'e9d0bcd1ca3f651f6693de92d63bce5c',\n",
              " 'e9b105a5b7873f33477f777d5a9447f8',\n",
              " 'ec28370f936f20133526ee5bdb894c9c',\n",
              " 'f592d6ca12a9d99c18f26260c3eb148a',\n",
              " 'f31dabe4e60722a1f2eb3352fd9d0525',\n",
              " 'f28e776762aba6a080ab11ffb40e8d04',\n",
              " 'f169ebcd375a7b6ecd252f27e3dba0a2',\n",
              " 'eb9d126d7a3adc19f25e4c9ba79aa6ce',\n",
              " 'e83fec66a32873298df9fa5fdac113aa',\n",
              " 'ec24efc47314fd121b67155b56eabccf',\n",
              " 'f599f4d08388e69960e17234ebd0beba',\n",
              " 'edb8b962718cd953921e6449788c6939',\n",
              " 'f3d4b8b4cd50260c89a6d5b29a7e9243',\n",
              " 'e9d585ce5dc29b4e9aa6a7332ddfa983',\n",
              " 'ec6b4aee97cf7eeb6cb26540af933db2',\n",
              " 'ed77c2de9938730ef8e9d11c718dda38',\n",
              " 'ea5a0fb0d92c07b2e14da4dcd0d48c45',\n",
              " 'f0fc06a2b2123325e34a2450d3202853',\n",
              " 'eb278b7573e08beb43823a006a7ba690',\n",
              " 'f540547111a9b6bda288b694a5536702',\n",
              " 'ed2a749830d4ed6544ec3bc2efb9a58a',\n",
              " 'ed63374c99282b3081705ed84a2b93bc',\n",
              " 'ef510b25dc13743d566b719b41b35e92',\n",
              " 'f3a0451f0d3e3507ce3e59c1f55f23ca',\n",
              " 'f2b7d11ea6ccf65f214cac2abee8d1a1',\n",
              " 'edd5c8d96746d4af7eed0550eafd4b90',\n",
              " 'e8c778896a73d0f6b4f88c564690c9db',\n",
              " 'e9dd82ed2a7066d81d32a182ee18916c',\n",
              " 'e95640aaa10c9ad1c6e27a175c04511b',\n",
              " 'ef4501591ee2433e06ff5312df879593',\n",
              " 'f232ed4d2958c9b13ec8922933a852e4',\n",
              " 'ea8fab5f4003724ac49ea787216998b1',\n",
              " 'f1c1f35ca91cd9d007f957da29aa087e',\n",
              " 'f0ceb5eb780eba366f9a077486fe003d',\n",
              " 'ee878152e29a6b6ce288b44b358f9d05',\n",
              " 'f46c9b6ddea9aa7ff685604eec44f67a',\n",
              " 'f4e1d93f8d4f389547d69a5cd468e49d',\n",
              " 'f15527e7a063275291e469b4e5db751c',\n",
              " 'eaacea894e9bdda125ae215081a0d9fc',\n",
              " 'efc4b489fc15ff97a50536c71029a8b1',\n",
              " 'f16eed64196d24c423f0a68d7ebf287d',\n",
              " 'e9c38696d381e66971cc328e767fad27',\n",
              " 'f1167eabf53759dad015f0abb813a451',\n",
              " 'f50e3cf5abd93afce432348daa6c4789',\n",
              " 'eaba5de4287936fcab47f236d58d3f14',\n",
              " 'f14fea2fe647a06dce75eb19dbf1273f',\n",
              " 'e9615e7f30ffcf6d705ce9cbcb6d688c',\n",
              " 'ede76874678b483c87bfe1db25f78f9b',\n",
              " 'ec429df7ceab9763e4e790b569997346',\n",
              " 'f1be08dee473f19c7e665b2eef018ff5',\n",
              " 'f21a70f111a4a05ac167c1707651293a',\n",
              " 'ecd186a42dd0ec3f78aa3d4fa56b8ea0',\n",
              " 'edf164f8974510c5936ee7224f3d7d56',\n",
              " 'ea1993074afd8a51c571bb0f733a754d',\n",
              " 'f2c4131850c17dee485d48c2bb8a358e',\n",
              " 'f3a99ce58c3efc75fe2377be02c545f9',\n",
              " 'eea702cbf858b2444129d0ba9eebd6ef',\n",
              " 'ed71e43cf7e5e8449879b5f0d38f3bd0',\n",
              " 'e8e5d64a1789dd86009b07003bed090b',\n",
              " 'f4560b7a3045615d9fcc915b5b08de1b',\n",
              " 'f01df7641b237cd177d71fdb8db9bd58',\n",
              " 'ed3ff512284e226da7ce2853a0faeed7',\n",
              " 'ebaafedb1a8a61e8d3f9eaa271b27629',\n",
              " 'f05275e168cf813f7dadd9d1dddfab8a',\n",
              " 'f398e8ff747bfbb95f4aa7660608fc4f',\n",
              " 'ed306448d7f19d3e5cfd7b446898cd44',\n",
              " 'f05795a39e9c06d0aa6ad345302a393d',\n",
              " 'e9d385cf5f217ce1378bee8c0a89db62',\n",
              " 'f0ee3d22666302ec27338aa29f34c72f',\n",
              " 'ee0bd39d8d6a0f57d626dbe1e4c52ebb',\n",
              " 'f2fb1e6cb9501847d0ab84f1edc36b78',\n",
              " 'efb73fb00c85027773f3bef3dfc6c06b',\n",
              " 'ef3cceaaed2906916a76290fe0bd2b32',\n",
              " 'f27521a58ff23d0bb6390bd802b368c4',\n",
              " 'eb0f81618a71ccf82982d70879464d89',\n",
              " 'ec63d4730c5cf4b75227e103fea054c3',\n",
              " 'f04afba75c6b505c74c9958aa8aabffa',\n",
              " 'ed0c3f827519441d3d542944978aedad',\n",
              " 'f37106dba00385993428e7c557b15805',\n",
              " 'ec9a95ba1bab38eeff6b6aa40d5f4edf',\n",
              " 'e806fbb5ca4dd3a094f7819bd810cc65',\n",
              " 'eda1edd004eb4311a73cf7cd0bfa31dc',\n",
              " 'f3cbc8bcd54963296f75377d6fe931d3',\n",
              " 'e93dde9e36ff6a41cd0e72fb01703be6',\n",
              " 'eac53a0ba2df1689f98f8e7f8ebb90c2',\n",
              " 'f15aa6a53c9de861f8de243d6b437b90',\n",
              " 'f237c237633a38bd52c2b1de238e945e',\n",
              " 'f2dd8cf1ced495252a890e6633b65018',\n",
              " 'f39a1f1692b67eb9c92a29f14a07d568',\n",
              " 'f202ad1aaf619f90386d96f5b874eeef',\n",
              " 'eb44625ed1113825fe1f23e50222cca1',\n",
              " 'ed4535d3e501ff280dfefb927b0e093a',\n",
              " 'f33c435b1e92d5a639e6fc9463821595',\n",
              " 'ebf3e1d5583ceff0a51a8c6a750b367b',\n",
              " 'ecb6362d105c0cb84d8e69cfd9b8d0b5',\n",
              " 'e83d7fa8fdfba0ec577f9c8df811d439',\n",
              " 'e8f100fcc80e9c987999a1ace2d18bc3',\n",
              " 'e92455b9e6291d0f192f23ccd4e0be3a',\n",
              " 'ef8604e60473eb234c5725219f338df8',\n",
              " 'ec0a814cc971dbe6e618a9a37ba355f8',\n",
              " 'f082ee9b91ad597fdf11cc08771bbb50',\n",
              " 'f51f6aeea8a23b6bd62728fde8f04ad8',\n",
              " 'eb8d19898e69b355679f98fe068cb06a',\n",
              " 'f3d5aa14bae0561b6b9146d7e7fa0917',\n",
              " 'f0eb0e073867e9a31cc5222c225ad142',\n",
              " 'f1c41fe76fb9962343d34c58efb384cd',\n",
              " 'f3e62da9f6f0aec7359dc70c139d7266',\n",
              " 'ef9432cc6dc7ab7ba38d18abffe6d1a0',\n",
              " 'ef5c93599bcc330fd9642266d9650309',\n",
              " 'ef627a04965eda29fc3761b1f663aef1',\n",
              " 'f13011a399f175d88c17d2bd1785625e',\n",
              " 'effcbcfa58ba87eac8439b7106d8623c',\n",
              " 'f31ed6141b0976f85aaef9b69509c939',\n",
              " 'ec6734fb75cab5100481b7b6e711d936',\n",
              " 'e924a899e6de9df57c3a95873640f2bd',\n",
              " 'f4eb5c8121abd476cfc36684e74e83a5',\n",
              " 'f12b509213db8bb0a721fcd228b31f0e',\n",
              " 'ebf7096a543da53b1e4759753aedad26',\n",
              " 'ee0f518cd7eb01b2b774f3d2329e58f9',\n",
              " 'f3aac2f76dfbfa4df96d63227c2c9390',\n",
              " 'f14c06e952a3d1d4e6a5b1c9e1384926',\n",
              " 'f0d2e080797f5e1f54bfa26bda41887b',\n",
              " 'ebe4a8b8507fa28905cb7e70b90b9170',\n",
              " 'f219fa279b770442dedbbe61ff5bcfd8',\n",
              " 'ee3b0ea1f7649dbc3a5724ebccdff863',\n",
              " 'ea02c2e76cd1c51e5a07280ca363dbc5',\n",
              " 'f53aa47b4676b1f135ac2eeeee01db9b',\n",
              " 'ea111bb38037c9922185a0e9513391d7',\n",
              " 'f497ac35b94726e58d6298902794596f',\n",
              " 'eb407d16321c8cb62abd16c70756a28a',\n",
              " 'f5941a13b02860ade9b93987a18a8636',\n",
              " 'eaa65260eb9a2f7d3b5484ac97962788',\n",
              " 'eef97d020c12ab1f73a2927b8271bb41',\n",
              " 'f1ba2c4a69ed34fea976f8fc6b77f45b',\n",
              " 'f4a3d9cf1909fb5d894ff5d5121af9b0',\n",
              " 'e91ffd67dd303f59029d041ff4fb65b8',\n",
              " 'f00b35c8f1a052d4989f17134532efb4',\n",
              " 'f49b264ba04d042811304a9f994d8415',\n",
              " 'e816f0027a2c6348dbf12b79c70541bc',\n",
              " 'f56b3708592637432ac53d7f0684dfa8',\n",
              " 'f2e4e4f1ab9d156443682dc4653f23e5',\n",
              " 'ea54171754dc00a910fd4ed0cb41e765',\n",
              " 'e8505566fd9116b812e306ca196b62da',\n",
              " 'f32a1d40e437167f5f753faac1e6b786',\n",
              " 'f5319adc463ccf7e82f10a34ce39c190',\n",
              " 'ee4c8303084840f4fa8ef6cc434dca91',\n",
              " 'efd7266343c00fd2cb3cf5aec4aa0b42',\n",
              " 'f538a1d1a9e50417ea346429ea3e940c',\n",
              " 'eee6679003d570e8370d1fcca75984c9',\n",
              " 'e8db9ef8056880a187f3768565f215d9',\n",
              " 'f3ad6585619f3489fe3c01b4e305f70b',\n",
              " 'ecf3d6520cec171b81830fb38fce1570',\n",
              " 'f1eadf24d904d3c1e26d8081555901be',\n",
              " 'f35c272e3ece87df743552aa517488b0',\n",
              " 'f3135e277d13e886038661fd42fef154',\n",
              " 'f0311d1414f9ce10cffda4c207c108dc',\n",
              " 'f155d5fe889d139892c1d7d46804f419',\n",
              " 'f3df185234b2be78825de1ba63d6c554',\n",
              " 'eedc3590c9569109aeb179ae3dc90300',\n",
              " 'e85291fc6ba44e39defc7769fa020646',\n",
              " 'f367afa19bb30234fafa16c64b3730f0',\n",
              " 'f0f205d037fe626670165aca00fc8b81',\n",
              " 'e94e14137d29b0db653e5903acac5fef',\n",
              " 'efdf443fb4a6ad5964c18d6676f36652',\n",
              " 'e826c0ae5dd27876781c10e1be444fd5',\n",
              " 'ede0dddd46a46f8f6467b7fbd1b4958a',\n",
              " 'ef58b740df67a98d390f5bf8513bcea5',\n",
              " 'ec89476b99aab390011acee436f9642a',\n",
              " 'f56080803871563e96541a57ad1a08c4',\n",
              " 'eeb2c4ba7170968ce151916667c450a3',\n",
              " 'e90d5b1d2617510402f3620721f7c526',\n",
              " 'f59518330db44c70a9bad7e8a4314f3b',\n",
              " 'ea5bd02a78f243c609cd227c4a09c6c4',\n",
              " 'e8889cf9d7b2701a85be1c97661b9b26',\n",
              " 'efdd2006f173de50417a1a9ee170194b',\n",
              " 'ea1e945b924638c2059d7718b522d48f',\n",
              " 'ed0b66d283d948128c45ce57478ba048',\n",
              " 'e8fcfd7898f198f6efe756a6f93bc0fc',\n",
              " 'f4dd86f78fa8b90ed885ec34af6eb1a8',\n",
              " 'f41a03e617bde76fef19ec1cf1355d59',\n",
              " 'e86bb44f11c953a6d69c548e756f5a3b',\n",
              " 'ea6005562757cf5a7a37d70134d28870',\n",
              " 'ec036cf752a803815c0e8ecc6601b0e3',\n",
              " 'f56185baca63dfc073ca82bee5bf24e4',\n",
              " 'ebbbbe14c3e968a8f73490d024472768',\n",
              " 'eeb72cc64e4b26bf721196dfcb324e82',\n",
              " 'eab6e34cbefdae434e1b436a318460d1',\n",
              " 'ef9de7d5f286c09daf1807e2ae67c98d',\n",
              " 'ed8e5c431d6539db02614ddc1f35ce10',\n",
              " 'eb2e408930e0873deb85484ef46f07fd',\n",
              " 'ea6acca2c050c1f782cf020bb6aba4aa',\n",
              " 'f11821f2a5777c36a4081588fb96798f',\n",
              " 'ecab96d4268569065f73b4bb5ddffa59',\n",
              " 'f569c5b12fae4ca37d376d21bc05f2b3',\n",
              " 'edcbb82f5b90a8010fed3fa25b632fc3',\n",
              " 'eef2fd5db98424ae214e176a910e9e3b',\n",
              " 'f4ec1eb228bb0a7084de552fa4333b43',\n",
              " 'eab189c5274b79b36dd566fea4e9847e',\n",
              " 'f2bc2e10c40f94618b6d48bca353199a',\n",
              " 'f3d2b254424ab99c267abc3ab22ba627',\n",
              " 'ee59d7c0fdd2344e9d6d815f1099ffb1',\n",
              " 'efaa7438a6c3bdf92f90539a1fff55fe',\n",
              " 'eb06356375888d41903fff14ef7c4104',\n",
              " 'ed1f9841f56f9e0122782f734919f521',\n",
              " 'ec0ed65df0e457182b62ee172783c574',\n",
              " 'ea3e496d0dd2b7c24ae8c9a0fea57060',\n",
              " 'f3228d0cf1dd0163bb365717eb0254f0',\n",
              " 'f32ce9df6028804688984658e2b5164c',\n",
              " 'efe3a7327992dafcaf30dc3bfae29473',\n",
              " 'f3ea1d71874433a4fe775deb9e95923a',\n",
              " 'ea8669c09612478bfa202ae2fa101b13',\n",
              " 'e807c4b5025b0aa4dcbd5df2765aa8e4',\n",
              " 'e83f4c0ff6dec86d89d0f8b70ecd3cea',\n",
              " 'eda4465ceee576ac15e9bba9566c9121',\n",
              " 'f3ef677ea2641c7ef7ece6ce1ba11b2f',\n",
              " 'ea0a6a12e3f6f65e4f742b258a0ffe30',\n",
              " 'f1fdf296d0252b3dfb46f1bfc37bcb63',\n",
              " 'ede33cc93aa6dd4f7bc7fb2436026d08',\n",
              " 'f56b4140707da82fe91cb9e5df4ce68c',\n",
              " 'eb8e9637c329ca7ad7937be0ec94e80d',\n",
              " 'eebf49093e7b0c603ee4c8d67d061352',\n",
              " 'ef0209bcfab48f72f71c9d1b8648aa45',\n",
              " 'e8d5c81029e17c81b06af60ec4113b30',\n",
              " 'f53ae57b0cae92b14f87716a815d66e9',\n",
              " 'f1040b51b35ad34a0d35068af4e9cc2f',\n",
              " 'eb48e06416db42a71d5c232191fec3a0',\n",
              " 'f4f77d0d3e23e06fe2c1941edf919eb3',\n",
              " 'f4bfd6652f7cb8d9e99c7771ba29ab8a',\n",
              " 'f0e6e1a934316bb94a6a1eeba894e32e',\n",
              " 'e9b16b4bdf5b0561fc7c69b2f36e1a7e',\n",
              " 'f27e014627c0495cd7a9ef27235bc7a6',\n",
              " 'ea1f200df74cd6c6a458436eedabbc8d',\n",
              " 'ee6dad89684bbbab844ecedf70f4be2d',\n",
              " 'f2081ded3fa95eb118ff88b7eaad992e',\n",
              " 'eabbab9c853d5b0893e45ec8fd3f97d0',\n",
              " 'ed7c3126f50898ce02c08a380c1d0bbc',\n",
              " 'f2d8c849a9ec1a3217e53ebbb7d50e3e',\n",
              " 'f157fa27083c96da528c2b3c224f83b9',\n",
              " 'e9574ebd4785c1e1a1470dfc93f9271e',\n",
              " 'ea280d6cb873df2eb683f0a5f13e3dce',\n",
              " 'f33e07d0a4dac780e19f00818752db55',\n",
              " 'f3094e7b2a65b2fa50e0f4ac2e3021b4',\n",
              " 'f1f339f43e83cfb8e4bf76ff5671489c',\n",
              " 'f4fa65b062607d69c98f16cb625d5915',\n",
              " 'f16f47570b2ef2c21c54eb1478518e8f',\n",
              " 'ebd77a2851ff497cbabda3639a82857c',\n",
              " 'eb9e89f5c0f1717f290360fec6f2a160',\n",
              " 'f31ffe7d14c530955f2d4c78b93f80eb',\n",
              " 'e8eca3dc497d4bb15b0254bc9f56cdd7',\n",
              " 'f414cc74bc9df7c993ca72c5ac986846',\n",
              " 'f586cdd98e69c6909b8048d728937ab9',\n",
              " 'f3af952eeaf093f28b5ac545573324c1',\n",
              " 'eb61a828e939eb633c1811f283d15647',\n",
              " 'f30e9a91acfb7e0fd1a3f9b91ca36914',\n",
              " 'ef4c9b0875ec51068b2720a01fa36b65',\n",
              " 'ed67035dba2de274aa95556038113c40',\n",
              " 'f30f7155fd94e7f0d3621d9cc9031e93',\n",
              " 'eb3849def6fa245bcaae9ab9c64f024f',\n",
              " 'ee18a2bf52ba6ae53327c951c94d598e',\n",
              " 'ed4c608e160f24d9cca8f560b046daa2',\n",
              " 'f1230a99088c9bc88bc2989affee43d2',\n",
              " 'e85d4e2707683df0e6387e19b67b873d',\n",
              " 'ee5345121b497708b4f9510fec148f65',\n",
              " 'eb8473f9fc102c45e0c0abd07de20a2a',\n",
              " 'ef0ec3c95160918de7bd290897ea9f65',\n",
              " 'e974e77b0f9076d31a225812064b4ac9',\n",
              " 'f328ba9a36da80caceea391ed1a87164',\n",
              " 'f47cd43251c741ee459c688955c41f29',\n",
              " 'ee345e7f5ac2d3cf979a17183437faa7',\n",
              " 'ee457ce7dc7f426aa7704b9864960528',\n",
              " 'edd77b60eb22df1021e726b87c270064',\n",
              " 'f00d734eff06f3a77fcc629402a95597',\n",
              " 'eac3503b463e275d9f3053b8fcd5a58a',\n",
              " 'ea5977763e3e8b39f8ea8c28565d32e3',\n",
              " 'f42473f75caedac6010537ddd05b1a86',\n",
              " 'edca6e9a7f6f35f9b0313d8aaaf844be',\n",
              " 'f160bdea1b59883658f94eb8a70ac406',\n",
              " 'e864985e40823a56d3ad8594066d0641',\n",
              " 'e92e6f99e804a6696cf0db266bbd7744',\n",
              " 'e9cee3bd9000422ec5e391c932da60f8',\n",
              " 'f0ee665e8ec8ee4b7b26984bebfdf356',\n",
              " 'f4496b7d4565b8bdebe844229a339796',\n",
              " 'ed67681e7935d75f9ce011dbf8474fe4',\n",
              " 'eec15026b5af233fa79dfb6081e1f339',\n",
              " 'e8b49a4b2c22d3c5cb3c88c61654e991',\n",
              " 'ec7eab1c7a2275c89f2d3eca6e4afea2',\n",
              " 'ea4a775ecbf81b2cd2967cc34ce4e52b',\n",
              " 'e9bcd763afd5e192fc047267c0b3cacd',\n",
              " 'ec43ece68ea32270d307242d220bea17',\n",
              " 'ea057ca7f831d161d456091bf293e4b1',\n",
              " 'ef413ae9b0de80605bc95de2d12a4082',\n",
              " 'f574f558d78db4e616e91f5dd5347409',\n",
              " 'ea1039f3869357b53abf4ace351218a6',\n",
              " 'f43a0698255ee6f04ad91702a4376b6c',\n",
              " 'e823ee1ca007c88600806925a6f2bce1',\n",
              " 'f18e43d6627bf395c2e3aae518067004',\n",
              " 'eeffe08e577ad8dda81bbfe12bf8faea',\n",
              " 'eda4e3377eb5ad8a73026c08c76a613d',\n",
              " 'ea098e306986e45eb04ca43b3c7e1916',\n",
              " 'f367d08148f74a726ce8f1a2c4c38e81',\n",
              " 'f3e898913d681b7d938a298f9e068254',\n",
              " 'ed0690862339bb098b08da7ed8b4eac2',\n",
              " 'f3925f914650b1edf59ce7da36abda31',\n",
              " 'f453249b8fff37e92e02fce0d662ffa0',\n",
              " 'f310b89d1a4706733a71054a26e7fb06',\n",
              " 'f130fade46d3423c601a7b9a16a0333c',\n",
              " 'f31bfb17e3d1800493376fffd77fed72',\n",
              " 'efa05bbbd2e169dc723df1a43ff0e1bb',\n",
              " 'f300694670b4219cf9e8f23306ae3407',\n",
              " 'f5174e3ab52edb2e414e135259047c48',\n",
              " 'f3b603f10d6a344f0395fb46b242ff8e',\n",
              " 'f00367f07cfcbb8152c9ed908d7c273f',\n",
              " 'f16ce30657f7dec9cf08597bbce2ffdb',\n",
              " 'edf9eccee2542eb4fdc5757da38f0b46',\n",
              " 'ee0582b96b135f5e036e011d53baa087',\n",
              " 'e850770a6575a34b1c7ad4b401692553',\n",
              " 'f47e4614a5d7d190cf95b4b9c1e78576',\n",
              " 'f1f42942df460f38181e12ebce695b5e',\n",
              " 'eb448b29df9391fb8b84c88c3a3313e6',\n",
              " 'ee83a788c6e24159a62e756a34dd4045',\n",
              " 'f3d0cbdba1dab4f22ab5510723dd969a',\n",
              " 'f9c6eaf6f490f30fdecd76831805d0f7',\n",
              " 'fafa2bd7f97f3950a2c4211a4ab8f896',\n",
              " 'ffd87c3e44faa0e3ee5fbbdc4c63b59b',\n",
              " 'f6dccdcd73969a1a28738076a990190d',\n",
              " 'f66ba12155a4e501e7559e1f294af553',\n",
              " 'ff9b317696e29ca8cd27da30a896edcd',\n",
              " 'f8cf40ee281034358b8cd947a5e182c0',\n",
              " 'f63632142392cb2f86a39d03a937088e',\n",
              " 'ff194ab5709702a2eafb5e9063348776',\n",
              " 'f8c2b412dd7b37e28234314f6396aaed',\n",
              " 'fec24843dec09a1eb5ae4689d748f470',\n",
              " 'f6b77d1145a49327e0f1e92cd21bc704',\n",
              " 'ff457fb6285b47fc933d0bcf58f87927',\n",
              " 'fb599fc7e59d082f35f3462310f16a12',\n",
              " 'f7344ee72050c512b7e4b859f4a7836d',\n",
              " 'fd03ba6f6aa36cc4232e56120101fb8f',\n",
              " 'fdb809a503be4e22b5548405f8b6c171',\n",
              " 'fa9759d78e2c43eed645aefa3c7dcc83',\n",
              " 'f6aa8cb9239c3b17af100952d7301d58',\n",
              " 'fc9f8662172cd0fd27a6709f93034138',\n",
              " 'f85dd6bab03d372d771dd7815e732e9d',\n",
              " 'fa72bd6f479a51c33c8b92970c834954',\n",
              " 'f9c7abc6102dffc5745d77fac5d6881f',\n",
              " 'fe782e941491ad736e7f05e61394822a',\n",
              " 'f8bfe5da20567378b885109a0c1f1483',\n",
              " 'fb2cb63322ef0e9a7ade9ecd93921eb2',\n",
              " 'ff0765c478714ad10874a62c22f007d5',\n",
              " 'fd369fa622cf7437ddb4066a9d3ee534',\n",
              " 'f5c5fad8b9b0027c2ec2d079e56f5813',\n",
              " 'fcf9a2a6cf1cefed8cea82187d58b503',\n",
              " 'fc7f0d4ae4e277804c859955866c61f4',\n",
              " 'ff71c0a7a71d994884c9f92457f0eda8',\n",
              " 'f90032fc6036df7fab8f6fda5be69824',\n",
              " 'f8a96bab7258625fc41c1dda492cb362',\n",
              " 'f892cc1187e923778d1c2b02bc532fa1',\n",
              " 'f9774f126def6f6c167e15ec1da6b345',\n",
              " 'f85ec079d4adfe655eb159e169baafd7',\n",
              " 'f7773948b9f12b6573a6b935e4281d60',\n",
              " 'fe85f1f57549148a51a1c03b285c3fe5',\n",
              " 'fb367deb8078bceb7a126fdef2f3d6e1',\n",
              " 'f8b0bade51fd9ba4f1cbacdc593c9ea4',\n",
              " 'f5debfc7eda5eead5fd5883846decf4a',\n",
              " 'fb2334233ee3893552cc50da09ff998a',\n",
              " 'fd1a15ec1d742392420d52a2563b2a7b',\n",
              " 'ff454c109c1b07a458ad30d310e9ab4c',\n",
              " 'ffadae851b94ece57602da7edf72d689',\n",
              " 'fa85d9951d7996c4c92ce5dc41d87dcd',\n",
              " 'f643ae3f2d8e15aebe4a417367b3f14e',\n",
              " 'fe646cdb7b5f1e8e7dc704e8db436043',\n",
              " 'f8a99a454fe2bbf5ecfa59952d473506',\n",
              " 'f6460023e12992579ddbe33ca4d7f8ad',\n",
              " 'fb0029a132b9ebc53c0fef18b9616880',\n",
              " 'f9340c0fd1a1bd4bbfb9297e4ae85ccf',\n",
              " 'fa7c8295fa34ce441d4dc8cbe6125a4c',\n",
              " 'ff357aadc868c7b38e17bd5b87de31be',\n",
              " 'f863758735a6cc504d4a80477591eaf6',\n",
              " 'fd4e4a2d384a774b250bef4f031d179c',\n",
              " 'f96e4d193db9461fa6dcdefe15e57d53',\n",
              " 'fd4e99fff3c7203d010fa1fac5ef570d',\n",
              " 'fc50b817f059dbfff5fa1857d7769cc2',\n",
              " 'f790aabc5b0b99798e7a098419a2d8ec',\n",
              " 'f83d03d1949ebedbbe8bb49debac8af9',\n",
              " 'f961d98f88aeda2fd338d3a21dc84e3c',\n",
              " 'fc774c01a474039d7fb7e53019997f4b',\n",
              " 'fb35bfc9d136671490fd914f080c8b09',\n",
              " 'fce2ad0b2f437d53327768b54c8857f2',\n",
              " 'fddaf71e6d20393e50ef962daf60d7a6',\n",
              " 'f8de6b5fe68dfc6c2b8dd8d6126b20df',\n",
              " 'f73ccf304d83adecec019063e20c383c',\n",
              " 'f86bb8a2e851edcf769dd381e04f9e3f',\n",
              " 'f88206f9a29e9461d16a3050b23a1e33',\n",
              " 'fa717a1532249d9c0532378c80c46c8e',\n",
              " 'f96bc5732168cac38f78847a24a61765',\n",
              " 'fe2aaa06247c9c040b23ac9ef6529654',\n",
              " 'f674b20155dca91ac87e2bcef27b757c',\n",
              " 'f77793be1597dd1ea50b22532b38bd23',\n",
              " 'fecd62d8caf2bad07e0cb279ba346939',\n",
              " 'f90f630e3728dfe9428e291af0cc4af5',\n",
              " 'fda5966dca2faea2abde49cff453cad8',\n",
              " 'f717e4f0cce4ff0e658f9f58e59118a7',\n",
              " 'f738e9e1d45191bf89fd0248986edfdc',\n",
              " 'fba60b5a1e775e03b54a6d7a516346ba',\n",
              " 'fc9f45447f2f2bd82a6072afbddfd78d',\n",
              " 'f8e19bd42fded7890ee81454d0a93189',\n",
              " 'f968527661824f3b3b7e640b646a4c3d',\n",
              " 'f9068d19af55c183e80afa192fcb0f85',\n",
              " 'fd35a8d1fde0b1f9c27f604502539c51',\n",
              " 'fbd85ac4b2710dba4e8f2057ef7b9a70',\n",
              " 'faa497fae779c7cf0c755b2f3a9f54a6',\n",
              " 'f95d1a0c5f7ef6ad663421002a0f32c9',\n",
              " 'f62187f85c6b9c519a4fae8bc22762da',\n",
              " 'fc5889bad0b8076465d96960a1add15a',\n",
              " 'fb1b68164e012b72153f660a2f8bbf8d',\n",
              " 'fffbff22c1f51e3dc80c4bf04089545b',\n",
              " 'fb3ad1539cb1708d71e7cce5dc666379',\n",
              " 'fc93fec97f158e4320893cef2a4d9168',\n",
              " 'f8f3c8903f904242b099f1fa4472ff02',\n",
              " 'fae46ef195f8f4319bec175d0affb3d4',\n",
              " 'fce0949968f07d3aa97fe09c9a8829b5',\n",
              " 'f945b071d6bf639baddf368645b305e4',\n",
              " 'ff9742bc22b5830176e85490cf54cdf7',\n",
              " 'ff4c4f194207d48a1c821c11eb994fc9',\n",
              " 'fc29d76d1e3cd3478e9c3121fa50749a',\n",
              " 'fd313930a7c3eddcc73e01fa6789c841',\n",
              " 'fc5dd147bc719dedca53f20ece5ee037',\n",
              " 'f692af396f852049c3a660aa8465728a',\n",
              " 'fe6fb6a0b968aaa4f9b579dbdc6f7a4c',\n",
              " 'fa32a6bd287eb7f7a43300f103187b83',\n",
              " 'fc998028e5d109698b507d07c58aa3f4',\n",
              " 'fb71ea157568f082f0620de5cbc37656',\n",
              " 'ff2dc02fec14b9b6d62002ec24a47da6',\n",
              " 'ff796fdee5dae256d3c1abc49351d273',\n",
              " 'f6074efff140894b18a6b73e8a3886e7',\n",
              " 'fc4612c136578872e14c7a143090e57c',\n",
              " 'f7b489a38302afc010d8a386a1b7d085',\n",
              " 'fb86cc29238bee695f287669a58c5f02',\n",
              " 'f7266c7c804418bf6ea1f644b4efc33c',\n",
              " 'f9c1fec06778d69677c24dacfb9f4840',\n",
              " 'fad571830be4ed3ec12514ac2d448375',\n",
              " 'f5b7603797d8a92d5b7b52d073891347',\n",
              " 'fc405345f9ba08169e24ee81cc1fcaad',\n",
              " 'ff4c5de43a47599022fa29b3778b3604',\n",
              " 'fc7cb4a3ebea16f655d8655a5d85cad5',\n",
              " 'fd3e53915d17804c9206f51f3639e9c3',\n",
              " 'fff1ec9e6e413275984966f745a313b0',\n",
              " 'f5b7912d2f7ab4c4a237ca7008212e7c',\n",
              " 'fc7c34b64c3dc982db60e50b656983fc',\n",
              " 'fde6a7af1944348eb4ecd1268f49a549',\n",
              " 'fe17d3acc0d1a6d805920988c22ad798',\n",
              " 'f7b0596d6f3a5fe9006f04de9cf4ab0f',\n",
              " 'ff4d051fcaca8b199098f2c022aa41e8',\n",
              " 'f82f2b96cfa68795262d097d3128a831',\n",
              " 'fdf31298aa6342c634648f935e9b8ce4',\n",
              " 'fc7576b5d6dcd4b07580a8b692222787',\n",
              " 'fb1493c964bd07227bee28b3afc0477d',\n",
              " 'f661761277c257e1c35c48e72820b882',\n",
              " 'fb0eb902d8e532e4e126c951c405989f',\n",
              " 'f7ee03c39d8a094c75de991e24e4ea55',\n",
              " 'fd5673662a27a76094205ec40cbb5b5d',\n",
              " 'f5a862808a7cd1f4a521c34c5b46d189',\n",
              " 'f5cab113e1dab255ca24447caab54641',\n",
              " 'fc584aa0af57439b8bd9568ab52f9030',\n",
              " 'f8bc858c49172d79608a10cae9418a7e',\n",
              " 'fd70f4e5c855862854cb650d72b9d697',\n",
              " 'fbd60c426c459b27f0671bddacfa568c',\n",
              " 'fedaaac8885104c0f21414a845aad9f4',\n",
              " 'fe7160f5e10ac0b18b549084f4dba763',\n",
              " 'f8e874d412ff17b33dae7fc7b92f6124',\n",
              " 'f5c14e0368f4e364a32d873f7e0aff13',\n",
              " 'fa9f99318fc70441c150beb46013e63c',\n",
              " 'f75a4a49d98f935b65c51a054e138e60',\n",
              " 'f70ea8c1aa5b665a4dd1dd5e6e53b071',\n",
              " 'f6b8af035c42b6836bbf90d0a457bcb4',\n",
              " 'fe4c9d4f84816c83b774e29763a3b9cf',\n",
              " 'f7a32505c12649183c5991ecfa7d68b3',\n",
              " 'fd7148fdd18ad0b4d1c5ff4c4c35f99d',\n",
              " 'f73c6b6891b3e40a6bc9dd26f4e65767',\n",
              " 'f7d9e21e792ce7d02af8faebffb715b4',\n",
              " 'fd0168c8b9fc33a5ba5a58c13d594bd0',\n",
              " 'f8d6584fa27b951bfef528ccf5834ec7',\n",
              " 'f93c47efe039b017caca9484564c5b9a',\n",
              " 'f70cac4fe79479cafd7a0b0180f0eeb7',\n",
              " 'ff7bfd2fea4ed8fc8c43a613df713540',\n",
              " 'fa1b178cee67805d99bf5623944815c1',\n",
              " 'f9c9168b4644003db3269103929cc325',\n",
              " 'fc5628535ed7e4e285796b2a43778fcf',\n",
              " 'f5c67d1ba3029b538cc1a9b8ef2e53fe',\n",
              " 'fb4d76ed1f4fcb08d303ff10997e3cdb',\n",
              " 'ffa316c6db0919d6bad1a5ed483e6722',\n",
              " 'f8b3b0111a3143d4e5251ee190601f63',\n",
              " 'f994e568dfd261f604337a049faebfd8',\n",
              " 'fb03302b030afd122e0f4936c158f6c1',\n",
              " 'fa98e0dd02c4fcc5b5155a1fdaa2cb13',\n",
              " 'ff8f9a768544fda79ffad62576f4d129',\n",
              " 'f9c170fa53653ae4e90af9599a82fca7',\n",
              " 'f6c76521f3eb52045af1c3a5cc05e64f',\n",
              " 'ffbcda9eb84339cc5be15fd9900596a2',\n",
              " 'fbded25bdf39df48ff5a4f0d22e074e8',\n",
              " 'febfae88667a28d9df454cfd697eeddb',\n",
              " 'f8bb4bf1ab951320f8d57cd7827eec64',\n",
              " 'f807e831500c29e7c433c3ad33479f57',\n",
              " 'f789cfce1b5af285046f91ef48234d0a',\n",
              " 'f6e66fbe9abfe44114ba82dee87c4d1e',\n",
              " 'fa3e51b3b0dc0e722f1b1877c2e5d8d1',\n",
              " 'fcfbedce5ff269ee2c0bbdc287e52f62',\n",
              " 'f96722fdd8a6a0e9ff86eee619cec34d',\n",
              " 'fbcbafa79a186a127d572d7d6491fab7',\n",
              " 'f710b7b398babf2e0602e8ee38f1746f',\n",
              " 'ffd06687c72445b0c6e8a130a0a8711a',\n",
              " 'f7f585083fb639c3bfced127e2cd0046',\n",
              " 'fcea2b7ac4d73eafc055b3257effc8a1',\n",
              " 'fa49b444c38455214ce24fa79e662cf4',\n",
              " 'f97e163c3ed39529c99cf141ca6e1adb',\n",
              " 'fec0e1ad18d153c54a71215002ba4f04',\n",
              " 'fbf755d143ddf740111e97c85812d879',\n",
              " 'fa1b7fcead34bd69f791c89c9b989adb',\n",
              " 'fcc4ae9d2d9a24b77de033e5cc966d01',\n",
              " 'f768e77da9ad4b759834f6f8d61cb1e6',\n",
              " 'fc0f848abb459c9dc98c455356788516',\n",
              " 'f65018f7fe15da327e67963c3da66847',\n",
              " 'f73cf800d2f816ce21163dab83a4a72e',\n",
              " 'f83b767c00613828c817ac1436c19e7c',\n",
              " 'f7e3178f426d312a5a06ee7e012efbec',\n",
              " 'fc14e1e96e898ebb963f1861666b7bae',\n",
              " 'f5dcef15272a806b4f0824e9199e9dd5',\n",
              " 'f875e7ccee8e8aa7d4da084916d44dcd',\n",
              " 'feb37df99be2a13acac2d58e13351b41',\n",
              " 'ff066888cfea22e81ca9c125ec5a89f8',\n",
              " 'f8f3aec58161e1911d75543fe802519c',\n",
              " 'ffb3a78e4a162c173219194687eb6054',\n",
              " 'ff7e00f66ebf0042c5ccb74170eecb1a',\n",
              " 'f8017854f9f52f53140234f44cd335f8',\n",
              " 'fb4976cd57d2ddd224460ba2a4292264',\n",
              " 'ffc0233904f4d03afe1484be791e09d6',\n",
              " 'fd04e7236081ae28e353974f05f90bbf',\n",
              " 'f86671821bcfc46718bdb32d106f41a1',\n",
              " 'f62ed18a684c62a90212d9867d30b0f9',\n",
              " 'f645e45c994e1eea2e6090ba8c583fc1',\n",
              " 'fab7c38522b8bb9e71626f6f1a384d8c',\n",
              " 'fd00217f290ccf234938de263f2d5738',\n",
              " 'fbed7dd8cb15a1e33a58e6ec90e66bb3',\n",
              " 'fafd35e78dfe0bfb7c6ee90c12143d56',\n",
              " 'f5e35cdf4d058fb4d1f2372cf9cd1909',\n",
              " 'f74e342ace4cdfbf26dfd2bd32a62cee',\n",
              " 'fd90b95973c9b333e5415a7a02b3323e',\n",
              " 'f871fb71fe4c60adf0b7b8b250c8565c',\n",
              " 'f74be541c9805bf2dc3ed53e46fa28c7',\n",
              " 'f8c95399f717d2e966a009fa05f7051d',\n",
              " 'fe041e832bf172724002ad779f924497',\n",
              " 'fa2f44a5e2c304e76f65bb9fa60ecb10',\n",
              " 'fc7870edf256498d5876033baf56fbe5',\n",
              " 'fc346bf7b0b6af0646a34a73ee8aa4b7',\n",
              " 'fd32579d66aa6223b19085aa600fbc2d',\n",
              " 'f8d6c0291860bf771941cf2ad458ae2b',\n",
              " 'f851fafa6d83cd73c20a38a2abfd21d3',\n",
              " 'ff20371d584e330e288f9a863f484ca5',\n",
              " 'ffb68ded4a2247b3c011840ece0a605c',\n",
              " 'fd71821dd0f03a287edd590a2a02ff7c',\n",
              " 'fec01cfcaffca7c990619633e50b20dd',\n",
              " 'ffe563b1b8c0dcd0797c4362c6754b96',\n",
              " 'f5bdb338a1290c979bb8ff9071c3edd4',\n",
              " 'f7826566ce78595105ec27cdfba5b576',\n",
              " 'ffe9717b7937c262f849416976f7620a',\n",
              " 'fdc0195bf63615ef247a19f4f72d77e7',\n",
              " 'f68c74c33e5a231bd45bff6206401f09',\n",
              " 'f7a0edb3cf98cb3377a4747c499c9c66',\n",
              " 'fc1361e2abbb2911c812d40335ffb8bd',\n",
              " 'fb12bde50fb298866afe3af2cb6f6bcc',\n",
              " 'f7d9d506b828274c866fb9af90a0333e',\n",
              " 'f7730df5cb8a3823cebc4369f2274793',\n",
              " 'f5b4f0c3ae9b723524e53043025bcd64',\n",
              " 'f6bed54631ef1691d12509f5516ce979',\n",
              " 'fb0aa9d598d54e50963be105661944dc',\n",
              " 'fdd27019efbf83419333e00879babd01',\n",
              " 'f9947725537832ca279d1ee1a4170898',\n",
              " 'fba98048d48b74805edfe3143e3865f6',\n",
              " 'fe31b0afef266f7b51e508f1476f2325',\n",
              " 'fc235032843333295c1e43551a715709',\n",
              " 'fdedb2f8f3687f8e51e84236c65b65c3',\n",
              " 'f5f3f3913dabe2ff9d100b81b44e2611',\n",
              " 'ff1ed16edf355507ee740a67a6391d48',\n",
              " 'fc55c69e3b05e5cf68ac5d80c66de819',\n",
              " 'f8bf726f7b37032b5cb7c127c3abc067',\n",
              " 'f90b4f4adae580c4a2ec4fd9abad05da',\n",
              " 'fd3bd010bbf75306ce35f3b5448472a8',\n",
              " 'f603da0e3cfff2ea4d792c96fe5ebac6',\n",
              " 'fd0ff0bd0cebbc2e80ccc96dd40eb7e0',\n",
              " 'fd942564913593fa0eb60b5090ca57cd',\n",
              " 'fefafa1c1b5877561330d0a0fd4d5440',\n",
              " 'f62a52631ede45098ecce8fc96e0a2f6',\n",
              " 'faaf9144e28a76de76ab05c59354f0fb',\n",
              " 'feb4f823c431c9880ace68b2e7e6e3a3',\n",
              " 'f60509afbd5419009e6d1c473dc891c7',\n",
              " 'fa0b392ccbae2b59bf83afd34bd8b610',\n",
              " 'fb174683e8a5eacf6fbf76b1bd0967d8',\n",
              " 'f929dc14403b317454be39940c6ef36f',\n",
              " 'f6bb9fedf0b41301d3c6016a25c51608',\n",
              " 'f6daf862fbea9106bab1ee3742fa213d',\n",
              " 'feafb795bb13571d7e7559d30bdefeb3',\n",
              " 'fa2f75a340b6ecdc3f376c56a6323b01',\n",
              " 'fa30caf6e17cad235b9fb91b048aa70e',\n",
              " 'f9c205daa33974de7da461f2adfb2f8d',\n",
              " 'fac2dfeeb3d9687769744b1fcb81da07',\n",
              " 'fb05fd17b96a9d33288691701da2dffd',\n",
              " 'fcc295e22d155711de90537e5cde7cee',\n",
              " 'f7d9fb4125bb38adb9887b881aabda26',\n",
              " 'fedbfd23108558ac6fa690bf4bfaef0a',\n",
              " 'f719b425410b6eb3e3132702150affd6',\n",
              " 'ffeda8623d4eee33c6d1156a2ecbfcf8',\n",
              " 'fba4684e816c08a6431436047b872629',\n",
              " 'f833a56026b89fba59f04d16ca6881d5',\n",
              " 'fd9fe1a20ed23c2269c4d65e8da97cda',\n",
              " 'fc326a4321cdb058b3f3b9a9690cc9e7',\n",
              " 'f89654f9652fed8140209b60093e6f3c',\n",
              " 'f6dab4e4fcd85420282b12d36f340fcf',\n",
              " 'faad4c377840dd4c67cc6f603db9fb4b',\n",
              " 'fd0242324d7f96c3f891d1991da276ea',\n",
              " 'ffb55dbaa32939c109ef42df0668e077',\n",
              " 'fc39121062e4a0aae5131ab4f1e56e0f',\n",
              " 'ff4a36db5729e157bb6a1e2d75e7e47e',\n",
              " 'f6e209dbbd97aadf518f16d18a807ffb',\n",
              " 'f9ad4003cf9e4005f31608c9cc97f182',\n",
              " 'f741f14f92787ac21b8e72e80aaa5ebe',\n",
              " 'fa83f05aeb164b303af59b9c4d564c6c',\n",
              " 'f8809ca08ad7e84f00061d47d2ba59c0',\n",
              " 'f6d25bad96714bbb31d494239c80deda',\n",
              " 'f9e23db817511ad879ddee9edccebfe7',\n",
              " 'f807b2b2f7546042db17e272dc910009',\n",
              " 'fb34b29b9ff7cc113cf464b3b3aa58b5',\n",
              " 'f940b01cf50eed0a33da733c63fe406a',\n",
              " 'f9d55645721fabc59023fcabac6ff6bd',\n",
              " 'f962a3811b1e9ef273c72076bb73e1f2',\n",
              " 'f742b1108deb763728aa78f8e96ba68a',\n",
              " 'ff8ff2e36aa2a20d5d8585e2f686dbda',\n",
              " 'f5ce3c2361b9e6d24fedab9c20723829',\n",
              " 'f805a687670be49dd8980dd06b612962',\n",
              " 'ff28a67281fa0c35dc577ba62b16b73c',\n",
              " 'f643e7740a59eff3ec171be222c18a1e',\n",
              " 'fdd0bc9db54807ec3cb121827cf69061',\n",
              " 'f9be307623c1963af3e15a7214c2b41c',\n",
              " 'f7bf60b869bd2f685e7f1a7a2bb33bf8',\n",
              " 'fedd9cc1cf0075443e7dfc349d24d412',\n",
              " 'fd40e9d71ecff4b17b53d2be58648fd2',\n",
              " 'fcef727e767ef68b3973bfd25ad41305',\n",
              " 'f9ab19dfaabb001a78fd3f0b6ea12b47',\n",
              " 'f6b8d1787176be43d99bb3aa8fbff45f',\n",
              " 'f7d150e11c972c850159603843939b28',\n",
              " 'f90ace46a8ccf051f6f7ec783ad8e258',\n",
              " 'ffd304c521f43819f3824177fd9efeb0',\n",
              " 'f633f32982dec362ecbf2e265dcff6ca',\n",
              " 'f63b972e0c8fb81fc79a3fe1099b9797',\n",
              " 'fb757be9d9a6676284ea6d67d497160b',\n",
              " 'fe51f63203c392da8660132b9f5f1317',\n",
              " 'f9f0c9be21215d50d8a2994ef0f9f416',\n",
              " 'f5ae72b9aff8a7671358eb22a54229bc',\n",
              " 'f6e5a5912ddc42221f4dfe5194939280',\n",
              " 'f7fda1184e21dcd0cb94086cac9ee762',\n",
              " 'fb4e83088052dc7cf09a2bc7f06d9846',\n",
              " 'ffe42f4b4c50d4f18c2b34500f391152',\n",
              " 'f74343398baf4826045adbe1dc27dd2b',\n",
              " 'feacb0de64a7fddfca983eb6ca11309c',\n",
              " 'fb159dcc18f38882fe46283a8fa8ef72',\n",
              " 'f8bb3821edde56432a481b082247ef74',\n",
              " 'f90ac8934d1349d115a4961c20ee447b',\n",
              " 'f6244044c1433c7067e3129486612ee1',\n",
              " 'f7d2a66a4b9ea177fde652290498e5b2',\n",
              " 'fb0416a56859decbc1f5f6994687b16b',\n",
              " 'fe0940c6a3ab0fb53c961295f656bde7',\n",
              " 'fce7fc57c2c62020fa601080fe52f54b',\n",
              " 'fb814a21b0f5f627c93b7762ec7aa593',\n",
              " 'fa2636ab5c2a0c64a555d5604654053a',\n",
              " 'faf757243722ea255b9b190cd251b9d6',\n",
              " 'fb8111776ff89091ddad841ed013837d',\n",
              " 'feacb43d576eb6d78b38d4eb835d7b20',\n",
              " 'fda5707e5736ef6deceb5e356f36355c',\n",
              " 'fe408b5f82c5de4133f5c105eb54388a',\n",
              " 'fa541fc080cdeffb4dd98da99f673a59',\n",
              " 'f8adb1563005924137ea07d373664cb7',\n",
              " 'fcf30274c748e760029514f152c8419d',\n",
              " 'ff2ff9ee8fcf6085d7aa194f8f3f5673',\n",
              " 'f633268243572d8a8607d5959a0d3456',\n",
              " 'fc28e20d3e3ef312a15b2255e0ba77a6',\n",
              " 'fd0a3ceca8806d5d63f72fb57c0a73c0',\n",
              " 'f9cdb4d856a56b7f0530b0f787877027',\n",
              " 'f5b3e223065e2f8ad10d710f47700ddc',\n",
              " 'f9810c674a581269d3d68e50c8d73b85',\n",
              " 'ffa76e07dc686174c2a55fdbdca68bb3',\n",
              " 'fc00016dee37d944be852f6e8a1aea0f',\n",
              " 'f8c3fb7b00c96ba6881125d7ab0f7bf9',\n",
              " 'fd5d6dd2e57b708630cfaddd768641d6',\n",
              " 'f687b2ec96d346e2c88934855f3c3b12',\n",
              " 'fd1a7be32f10493735555e62913c0841',\n",
              " 'f6cf1d8e56d3d0f75247d790f22cad17',\n",
              " 'feb308ce2a7ad3d84e84807efae21518',\n",
              " 'fe5b0ff9c37898f10c534a8218d054a6',\n",
              " 'f89330d6f8a1f8b6e9ba1723767b8e32',\n",
              " 'fbf4abbd32d544ff9b5df6af25eec3e3',\n",
              " 'fc363e88919e748e7062c9a10f4d38da',\n",
              " 'f74676323a11fdfe1bd36ba5dfa0ac4e',\n",
              " 'ffd3ce0566df4be8049c767a329faaf7',\n",
              " 'fcfb7009fae91553a0ef1a8bca5631a9',\n",
              " 'f6b7274f16f605b9649fd021a5c70046',\n",
              " 'fd5962d71cba77f1845beae10c83941b',\n",
              " 'f85ccd6fb240cd4771e80c1e3aeea571',\n",
              " 'f9e0b683a682ae4407bba6c44e90a8b6',\n",
              " 'fbc804554d1f5a2ab6e3be5a7dba7296',\n",
              " 'ff66c9a0c51b47440e26b1b0ae2c047f',\n",
              " 'f928a71d3356833e8c46734938c04cd7',\n",
              " 'f609908d57eecf338ad04385125da400',\n",
              " 'fcb000b1746ad358f4d99b55571d7b8e',\n",
              " 'fff7d50d848e8014ac1e9172dc6762a3',\n",
              " 'f7d42fab4bea7ca6cd3d1e2970644be5',\n",
              " 'f5fb580dfd19890f200eed7010cedc3a',\n",
              " 'fd219ab54b33aa99a68797431a1b8e07',\n",
              " 'f7f845383fa94fea9722b22a5ab0da73',\n",
              " 'fbfd42217e500b5a9be29fdf0bff987c',\n",
              " 'fbc01bafa35b71eca0fcb7d33537c022',\n",
              " 'ff766d48f0804590391df24f73cb2118',\n",
              " 'f82a903b13fb1d4331d889847d93259f',\n",
              " 'fbffe32a243c4d30623432e558aa2c40',\n",
              " 'f681821203c5ff0a675b6f998767e4ab',\n",
              " 'f5a82b8243ff2845cc9bbe040e70dbf8',\n",
              " 'f86aa3a7e56a78d9931710865d05632d',\n",
              " 'fe3175f577485cbc3cb70a1fd5e0394f',\n",
              " 'fe2c198971a3e83d5229c9db31670227',\n",
              " 'fd9a41c9a7e713e8ff5ffac23fed60e8',\n",
              " 'fd8ad4d4a965089aee101a3da80c4a52',\n",
              " 'f80081668f74c26b7084d8676ba12d9f',\n",
              " 'f8f7740700e41c77da2ecc5953a23e9d',\n",
              " 'fddecc5733b84924673a24acb3829209',\n",
              " 'fb8314da87c341c9845fa2cfe87fbf7f',\n",
              " 'f785b2499ca08a8ec3f20972c358cfd7',\n",
              " 'f85c38afe1945e2c1f70009c2da2b770',\n",
              " 'fdcd8dc270cee25e07e5f89966338985',\n",
              " 'ffbb6663b38e903dbd1efa5dce2d0bbb',\n",
              " 'f74c035f561cf98408151fdd6302dafd',\n",
              " 'fe24773f327279000093a4cb4ee95c5b',\n",
              " 'f87be8b12c3d8767b660e3145deb26d3',\n",
              " 'ffbcf032231bb0b025f9070d42ab7e8f',\n",
              " 'ff8c3ee47324ecf110e147f29747952a',\n",
              " 'fa9cacf553c34c99d08e93dce7dbf3f7',\n",
              " 'fa98868fa1de351dd9c69d08545b3181',\n",
              " 'fa1460c331de2f6e6e5b1c97f1c51047',\n",
              " 'ffb8bceeac5b3f587f67391ad346d454',\n",
              " 'ffe2315cf566e039516f5a4a5e52ff1b',\n",
              " 'f6cc3ff7f1eef6c625b18c1f9d1b384d',\n",
              " 'fdf6e6be8630044c6d14df570849cf44',\n",
              " 'fe9ffddcf66c68e9bb38edcb0c6f44e1',\n",
              " 'fc05ded9ae428c5b6b2fd8c0e809c1ce',\n",
              " 'f8035a1eb017b8f7c2e5c217a57ed39b',\n",
              " 'fa770328b53a68589a12b6f059099ee8',\n",
              " 'fb1b592289ef0685bf0c48fde88bb1bd',\n",
              " 'fcb43284dd6f9699a7029ef1bf80fd9c',\n",
              " 'fab226ee8670c55f8278fba8394da957',\n",
              " 'feef68785ccffe35c8d129bd725783b7',\n",
              " 'fece0bdd67bbce0a72666372365de665',\n",
              " 'fcba7f675d9fcacd449174f2229ca33b',\n",
              " 'f88ac7d8d4dcc50858be35d6bfcf5de3',\n",
              " 'f631f24341f5ed5ab5dc30b1ce3d73df',\n",
              " 'fff74b59b758bbbf13a5793182a9bbe4',\n",
              " 'fddfb38b41332a0c8a6691939170d1ea',\n",
              " ...]"
            ]
          },
          "metadata": {
            "tags": []
          },
          "execution_count": 23
        }
      ]
    },
    {
      "cell_type": "code",
      "metadata": {
        "colab": {
          "base_uri": "https://localhost:8080/",
          "height": 261
        },
        "id": "L3iqhAR8mnGs",
        "outputId": "bc2db3a3-a0c9-42df-8ae7-2a1a8ea6b6ba"
      },
      "source": [
        "preds_df[\"id\"] = test_ids\n",
        "preds_df.head()"
      ],
      "execution_count": 24,
      "outputs": [
        {
          "output_type": "execute_result",
          "data": {
            "text/html": [
              "<div>\n",
              "<style scoped>\n",
              "    .dataframe tbody tr th:only-of-type {\n",
              "        vertical-align: middle;\n",
              "    }\n",
              "\n",
              "    .dataframe tbody tr th {\n",
              "        vertical-align: top;\n",
              "    }\n",
              "\n",
              "    .dataframe thead th {\n",
              "        text-align: right;\n",
              "    }\n",
              "</style>\n",
              "<table border=\"1\" class=\"dataframe\">\n",
              "  <thead>\n",
              "    <tr style=\"text-align: right;\">\n",
              "      <th></th>\n",
              "      <th>id</th>\n",
              "      <th>affenpinscher</th>\n",
              "      <th>afghan_hound</th>\n",
              "      <th>african_hunting_dog</th>\n",
              "      <th>airedale</th>\n",
              "      <th>american_staffordshire_terrier</th>\n",
              "      <th>appenzeller</th>\n",
              "      <th>australian_terrier</th>\n",
              "      <th>basenji</th>\n",
              "      <th>basset</th>\n",
              "      <th>beagle</th>\n",
              "      <th>bedlington_terrier</th>\n",
              "      <th>bernese_mountain_dog</th>\n",
              "      <th>black-and-tan_coonhound</th>\n",
              "      <th>blenheim_spaniel</th>\n",
              "      <th>bloodhound</th>\n",
              "      <th>bluetick</th>\n",
              "      <th>border_collie</th>\n",
              "      <th>border_terrier</th>\n",
              "      <th>borzoi</th>\n",
              "      <th>boston_bull</th>\n",
              "      <th>bouvier_des_flandres</th>\n",
              "      <th>boxer</th>\n",
              "      <th>brabancon_griffon</th>\n",
              "      <th>briard</th>\n",
              "      <th>brittany_spaniel</th>\n",
              "      <th>bull_mastiff</th>\n",
              "      <th>cairn</th>\n",
              "      <th>cardigan</th>\n",
              "      <th>chesapeake_bay_retriever</th>\n",
              "      <th>chihuahua</th>\n",
              "      <th>chow</th>\n",
              "      <th>clumber</th>\n",
              "      <th>cocker_spaniel</th>\n",
              "      <th>collie</th>\n",
              "      <th>curly-coated_retriever</th>\n",
              "      <th>dandie_dinmont</th>\n",
              "      <th>dhole</th>\n",
              "      <th>dingo</th>\n",
              "      <th>doberman</th>\n",
              "      <th>...</th>\n",
              "      <th>norwegian_elkhound</th>\n",
              "      <th>norwich_terrier</th>\n",
              "      <th>old_english_sheepdog</th>\n",
              "      <th>otterhound</th>\n",
              "      <th>papillon</th>\n",
              "      <th>pekinese</th>\n",
              "      <th>pembroke</th>\n",
              "      <th>pomeranian</th>\n",
              "      <th>pug</th>\n",
              "      <th>redbone</th>\n",
              "      <th>rhodesian_ridgeback</th>\n",
              "      <th>rottweiler</th>\n",
              "      <th>saint_bernard</th>\n",
              "      <th>saluki</th>\n",
              "      <th>samoyed</th>\n",
              "      <th>schipperke</th>\n",
              "      <th>scotch_terrier</th>\n",
              "      <th>scottish_deerhound</th>\n",
              "      <th>sealyham_terrier</th>\n",
              "      <th>shetland_sheepdog</th>\n",
              "      <th>shih-tzu</th>\n",
              "      <th>siberian_husky</th>\n",
              "      <th>silky_terrier</th>\n",
              "      <th>soft-coated_wheaten_terrier</th>\n",
              "      <th>staffordshire_bullterrier</th>\n",
              "      <th>standard_poodle</th>\n",
              "      <th>standard_schnauzer</th>\n",
              "      <th>sussex_spaniel</th>\n",
              "      <th>tibetan_mastiff</th>\n",
              "      <th>tibetan_terrier</th>\n",
              "      <th>toy_poodle</th>\n",
              "      <th>toy_terrier</th>\n",
              "      <th>vizsla</th>\n",
              "      <th>walker_hound</th>\n",
              "      <th>weimaraner</th>\n",
              "      <th>welsh_springer_spaniel</th>\n",
              "      <th>west_highland_white_terrier</th>\n",
              "      <th>whippet</th>\n",
              "      <th>wire-haired_fox_terrier</th>\n",
              "      <th>yorkshire_terrier</th>\n",
              "    </tr>\n",
              "  </thead>\n",
              "  <tbody>\n",
              "    <tr>\n",
              "      <th>0</th>\n",
              "      <td>df47feaaf3dfb33cf712cccdddc8060e</td>\n",
              "      <td>NaN</td>\n",
              "      <td>NaN</td>\n",
              "      <td>NaN</td>\n",
              "      <td>NaN</td>\n",
              "      <td>NaN</td>\n",
              "      <td>NaN</td>\n",
              "      <td>NaN</td>\n",
              "      <td>NaN</td>\n",
              "      <td>NaN</td>\n",
              "      <td>NaN</td>\n",
              "      <td>NaN</td>\n",
              "      <td>NaN</td>\n",
              "      <td>NaN</td>\n",
              "      <td>NaN</td>\n",
              "      <td>NaN</td>\n",
              "      <td>NaN</td>\n",
              "      <td>NaN</td>\n",
              "      <td>NaN</td>\n",
              "      <td>NaN</td>\n",
              "      <td>NaN</td>\n",
              "      <td>NaN</td>\n",
              "      <td>NaN</td>\n",
              "      <td>NaN</td>\n",
              "      <td>NaN</td>\n",
              "      <td>NaN</td>\n",
              "      <td>NaN</td>\n",
              "      <td>NaN</td>\n",
              "      <td>NaN</td>\n",
              "      <td>NaN</td>\n",
              "      <td>NaN</td>\n",
              "      <td>NaN</td>\n",
              "      <td>NaN</td>\n",
              "      <td>NaN</td>\n",
              "      <td>NaN</td>\n",
              "      <td>NaN</td>\n",
              "      <td>NaN</td>\n",
              "      <td>NaN</td>\n",
              "      <td>NaN</td>\n",
              "      <td>NaN</td>\n",
              "      <td>...</td>\n",
              "      <td>NaN</td>\n",
              "      <td>NaN</td>\n",
              "      <td>NaN</td>\n",
              "      <td>NaN</td>\n",
              "      <td>NaN</td>\n",
              "      <td>NaN</td>\n",
              "      <td>NaN</td>\n",
              "      <td>NaN</td>\n",
              "      <td>NaN</td>\n",
              "      <td>NaN</td>\n",
              "      <td>NaN</td>\n",
              "      <td>NaN</td>\n",
              "      <td>NaN</td>\n",
              "      <td>NaN</td>\n",
              "      <td>NaN</td>\n",
              "      <td>NaN</td>\n",
              "      <td>NaN</td>\n",
              "      <td>NaN</td>\n",
              "      <td>NaN</td>\n",
              "      <td>NaN</td>\n",
              "      <td>NaN</td>\n",
              "      <td>NaN</td>\n",
              "      <td>NaN</td>\n",
              "      <td>NaN</td>\n",
              "      <td>NaN</td>\n",
              "      <td>NaN</td>\n",
              "      <td>NaN</td>\n",
              "      <td>NaN</td>\n",
              "      <td>NaN</td>\n",
              "      <td>NaN</td>\n",
              "      <td>NaN</td>\n",
              "      <td>NaN</td>\n",
              "      <td>NaN</td>\n",
              "      <td>NaN</td>\n",
              "      <td>NaN</td>\n",
              "      <td>NaN</td>\n",
              "      <td>NaN</td>\n",
              "      <td>NaN</td>\n",
              "      <td>NaN</td>\n",
              "      <td>NaN</td>\n",
              "    </tr>\n",
              "    <tr>\n",
              "      <th>1</th>\n",
              "      <td>e46a2bfb7816324d171c4e07786abc59</td>\n",
              "      <td>NaN</td>\n",
              "      <td>NaN</td>\n",
              "      <td>NaN</td>\n",
              "      <td>NaN</td>\n",
              "      <td>NaN</td>\n",
              "      <td>NaN</td>\n",
              "      <td>NaN</td>\n",
              "      <td>NaN</td>\n",
              "      <td>NaN</td>\n",
              "      <td>NaN</td>\n",
              "      <td>NaN</td>\n",
              "      <td>NaN</td>\n",
              "      <td>NaN</td>\n",
              "      <td>NaN</td>\n",
              "      <td>NaN</td>\n",
              "      <td>NaN</td>\n",
              "      <td>NaN</td>\n",
              "      <td>NaN</td>\n",
              "      <td>NaN</td>\n",
              "      <td>NaN</td>\n",
              "      <td>NaN</td>\n",
              "      <td>NaN</td>\n",
              "      <td>NaN</td>\n",
              "      <td>NaN</td>\n",
              "      <td>NaN</td>\n",
              "      <td>NaN</td>\n",
              "      <td>NaN</td>\n",
              "      <td>NaN</td>\n",
              "      <td>NaN</td>\n",
              "      <td>NaN</td>\n",
              "      <td>NaN</td>\n",
              "      <td>NaN</td>\n",
              "      <td>NaN</td>\n",
              "      <td>NaN</td>\n",
              "      <td>NaN</td>\n",
              "      <td>NaN</td>\n",
              "      <td>NaN</td>\n",
              "      <td>NaN</td>\n",
              "      <td>NaN</td>\n",
              "      <td>...</td>\n",
              "      <td>NaN</td>\n",
              "      <td>NaN</td>\n",
              "      <td>NaN</td>\n",
              "      <td>NaN</td>\n",
              "      <td>NaN</td>\n",
              "      <td>NaN</td>\n",
              "      <td>NaN</td>\n",
              "      <td>NaN</td>\n",
              "      <td>NaN</td>\n",
              "      <td>NaN</td>\n",
              "      <td>NaN</td>\n",
              "      <td>NaN</td>\n",
              "      <td>NaN</td>\n",
              "      <td>NaN</td>\n",
              "      <td>NaN</td>\n",
              "      <td>NaN</td>\n",
              "      <td>NaN</td>\n",
              "      <td>NaN</td>\n",
              "      <td>NaN</td>\n",
              "      <td>NaN</td>\n",
              "      <td>NaN</td>\n",
              "      <td>NaN</td>\n",
              "      <td>NaN</td>\n",
              "      <td>NaN</td>\n",
              "      <td>NaN</td>\n",
              "      <td>NaN</td>\n",
              "      <td>NaN</td>\n",
              "      <td>NaN</td>\n",
              "      <td>NaN</td>\n",
              "      <td>NaN</td>\n",
              "      <td>NaN</td>\n",
              "      <td>NaN</td>\n",
              "      <td>NaN</td>\n",
              "      <td>NaN</td>\n",
              "      <td>NaN</td>\n",
              "      <td>NaN</td>\n",
              "      <td>NaN</td>\n",
              "      <td>NaN</td>\n",
              "      <td>NaN</td>\n",
              "      <td>NaN</td>\n",
              "    </tr>\n",
              "    <tr>\n",
              "      <th>2</th>\n",
              "      <td>e5de4eec61d00ee4834ff0153f90ed41</td>\n",
              "      <td>NaN</td>\n",
              "      <td>NaN</td>\n",
              "      <td>NaN</td>\n",
              "      <td>NaN</td>\n",
              "      <td>NaN</td>\n",
              "      <td>NaN</td>\n",
              "      <td>NaN</td>\n",
              "      <td>NaN</td>\n",
              "      <td>NaN</td>\n",
              "      <td>NaN</td>\n",
              "      <td>NaN</td>\n",
              "      <td>NaN</td>\n",
              "      <td>NaN</td>\n",
              "      <td>NaN</td>\n",
              "      <td>NaN</td>\n",
              "      <td>NaN</td>\n",
              "      <td>NaN</td>\n",
              "      <td>NaN</td>\n",
              "      <td>NaN</td>\n",
              "      <td>NaN</td>\n",
              "      <td>NaN</td>\n",
              "      <td>NaN</td>\n",
              "      <td>NaN</td>\n",
              "      <td>NaN</td>\n",
              "      <td>NaN</td>\n",
              "      <td>NaN</td>\n",
              "      <td>NaN</td>\n",
              "      <td>NaN</td>\n",
              "      <td>NaN</td>\n",
              "      <td>NaN</td>\n",
              "      <td>NaN</td>\n",
              "      <td>NaN</td>\n",
              "      <td>NaN</td>\n",
              "      <td>NaN</td>\n",
              "      <td>NaN</td>\n",
              "      <td>NaN</td>\n",
              "      <td>NaN</td>\n",
              "      <td>NaN</td>\n",
              "      <td>NaN</td>\n",
              "      <td>...</td>\n",
              "      <td>NaN</td>\n",
              "      <td>NaN</td>\n",
              "      <td>NaN</td>\n",
              "      <td>NaN</td>\n",
              "      <td>NaN</td>\n",
              "      <td>NaN</td>\n",
              "      <td>NaN</td>\n",
              "      <td>NaN</td>\n",
              "      <td>NaN</td>\n",
              "      <td>NaN</td>\n",
              "      <td>NaN</td>\n",
              "      <td>NaN</td>\n",
              "      <td>NaN</td>\n",
              "      <td>NaN</td>\n",
              "      <td>NaN</td>\n",
              "      <td>NaN</td>\n",
              "      <td>NaN</td>\n",
              "      <td>NaN</td>\n",
              "      <td>NaN</td>\n",
              "      <td>NaN</td>\n",
              "      <td>NaN</td>\n",
              "      <td>NaN</td>\n",
              "      <td>NaN</td>\n",
              "      <td>NaN</td>\n",
              "      <td>NaN</td>\n",
              "      <td>NaN</td>\n",
              "      <td>NaN</td>\n",
              "      <td>NaN</td>\n",
              "      <td>NaN</td>\n",
              "      <td>NaN</td>\n",
              "      <td>NaN</td>\n",
              "      <td>NaN</td>\n",
              "      <td>NaN</td>\n",
              "      <td>NaN</td>\n",
              "      <td>NaN</td>\n",
              "      <td>NaN</td>\n",
              "      <td>NaN</td>\n",
              "      <td>NaN</td>\n",
              "      <td>NaN</td>\n",
              "      <td>NaN</td>\n",
              "    </tr>\n",
              "    <tr>\n",
              "      <th>3</th>\n",
              "      <td>df645ae75554d4d7130bfa1b72be53ce</td>\n",
              "      <td>NaN</td>\n",
              "      <td>NaN</td>\n",
              "      <td>NaN</td>\n",
              "      <td>NaN</td>\n",
              "      <td>NaN</td>\n",
              "      <td>NaN</td>\n",
              "      <td>NaN</td>\n",
              "      <td>NaN</td>\n",
              "      <td>NaN</td>\n",
              "      <td>NaN</td>\n",
              "      <td>NaN</td>\n",
              "      <td>NaN</td>\n",
              "      <td>NaN</td>\n",
              "      <td>NaN</td>\n",
              "      <td>NaN</td>\n",
              "      <td>NaN</td>\n",
              "      <td>NaN</td>\n",
              "      <td>NaN</td>\n",
              "      <td>NaN</td>\n",
              "      <td>NaN</td>\n",
              "      <td>NaN</td>\n",
              "      <td>NaN</td>\n",
              "      <td>NaN</td>\n",
              "      <td>NaN</td>\n",
              "      <td>NaN</td>\n",
              "      <td>NaN</td>\n",
              "      <td>NaN</td>\n",
              "      <td>NaN</td>\n",
              "      <td>NaN</td>\n",
              "      <td>NaN</td>\n",
              "      <td>NaN</td>\n",
              "      <td>NaN</td>\n",
              "      <td>NaN</td>\n",
              "      <td>NaN</td>\n",
              "      <td>NaN</td>\n",
              "      <td>NaN</td>\n",
              "      <td>NaN</td>\n",
              "      <td>NaN</td>\n",
              "      <td>NaN</td>\n",
              "      <td>...</td>\n",
              "      <td>NaN</td>\n",
              "      <td>NaN</td>\n",
              "      <td>NaN</td>\n",
              "      <td>NaN</td>\n",
              "      <td>NaN</td>\n",
              "      <td>NaN</td>\n",
              "      <td>NaN</td>\n",
              "      <td>NaN</td>\n",
              "      <td>NaN</td>\n",
              "      <td>NaN</td>\n",
              "      <td>NaN</td>\n",
              "      <td>NaN</td>\n",
              "      <td>NaN</td>\n",
              "      <td>NaN</td>\n",
              "      <td>NaN</td>\n",
              "      <td>NaN</td>\n",
              "      <td>NaN</td>\n",
              "      <td>NaN</td>\n",
              "      <td>NaN</td>\n",
              "      <td>NaN</td>\n",
              "      <td>NaN</td>\n",
              "      <td>NaN</td>\n",
              "      <td>NaN</td>\n",
              "      <td>NaN</td>\n",
              "      <td>NaN</td>\n",
              "      <td>NaN</td>\n",
              "      <td>NaN</td>\n",
              "      <td>NaN</td>\n",
              "      <td>NaN</td>\n",
              "      <td>NaN</td>\n",
              "      <td>NaN</td>\n",
              "      <td>NaN</td>\n",
              "      <td>NaN</td>\n",
              "      <td>NaN</td>\n",
              "      <td>NaN</td>\n",
              "      <td>NaN</td>\n",
              "      <td>NaN</td>\n",
              "      <td>NaN</td>\n",
              "      <td>NaN</td>\n",
              "      <td>NaN</td>\n",
              "    </tr>\n",
              "    <tr>\n",
              "      <th>4</th>\n",
              "      <td>e65bf4e655ccf594210174f124e3adf0</td>\n",
              "      <td>NaN</td>\n",
              "      <td>NaN</td>\n",
              "      <td>NaN</td>\n",
              "      <td>NaN</td>\n",
              "      <td>NaN</td>\n",
              "      <td>NaN</td>\n",
              "      <td>NaN</td>\n",
              "      <td>NaN</td>\n",
              "      <td>NaN</td>\n",
              "      <td>NaN</td>\n",
              "      <td>NaN</td>\n",
              "      <td>NaN</td>\n",
              "      <td>NaN</td>\n",
              "      <td>NaN</td>\n",
              "      <td>NaN</td>\n",
              "      <td>NaN</td>\n",
              "      <td>NaN</td>\n",
              "      <td>NaN</td>\n",
              "      <td>NaN</td>\n",
              "      <td>NaN</td>\n",
              "      <td>NaN</td>\n",
              "      <td>NaN</td>\n",
              "      <td>NaN</td>\n",
              "      <td>NaN</td>\n",
              "      <td>NaN</td>\n",
              "      <td>NaN</td>\n",
              "      <td>NaN</td>\n",
              "      <td>NaN</td>\n",
              "      <td>NaN</td>\n",
              "      <td>NaN</td>\n",
              "      <td>NaN</td>\n",
              "      <td>NaN</td>\n",
              "      <td>NaN</td>\n",
              "      <td>NaN</td>\n",
              "      <td>NaN</td>\n",
              "      <td>NaN</td>\n",
              "      <td>NaN</td>\n",
              "      <td>NaN</td>\n",
              "      <td>NaN</td>\n",
              "      <td>...</td>\n",
              "      <td>NaN</td>\n",
              "      <td>NaN</td>\n",
              "      <td>NaN</td>\n",
              "      <td>NaN</td>\n",
              "      <td>NaN</td>\n",
              "      <td>NaN</td>\n",
              "      <td>NaN</td>\n",
              "      <td>NaN</td>\n",
              "      <td>NaN</td>\n",
              "      <td>NaN</td>\n",
              "      <td>NaN</td>\n",
              "      <td>NaN</td>\n",
              "      <td>NaN</td>\n",
              "      <td>NaN</td>\n",
              "      <td>NaN</td>\n",
              "      <td>NaN</td>\n",
              "      <td>NaN</td>\n",
              "      <td>NaN</td>\n",
              "      <td>NaN</td>\n",
              "      <td>NaN</td>\n",
              "      <td>NaN</td>\n",
              "      <td>NaN</td>\n",
              "      <td>NaN</td>\n",
              "      <td>NaN</td>\n",
              "      <td>NaN</td>\n",
              "      <td>NaN</td>\n",
              "      <td>NaN</td>\n",
              "      <td>NaN</td>\n",
              "      <td>NaN</td>\n",
              "      <td>NaN</td>\n",
              "      <td>NaN</td>\n",
              "      <td>NaN</td>\n",
              "      <td>NaN</td>\n",
              "      <td>NaN</td>\n",
              "      <td>NaN</td>\n",
              "      <td>NaN</td>\n",
              "      <td>NaN</td>\n",
              "      <td>NaN</td>\n",
              "      <td>NaN</td>\n",
              "      <td>NaN</td>\n",
              "    </tr>\n",
              "  </tbody>\n",
              "</table>\n",
              "<p>5 rows × 121 columns</p>\n",
              "</div>"
            ],
            "text/plain": [
              "                                 id  ... yorkshire_terrier\n",
              "0  df47feaaf3dfb33cf712cccdddc8060e  ...               NaN\n",
              "1  e46a2bfb7816324d171c4e07786abc59  ...               NaN\n",
              "2  e5de4eec61d00ee4834ff0153f90ed41  ...               NaN\n",
              "3  df645ae75554d4d7130bfa1b72be53ce  ...               NaN\n",
              "4  e65bf4e655ccf594210174f124e3adf0  ...               NaN\n",
              "\n",
              "[5 rows x 121 columns]"
            ]
          },
          "metadata": {
            "tags": []
          },
          "execution_count": 24
        }
      ]
    },
    {
      "cell_type": "code",
      "metadata": {
        "colab": {
          "base_uri": "https://localhost:8080/",
          "height": 345
        },
        "id": "-WlrbV9rnQ0y",
        "outputId": "d6ee17d9-e1ce-42c8-fb4c-52b61bf3e5e9"
      },
      "source": [
        "preds_df[list(unique_breeds)] = test_predictions\n",
        "preds_df.head()"
      ],
      "execution_count": 25,
      "outputs": [
        {
          "output_type": "execute_result",
          "data": {
            "text/html": [
              "<div>\n",
              "<style scoped>\n",
              "    .dataframe tbody tr th:only-of-type {\n",
              "        vertical-align: middle;\n",
              "    }\n",
              "\n",
              "    .dataframe tbody tr th {\n",
              "        vertical-align: top;\n",
              "    }\n",
              "\n",
              "    .dataframe thead th {\n",
              "        text-align: right;\n",
              "    }\n",
              "</style>\n",
              "<table border=\"1\" class=\"dataframe\">\n",
              "  <thead>\n",
              "    <tr style=\"text-align: right;\">\n",
              "      <th></th>\n",
              "      <th>id</th>\n",
              "      <th>affenpinscher</th>\n",
              "      <th>afghan_hound</th>\n",
              "      <th>african_hunting_dog</th>\n",
              "      <th>airedale</th>\n",
              "      <th>american_staffordshire_terrier</th>\n",
              "      <th>appenzeller</th>\n",
              "      <th>australian_terrier</th>\n",
              "      <th>basenji</th>\n",
              "      <th>basset</th>\n",
              "      <th>beagle</th>\n",
              "      <th>bedlington_terrier</th>\n",
              "      <th>bernese_mountain_dog</th>\n",
              "      <th>black-and-tan_coonhound</th>\n",
              "      <th>blenheim_spaniel</th>\n",
              "      <th>bloodhound</th>\n",
              "      <th>bluetick</th>\n",
              "      <th>border_collie</th>\n",
              "      <th>border_terrier</th>\n",
              "      <th>borzoi</th>\n",
              "      <th>boston_bull</th>\n",
              "      <th>bouvier_des_flandres</th>\n",
              "      <th>boxer</th>\n",
              "      <th>brabancon_griffon</th>\n",
              "      <th>briard</th>\n",
              "      <th>brittany_spaniel</th>\n",
              "      <th>bull_mastiff</th>\n",
              "      <th>cairn</th>\n",
              "      <th>cardigan</th>\n",
              "      <th>chesapeake_bay_retriever</th>\n",
              "      <th>chihuahua</th>\n",
              "      <th>chow</th>\n",
              "      <th>clumber</th>\n",
              "      <th>cocker_spaniel</th>\n",
              "      <th>collie</th>\n",
              "      <th>curly-coated_retriever</th>\n",
              "      <th>dandie_dinmont</th>\n",
              "      <th>dhole</th>\n",
              "      <th>dingo</th>\n",
              "      <th>doberman</th>\n",
              "      <th>...</th>\n",
              "      <th>norwegian_elkhound</th>\n",
              "      <th>norwich_terrier</th>\n",
              "      <th>old_english_sheepdog</th>\n",
              "      <th>otterhound</th>\n",
              "      <th>papillon</th>\n",
              "      <th>pekinese</th>\n",
              "      <th>pembroke</th>\n",
              "      <th>pomeranian</th>\n",
              "      <th>pug</th>\n",
              "      <th>redbone</th>\n",
              "      <th>rhodesian_ridgeback</th>\n",
              "      <th>rottweiler</th>\n",
              "      <th>saint_bernard</th>\n",
              "      <th>saluki</th>\n",
              "      <th>samoyed</th>\n",
              "      <th>schipperke</th>\n",
              "      <th>scotch_terrier</th>\n",
              "      <th>scottish_deerhound</th>\n",
              "      <th>sealyham_terrier</th>\n",
              "      <th>shetland_sheepdog</th>\n",
              "      <th>shih-tzu</th>\n",
              "      <th>siberian_husky</th>\n",
              "      <th>silky_terrier</th>\n",
              "      <th>soft-coated_wheaten_terrier</th>\n",
              "      <th>staffordshire_bullterrier</th>\n",
              "      <th>standard_poodle</th>\n",
              "      <th>standard_schnauzer</th>\n",
              "      <th>sussex_spaniel</th>\n",
              "      <th>tibetan_mastiff</th>\n",
              "      <th>tibetan_terrier</th>\n",
              "      <th>toy_poodle</th>\n",
              "      <th>toy_terrier</th>\n",
              "      <th>vizsla</th>\n",
              "      <th>walker_hound</th>\n",
              "      <th>weimaraner</th>\n",
              "      <th>welsh_springer_spaniel</th>\n",
              "      <th>west_highland_white_terrier</th>\n",
              "      <th>whippet</th>\n",
              "      <th>wire-haired_fox_terrier</th>\n",
              "      <th>yorkshire_terrier</th>\n",
              "    </tr>\n",
              "  </thead>\n",
              "  <tbody>\n",
              "    <tr>\n",
              "      <th>0</th>\n",
              "      <td>df47feaaf3dfb33cf712cccdddc8060e</td>\n",
              "      <td>1.61196e-09</td>\n",
              "      <td>3.44086e-12</td>\n",
              "      <td>2.32834e-11</td>\n",
              "      <td>1.40799e-12</td>\n",
              "      <td>5.98033e-09</td>\n",
              "      <td>2.14534e-11</td>\n",
              "      <td>5.32852e-10</td>\n",
              "      <td>1.76493e-10</td>\n",
              "      <td>4.49106e-11</td>\n",
              "      <td>1.84297e-09</td>\n",
              "      <td>5.29733e-14</td>\n",
              "      <td>6.22357e-09</td>\n",
              "      <td>5.95073e-13</td>\n",
              "      <td>2.66395e-08</td>\n",
              "      <td>3.28688e-15</td>\n",
              "      <td>1.21886e-11</td>\n",
              "      <td>1.19793e-08</td>\n",
              "      <td>2.38418e-13</td>\n",
              "      <td>4.40796e-10</td>\n",
              "      <td>3.99063e-11</td>\n",
              "      <td>2.83421e-13</td>\n",
              "      <td>3.95439e-12</td>\n",
              "      <td>1.97963e-10</td>\n",
              "      <td>8.23695e-11</td>\n",
              "      <td>1.06677e-05</td>\n",
              "      <td>1.19701e-14</td>\n",
              "      <td>9.42684e-11</td>\n",
              "      <td>6.76077e-11</td>\n",
              "      <td>1.22097e-11</td>\n",
              "      <td>1.13671e-05</td>\n",
              "      <td>2.65429e-12</td>\n",
              "      <td>2.08955e-10</td>\n",
              "      <td>3.13114e-10</td>\n",
              "      <td>2.81222e-09</td>\n",
              "      <td>4.10381e-15</td>\n",
              "      <td>1.54404e-13</td>\n",
              "      <td>8.28562e-12</td>\n",
              "      <td>3.35177e-12</td>\n",
              "      <td>7.26732e-13</td>\n",
              "      <td>...</td>\n",
              "      <td>1.53728e-13</td>\n",
              "      <td>7.92547e-11</td>\n",
              "      <td>1.125e-12</td>\n",
              "      <td>1.63081e-11</td>\n",
              "      <td>0.999948</td>\n",
              "      <td>1.07531e-08</td>\n",
              "      <td>6.96737e-08</td>\n",
              "      <td>2.58429e-05</td>\n",
              "      <td>4.69993e-12</td>\n",
              "      <td>5.38787e-13</td>\n",
              "      <td>4.42572e-15</td>\n",
              "      <td>1.21052e-14</td>\n",
              "      <td>5.82161e-12</td>\n",
              "      <td>2.23169e-11</td>\n",
              "      <td>6.22246e-07</td>\n",
              "      <td>3.04142e-10</td>\n",
              "      <td>2.66839e-11</td>\n",
              "      <td>2.75708e-14</td>\n",
              "      <td>7.93131e-14</td>\n",
              "      <td>1.32076e-06</td>\n",
              "      <td>2.44035e-10</td>\n",
              "      <td>6.31364e-09</td>\n",
              "      <td>1.15631e-08</td>\n",
              "      <td>1.22175e-09</td>\n",
              "      <td>1.5485e-11</td>\n",
              "      <td>8.52924e-12</td>\n",
              "      <td>2.88824e-12</td>\n",
              "      <td>7.2787e-12</td>\n",
              "      <td>2.44715e-14</td>\n",
              "      <td>4.71957e-08</td>\n",
              "      <td>8.20066e-09</td>\n",
              "      <td>4.05677e-08</td>\n",
              "      <td>2.20215e-11</td>\n",
              "      <td>3.07456e-12</td>\n",
              "      <td>7.0806e-12</td>\n",
              "      <td>3.02453e-09</td>\n",
              "      <td>2.99173e-07</td>\n",
              "      <td>1.06918e-13</td>\n",
              "      <td>1.5853e-08</td>\n",
              "      <td>1.52162e-06</td>\n",
              "    </tr>\n",
              "    <tr>\n",
              "      <th>1</th>\n",
              "      <td>e46a2bfb7816324d171c4e07786abc59</td>\n",
              "      <td>3.17894e-10</td>\n",
              "      <td>3.20088e-14</td>\n",
              "      <td>1.85375e-10</td>\n",
              "      <td>1.95466e-13</td>\n",
              "      <td>8.68222e-07</td>\n",
              "      <td>3.36228e-07</td>\n",
              "      <td>2.26471e-06</td>\n",
              "      <td>0.999593</td>\n",
              "      <td>1.87668e-10</td>\n",
              "      <td>1.44469e-07</td>\n",
              "      <td>2.03675e-09</td>\n",
              "      <td>5.92063e-12</td>\n",
              "      <td>1.10664e-11</td>\n",
              "      <td>7.59322e-09</td>\n",
              "      <td>6.66672e-11</td>\n",
              "      <td>1.07453e-10</td>\n",
              "      <td>6.06718e-10</td>\n",
              "      <td>6.86744e-10</td>\n",
              "      <td>2.8105e-11</td>\n",
              "      <td>1.3714e-09</td>\n",
              "      <td>8.18679e-12</td>\n",
              "      <td>1.00465e-09</td>\n",
              "      <td>4.08705e-10</td>\n",
              "      <td>7.98117e-13</td>\n",
              "      <td>2.6706e-10</td>\n",
              "      <td>1.88958e-13</td>\n",
              "      <td>2.03424e-10</td>\n",
              "      <td>1.14916e-05</td>\n",
              "      <td>8.09342e-11</td>\n",
              "      <td>7.07004e-08</td>\n",
              "      <td>4.19179e-10</td>\n",
              "      <td>8.6505e-13</td>\n",
              "      <td>1.01143e-13</td>\n",
              "      <td>2.06352e-09</td>\n",
              "      <td>8.75542e-11</td>\n",
              "      <td>1.11979e-14</td>\n",
              "      <td>1.37751e-08</td>\n",
              "      <td>5.86843e-06</td>\n",
              "      <td>2.54069e-10</td>\n",
              "      <td>...</td>\n",
              "      <td>3.98128e-08</td>\n",
              "      <td>9.75653e-12</td>\n",
              "      <td>2.45684e-11</td>\n",
              "      <td>2.453e-13</td>\n",
              "      <td>4.44202e-08</td>\n",
              "      <td>2.08894e-11</td>\n",
              "      <td>4.48524e-06</td>\n",
              "      <td>7.26081e-11</td>\n",
              "      <td>3.35534e-10</td>\n",
              "      <td>9.14727e-08</td>\n",
              "      <td>2.06103e-09</td>\n",
              "      <td>7.40757e-13</td>\n",
              "      <td>1.78977e-11</td>\n",
              "      <td>3.20656e-11</td>\n",
              "      <td>1.8672e-10</td>\n",
              "      <td>1.0017e-08</td>\n",
              "      <td>4.42345e-11</td>\n",
              "      <td>4.78339e-11</td>\n",
              "      <td>3.828e-11</td>\n",
              "      <td>1.22619e-10</td>\n",
              "      <td>3.76022e-09</td>\n",
              "      <td>3.04148e-08</td>\n",
              "      <td>1.34791e-07</td>\n",
              "      <td>2.77854e-10</td>\n",
              "      <td>1.31859e-09</td>\n",
              "      <td>1.09374e-11</td>\n",
              "      <td>4.616e-11</td>\n",
              "      <td>6.4806e-13</td>\n",
              "      <td>3.30366e-13</td>\n",
              "      <td>1.88458e-11</td>\n",
              "      <td>3.44167e-07</td>\n",
              "      <td>0.000112944</td>\n",
              "      <td>6.6752e-09</td>\n",
              "      <td>1.69071e-06</td>\n",
              "      <td>6.80441e-10</td>\n",
              "      <td>5.92343e-09</td>\n",
              "      <td>5.57415e-09</td>\n",
              "      <td>7.00589e-08</td>\n",
              "      <td>1.88822e-08</td>\n",
              "      <td>2.56981e-10</td>\n",
              "    </tr>\n",
              "    <tr>\n",
              "      <th>2</th>\n",
              "      <td>e5de4eec61d00ee4834ff0153f90ed41</td>\n",
              "      <td>4.27301e-09</td>\n",
              "      <td>1.8414e-13</td>\n",
              "      <td>1.11785e-09</td>\n",
              "      <td>1.10664e-10</td>\n",
              "      <td>7.22501e-11</td>\n",
              "      <td>1.16924e-05</td>\n",
              "      <td>7.22326e-07</td>\n",
              "      <td>0.000555337</td>\n",
              "      <td>9.78565e-11</td>\n",
              "      <td>1.72204e-07</td>\n",
              "      <td>1.12471e-12</td>\n",
              "      <td>5.61475e-06</td>\n",
              "      <td>3.19121e-09</td>\n",
              "      <td>8.96468e-09</td>\n",
              "      <td>6.1726e-12</td>\n",
              "      <td>1.56086e-10</td>\n",
              "      <td>9.55186e-07</td>\n",
              "      <td>7.99785e-12</td>\n",
              "      <td>9.66919e-08</td>\n",
              "      <td>5.34925e-11</td>\n",
              "      <td>1.30223e-12</td>\n",
              "      <td>2.23705e-13</td>\n",
              "      <td>1.57456e-13</td>\n",
              "      <td>9.01699e-12</td>\n",
              "      <td>8.34153e-08</td>\n",
              "      <td>2.40414e-13</td>\n",
              "      <td>1.74604e-10</td>\n",
              "      <td>1.31652e-05</td>\n",
              "      <td>1.00012e-10</td>\n",
              "      <td>1.19407e-07</td>\n",
              "      <td>3.41525e-08</td>\n",
              "      <td>2.56724e-12</td>\n",
              "      <td>7.05523e-11</td>\n",
              "      <td>1.19703e-06</td>\n",
              "      <td>6.52978e-11</td>\n",
              "      <td>1.53339e-11</td>\n",
              "      <td>1.97418e-07</td>\n",
              "      <td>4.31401e-09</td>\n",
              "      <td>1.41566e-10</td>\n",
              "      <td>...</td>\n",
              "      <td>1.26193e-07</td>\n",
              "      <td>1.83583e-07</td>\n",
              "      <td>1.09725e-10</td>\n",
              "      <td>9.71679e-09</td>\n",
              "      <td>1.00777e-06</td>\n",
              "      <td>1.43315e-09</td>\n",
              "      <td>0.999301</td>\n",
              "      <td>1.10322e-09</td>\n",
              "      <td>3.00328e-12</td>\n",
              "      <td>6.40536e-10</td>\n",
              "      <td>4.37618e-13</td>\n",
              "      <td>8.66561e-11</td>\n",
              "      <td>1.54382e-08</td>\n",
              "      <td>3.7188e-10</td>\n",
              "      <td>7.22425e-09</td>\n",
              "      <td>1.6949e-06</td>\n",
              "      <td>1.01102e-09</td>\n",
              "      <td>1.49047e-11</td>\n",
              "      <td>1.07289e-11</td>\n",
              "      <td>4.92782e-06</td>\n",
              "      <td>1.34003e-09</td>\n",
              "      <td>1.47905e-07</td>\n",
              "      <td>2.36387e-07</td>\n",
              "      <td>7.56329e-10</td>\n",
              "      <td>3.09975e-11</td>\n",
              "      <td>1.60226e-10</td>\n",
              "      <td>7.86962e-10</td>\n",
              "      <td>8.08168e-14</td>\n",
              "      <td>2.3197e-11</td>\n",
              "      <td>7.2096e-10</td>\n",
              "      <td>3.53046e-09</td>\n",
              "      <td>4.605e-05</td>\n",
              "      <td>9.58619e-12</td>\n",
              "      <td>2.74033e-08</td>\n",
              "      <td>8.79864e-12</td>\n",
              "      <td>2.79368e-08</td>\n",
              "      <td>1.50221e-07</td>\n",
              "      <td>2.71949e-12</td>\n",
              "      <td>2.23927e-06</td>\n",
              "      <td>7.41861e-11</td>\n",
              "    </tr>\n",
              "    <tr>\n",
              "      <th>3</th>\n",
              "      <td>df645ae75554d4d7130bfa1b72be53ce</td>\n",
              "      <td>5.22772e-14</td>\n",
              "      <td>3.37155e-14</td>\n",
              "      <td>1.63818e-11</td>\n",
              "      <td>5.28355e-12</td>\n",
              "      <td>7.16004e-08</td>\n",
              "      <td>1.8326e-13</td>\n",
              "      <td>6.62512e-13</td>\n",
              "      <td>1.08791e-13</td>\n",
              "      <td>8.4824e-11</td>\n",
              "      <td>4.28974e-10</td>\n",
              "      <td>7.51674e-08</td>\n",
              "      <td>2.83391e-12</td>\n",
              "      <td>1.54517e-08</td>\n",
              "      <td>1.208e-14</td>\n",
              "      <td>2.49776e-11</td>\n",
              "      <td>2.19291e-09</td>\n",
              "      <td>4.64612e-10</td>\n",
              "      <td>3.10033e-12</td>\n",
              "      <td>5.83756e-14</td>\n",
              "      <td>3.53495e-11</td>\n",
              "      <td>1.02796e-10</td>\n",
              "      <td>1.61081e-11</td>\n",
              "      <td>1.58687e-14</td>\n",
              "      <td>6.45505e-13</td>\n",
              "      <td>1.34345e-11</td>\n",
              "      <td>2.85591e-11</td>\n",
              "      <td>1.40274e-12</td>\n",
              "      <td>8.35617e-15</td>\n",
              "      <td>1.54815e-06</td>\n",
              "      <td>5.42729e-11</td>\n",
              "      <td>6.21394e-14</td>\n",
              "      <td>2.25812e-10</td>\n",
              "      <td>4.45191e-14</td>\n",
              "      <td>3.63082e-12</td>\n",
              "      <td>2.24931e-07</td>\n",
              "      <td>1.1162e-12</td>\n",
              "      <td>1.07764e-13</td>\n",
              "      <td>4.66063e-12</td>\n",
              "      <td>9.26521e-07</td>\n",
              "      <td>...</td>\n",
              "      <td>1.93195e-12</td>\n",
              "      <td>2.14808e-13</td>\n",
              "      <td>7.98161e-11</td>\n",
              "      <td>8.05357e-12</td>\n",
              "      <td>2.30318e-13</td>\n",
              "      <td>1.03191e-14</td>\n",
              "      <td>1.27943e-13</td>\n",
              "      <td>9.82481e-12</td>\n",
              "      <td>3.01515e-11</td>\n",
              "      <td>7.34994e-11</td>\n",
              "      <td>1.60294e-10</td>\n",
              "      <td>6.38595e-12</td>\n",
              "      <td>4.89207e-11</td>\n",
              "      <td>1.06824e-12</td>\n",
              "      <td>2.53237e-13</td>\n",
              "      <td>7.32305e-12</td>\n",
              "      <td>9.67321e-12</td>\n",
              "      <td>2.32918e-09</td>\n",
              "      <td>1.35811e-13</td>\n",
              "      <td>1.67266e-13</td>\n",
              "      <td>8.54042e-12</td>\n",
              "      <td>4.9176e-12</td>\n",
              "      <td>4.18407e-10</td>\n",
              "      <td>1.64421e-09</td>\n",
              "      <td>9.34074e-12</td>\n",
              "      <td>5.7757e-11</td>\n",
              "      <td>3.14671e-12</td>\n",
              "      <td>1.67406e-10</td>\n",
              "      <td>4.05658e-12</td>\n",
              "      <td>1.6544e-10</td>\n",
              "      <td>5.9688e-12</td>\n",
              "      <td>1.49289e-13</td>\n",
              "      <td>2.2305e-06</td>\n",
              "      <td>4.15837e-10</td>\n",
              "      <td>0.999965</td>\n",
              "      <td>3.22458e-13</td>\n",
              "      <td>1.42652e-11</td>\n",
              "      <td>2.97464e-12</td>\n",
              "      <td>8.13038e-13</td>\n",
              "      <td>6.13453e-11</td>\n",
              "    </tr>\n",
              "    <tr>\n",
              "      <th>4</th>\n",
              "      <td>e65bf4e655ccf594210174f124e3adf0</td>\n",
              "      <td>9.61375e-11</td>\n",
              "      <td>1.30428e-08</td>\n",
              "      <td>1.24693e-08</td>\n",
              "      <td>1.47886e-07</td>\n",
              "      <td>6.65842e-09</td>\n",
              "      <td>6.37447e-12</td>\n",
              "      <td>2.42288e-05</td>\n",
              "      <td>4.12835e-09</td>\n",
              "      <td>0.000176756</td>\n",
              "      <td>2.90391e-09</td>\n",
              "      <td>1.43978e-06</td>\n",
              "      <td>2.6833e-06</td>\n",
              "      <td>7.10821e-13</td>\n",
              "      <td>2.87124e-10</td>\n",
              "      <td>1.94605e-11</td>\n",
              "      <td>3.11715e-08</td>\n",
              "      <td>8.09616e-08</td>\n",
              "      <td>7.38325e-07</td>\n",
              "      <td>4.08757e-12</td>\n",
              "      <td>1.91027e-08</td>\n",
              "      <td>6.51724e-11</td>\n",
              "      <td>8.83524e-11</td>\n",
              "      <td>2.27472e-11</td>\n",
              "      <td>7.86665e-08</td>\n",
              "      <td>7.14116e-11</td>\n",
              "      <td>1.56465e-11</td>\n",
              "      <td>4.08411e-06</td>\n",
              "      <td>1.58745e-07</td>\n",
              "      <td>8.44115e-12</td>\n",
              "      <td>1.5803e-10</td>\n",
              "      <td>1.27236e-10</td>\n",
              "      <td>5.77955e-11</td>\n",
              "      <td>6.77881e-06</td>\n",
              "      <td>7.95993e-11</td>\n",
              "      <td>2.11646e-11</td>\n",
              "      <td>0.989294</td>\n",
              "      <td>2.53836e-12</td>\n",
              "      <td>6.33322e-13</td>\n",
              "      <td>4.66798e-11</td>\n",
              "      <td>...</td>\n",
              "      <td>2.23149e-10</td>\n",
              "      <td>3.49043e-05</td>\n",
              "      <td>4.01814e-05</td>\n",
              "      <td>8.00141e-08</td>\n",
              "      <td>1.00633e-10</td>\n",
              "      <td>1.21409e-09</td>\n",
              "      <td>6.44399e-06</td>\n",
              "      <td>2.63708e-12</td>\n",
              "      <td>1.18025e-10</td>\n",
              "      <td>1.29779e-09</td>\n",
              "      <td>2.22606e-12</td>\n",
              "      <td>1.53484e-10</td>\n",
              "      <td>1.80936e-09</td>\n",
              "      <td>5.1619e-11</td>\n",
              "      <td>2.54825e-12</td>\n",
              "      <td>3.44675e-11</td>\n",
              "      <td>1.1033e-07</td>\n",
              "      <td>3.15048e-08</td>\n",
              "      <td>6.38674e-06</td>\n",
              "      <td>1.7458e-11</td>\n",
              "      <td>0.000388352</td>\n",
              "      <td>1.28475e-10</td>\n",
              "      <td>8.50976e-07</td>\n",
              "      <td>1.39452e-07</td>\n",
              "      <td>1.14893e-09</td>\n",
              "      <td>7.6068e-09</td>\n",
              "      <td>1.64739e-06</td>\n",
              "      <td>7.70807e-09</td>\n",
              "      <td>4.40731e-10</td>\n",
              "      <td>0.0040264</td>\n",
              "      <td>1.20775e-06</td>\n",
              "      <td>2.05287e-08</td>\n",
              "      <td>6.50874e-13</td>\n",
              "      <td>2.0804e-10</td>\n",
              "      <td>1.42894e-09</td>\n",
              "      <td>5.70339e-08</td>\n",
              "      <td>1.54162e-06</td>\n",
              "      <td>2.05279e-05</td>\n",
              "      <td>0.000311028</td>\n",
              "      <td>1.31887e-06</td>\n",
              "    </tr>\n",
              "  </tbody>\n",
              "</table>\n",
              "<p>5 rows × 121 columns</p>\n",
              "</div>"
            ],
            "text/plain": [
              "                                 id  ... yorkshire_terrier\n",
              "0  df47feaaf3dfb33cf712cccdddc8060e  ...       1.52162e-06\n",
              "1  e46a2bfb7816324d171c4e07786abc59  ...       2.56981e-10\n",
              "2  e5de4eec61d00ee4834ff0153f90ed41  ...       7.41861e-11\n",
              "3  df645ae75554d4d7130bfa1b72be53ce  ...       6.13453e-11\n",
              "4  e65bf4e655ccf594210174f124e3adf0  ...       1.31887e-06\n",
              "\n",
              "[5 rows x 121 columns]"
            ]
          },
          "metadata": {
            "tags": []
          },
          "execution_count": 25
        }
      ]
    },
    {
      "cell_type": "code",
      "metadata": {
        "id": "AEuxlUc7ntFy"
      },
      "source": [
        "# export predictions dataframe to csv file\n",
        "preds_df.to_csv(\"drive/MyDrive/Dog Vision/pred file/full_model_submission_mobilenet_v2.csv\",\n",
        "                 index=False)"
      ],
      "execution_count": 29,
      "outputs": []
    }
  ]
}